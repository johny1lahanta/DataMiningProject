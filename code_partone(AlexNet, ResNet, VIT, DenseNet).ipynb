{
 "cells": [
  {
   "cell_type": "code",
   "execution_count": 1,
   "id": "cbe1a577",
   "metadata": {},
   "outputs": [],
   "source": [
    "import os\n",
    "import platform\n",
    "import time\n",
    "import itertools\n",
    "import glob as glob \n",
    "\n",
    "import numpy as np\n",
    "import pandas as pd\n",
    "import seaborn as sns\n",
    "import cv2 as cv\n",
    "import matplotlib.pyplot as plt\n",
    "\n",
    "from PIL import Image\n",
    "\n",
    "from sklearn.metrics import confusion_matrix, classification_report, multilabel_confusion_matrix, ConfusionMatrixDisplay, average_precision_score, recall_score, f1_score\n",
    "from sklearn.model_selection import train_test_split\n",
    "from sklearn.metrics import roc_auc_score, roc_curve\n",
    "\n",
    "import torch\n",
    "import torch.nn as nn\n",
    "import torchvision.models as models\n",
    "from sklearn.model_selection import RandomizedSearchCV\n",
    "from sklearn.base import BaseEstimator\n",
    "from scipy.stats import uniform, loguniform, randint\n",
    "import numpy as np\n",
    "from tqdm import tqdm\n",
    "import pandas as pd\n",
    "import os\n",
    "from PIL import Image\n",
    "from torch.utils.data import Dataset, DataLoader\n",
    "from torchvision import transforms\n"
   ]
  },
  {
   "cell_type": "code",
   "execution_count": 2,
   "id": "be94792c",
   "metadata": {},
   "outputs": [],
   "source": [
    "DATA_DIR = 'dataset_full'\n",
    "CSV_PATH = 'dataset_full/labels_updated.csv' \n",
    "\n",
    "DATA_DIR_SMALL = 'testing'\n",
    "CSV_PATH_SMALL = 'testing/labels_updated.csv'\n",
    "\n",
    "\n",
    "EXPERIMENT_PATH = 'real'\n",
    "\n",
    "BATCH_SIZE = 48\n",
    "EPOCHS = 20\n",
    "LEARNING_RATE = 15e-4\n",
    "\n",
    "IMAGE_SIZE = (256, 256)\n",
    "CHANNELS = 3\n",
    "INPUT_SHAPE = IMAGE_SIZE + (CHANNELS,)\n"
   ]
  },
  {
   "cell_type": "code",
   "execution_count": 3,
   "id": "5b115f62",
   "metadata": {},
   "outputs": [],
   "source": [
    "df = pd.read_csv(CSV_PATH)\n",
    "df\n",
    "\n",
    "df_small = pd.read_csv(CSV_PATH_SMALL)"
   ]
  },
  {
   "cell_type": "code",
   "execution_count": 4,
   "id": "3014ec7a",
   "metadata": {},
   "outputs": [
    {
     "name": "stdout",
     "output_type": "stream",
     "text": [
      "Number of total images:\n",
      "train=35348, val=4418, test=4419\n"
     ]
    }
   ],
   "source": [
    "train_df = df[df['split'] == 'train']  # Filter for train split\n",
    "val_df = df[df['split'] == 'valid']   # Filter for valid split\n",
    "test_df = df[df['split'] == 'test']\n",
    "\n",
    "print(f'Number of total images:\\ntrain={len(train_df)}, val={len(val_df)}, test={len(test_df)}')"
   ]
  },
  {
   "cell_type": "code",
   "execution_count": 5,
   "id": "f8c45db2",
   "metadata": {},
   "outputs": [
    {
     "name": "stdout",
     "output_type": "stream",
     "text": [
      "Number of total images (small datasaet):\n",
      "train=14139, val=1767, test=1768\n"
     ]
    }
   ],
   "source": [
    "train_df_small = df_small[df_small['split'] == 'train']  # Filter for train split\n",
    "val_df_small = df_small[df_small['split'] == 'valid']   # Filter for valid split\n",
    "test_df_small = df_small[df_small['split'] == 'test']\n",
    "\n",
    "print(f'Number of total images (small datasaet):\\ntrain={len(train_df_small)}, val={len(val_df_small)}, test={len(test_df_small)}')"
   ]
  },
  {
   "cell_type": "code",
   "execution_count": null,
   "id": "e39789c1",
   "metadata": {},
   "outputs": [],
   "source": []
  },
  {
   "cell_type": "code",
   "execution_count": 7,
   "id": "c0dc07e4",
   "metadata": {},
   "outputs": [],
   "source": [
    "from torchvision import transforms\n",
    "from torch.utils.data import Dataset\n",
    "from PIL import Image\n",
    "import torch\n",
    "\n",
    "imagenet_mean = [0.485, 0.456, 0.406]\n",
    "imagenet_std  = [0.229, 0.224, 0.225]\n",
    "\n",
    "class CXRDataset(Dataset):\n",
    "    def __init__(self, dataframe, size='big',transform=None):\n",
    "        self.dataframe = dataframe\n",
    "        self.transform = transform\n",
    "        self.size = size\n",
    "\n",
    "    def __len__(self):\n",
    "        return len(self.dataframe)\n",
    "\n",
    "    def __getitem__(self, idx):\n",
    "        row = self.dataframe.iloc[idx]\n",
    "        if self.size == 'big':\n",
    "            path=os.path.join(DATA_DIR,row['split'],row['image_name'])\n",
    "        elif self.size == 'small':\n",
    "            path=os.path.join(DATA_DIR_SMALL,row['split'],row['image_name'])\n",
    "\n",
    "        img = Image.open(path).convert('RGB')\n",
    "\n",
    "        if self.transform:\n",
    "            img = self.transform(img)\n",
    "\n",
    "        labels = torch.tensor([\n",
    "            row['Atelectasis'],\n",
    "            row['Cardiomegaly'],\n",
    "            row['Consolidation'],\n",
    "            row['Edema'],\n",
    "            row['Enlarged Cardiomediastinum'],\n",
    "            row['Fracture'],\n",
    "            row['Lung Lesion'],\n",
    "            row['Lung Opacity'],\n",
    "            row['No Finding'],\n",
    "            row['Pleural Effusion'],\n",
    "            row['Pneumonia'],\n",
    "            row['Pneumothorax'],\n",
    "        ], dtype=torch.float32)\n",
    "\n",
    "        return img, labels\n"
   ]
  },
  {
   "cell_type": "code",
   "execution_count": 8,
   "id": "e04e5a85",
   "metadata": {},
   "outputs": [],
   "source": [
    "train_transform = transforms.Compose([\n",
    "    transforms.Resize((256, 256)),\n",
    "    transforms.CenterCrop(224),\n",
    "    transforms.RandomHorizontalFlip(),\n",
    "    transforms.RandomRotation(degrees=15),\n",
    "    transforms.ToTensor(),\n",
    "    transforms.Normalize(mean=imagenet_mean, std=imagenet_std),\n",
    "])\n",
    "\n",
    "eval_transform = transforms.Compose([\n",
    "    transforms.Resize((224, 224)),\n",
    "    transforms.ToTensor(),\n",
    "    transforms.Normalize(mean=imagenet_mean, std=imagenet_std),\n",
    "])\n",
    "\n",
    "\n",
    "\n",
    "train_dataset = CXRDataset(train_df, transform=train_transform)\n",
    "val_dataset   = CXRDataset(val_df, transform=eval_transform)\n",
    "test_dataset  = CXRDataset(test_df, transform=eval_transform)\n",
    "\n",
    "\n",
    "train_dataset_small = CXRDataset(train_df_small,transform=train_transform, size='small')\n",
    "val_dataset_small = CXRDataset(val_df_small,transform=eval_transform, size='small')\n",
    "\n",
    "from torch.utils.data import DataLoader\n",
    "\n",
    "train_loader = DataLoader(train_dataset, batch_size=BATCH_SIZE, shuffle=True)\n",
    "val_loader   = DataLoader(val_dataset, batch_size=BATCH_SIZE, shuffle=False)\n",
    "test_loader  = DataLoader(test_dataset, batch_size=BATCH_SIZE, shuffle=False)\n"
   ]
  },
  {
   "cell_type": "code",
   "execution_count": null,
   "id": "506e1be3",
   "metadata": {},
   "outputs": [],
   "source": [
    "import torch.optim.rmsprop\n",
    "\n",
    "\n",
    "param_grid = {\n",
    "    'learning_rate': [1e-5, 5e-5, 15e-4, 1e-4, 5e-4, 1e-3, 5e-3],  \n",
    "    'batch_size': [16, 32, 48, 64],\n",
    "    'optimizer': ['adam', 'adamw', 'rmsprop'],\n",
    "    'dropout': [0.0, 0.1, 0.2, 0.3, 0.4, 0.5],  \n",
    "    'weight_decay': [0.0, 1e-6, 1e-5,1e-4]  \n",
    "}\n",
    "\n",
    "def calculate_auc(outputs, targets):\n",
    "    \"\"\"Calculate AUC for each label and return the mean AUC\"\"\"\n",
    "    outputs_np = outputs.detach().cpu().numpy()\n",
    "    targets_np = targets.detach().cpu().numpy()\n",
    "\n",
    "    auc_scores = []\n",
    "    for i in range(targets_np.shape[1]):\n",
    "        try:\n",
    "            # Skip if all values are the same (cannot calculate AUC)\n",
    "            if len(np.unique(targets_np[:, i])) > 1:\n",
    "                auc = roc_auc_score(targets_np[:, i], outputs_np[:, i])\n",
    "                auc_scores.append(auc)\n",
    "        except ValueError:\n",
    "            continue\n",
    "\n",
    "    if auc_scores:\n",
    "        return np.mean(auc_scores)\n",
    "    else:\n",
    "        return 0.0\n",
    "    \n",
    "class PyTorchClassifier(BaseEstimator):\n",
    "    def __init__(self, model_name='densenet121', learning_rate=1e-4, batch_size=48,\n",
    "                 optimizer='adam', dropout=0.0, weight_decay=0.0, epochs=3):\n",
    "        self.model_name = model_name\n",
    "        self.learning_rate = learning_rate\n",
    "        self.batch_size = batch_size\n",
    "        self.optimizer = optimizer\n",
    "        self.dropout = dropout\n",
    "        self.weight_decay = weight_decay\n",
    "        self.epochs = epochs\n",
    "        self.device = torch.device(\"cuda\" if torch.cuda.is_available() else \"cpu\")\n",
    "\n",
    "    def _create_model(self):\n",
    "        num_labels = 12\n",
    "\n",
    "        if self.model_name == 'alexnet':\n",
    "            model = models.alexnet(weights='IMAGENET1K_V1')\n",
    "            # Modify the classifier\n",
    "            model.classifier = nn.Sequential(\n",
    "                nn.Dropout(self.dropout),\n",
    "                nn.Linear(model.classifier[1].in_features, num_labels),\n",
    "                nn.Sigmoid()\n",
    "            )\n",
    "\n",
    "        elif self.model_name == 'densenet121':\n",
    "            model = models.densenet121(weights='IMAGENET1K_V1')\n",
    "            # Modify the classifier\n",
    "            model.classifier = nn.Sequential(\n",
    "                nn.Dropout(self.dropout),\n",
    "                nn.Linear(model.classifier.in_features, num_labels),\n",
    "                nn.Sigmoid()\n",
    "            )\n",
    "\n",
    "        elif self.model_name == 'resnet101':\n",
    "            model = models.resnet101(weights='IMAGENET1K_V1')\n",
    "            # Modify the fully connected layer\n",
    "            model.fc = nn.Sequential(\n",
    "                nn.Dropout(self.dropout),\n",
    "                nn.Linear(model.fc.in_features, num_labels),\n",
    "                nn.Sigmoid()\n",
    "            )\n",
    "\n",
    "        elif self.model_name == 'vit_b_16':\n",
    "            model = models.vit_b_16(weights='IMAGENET1K_V1')\n",
    "            # Modify the head\n",
    "            model.heads = nn.Sequential(\n",
    "                nn.Dropout(self.dropout),\n",
    "                nn.Linear(model.heads.head.in_features, num_labels),\n",
    "                nn.Sigmoid()\n",
    "            )\n",
    "\n",
    "        else:\n",
    "            raise ValueError(f\"Unsupported model: {self.model_name}\")\n",
    "\n",
    "        return model.to(self.device)\n",
    "\n",
    "    def _create_optimizer(self, model):\n",
    "        if self.optimizer == 'adam':\n",
    "            return torch.optim.Adam(model.parameters(), lr=self.learning_rate,\n",
    "                                  weight_decay=self.weight_decay)\n",
    "        elif self.optimizer == 'adamw':\n",
    "            return torch.optim.AdamW(model.parameters(), lr=self.learning_rate,\n",
    "                                   weight_decay=self.weight_decay)\n",
    "        elif self.optimizer == 'rmsprop':\n",
    "            return torch.optim.RMSprop(model.parameters(), lr=self.learning_rate,\n",
    "                                weight_decay=self.weight_decay)\n",
    "        else:\n",
    "            raise ValueError(f\"Unsupported optimizer: {self.optimizer}\")\n",
    "\n",
    "    def fit(self, X, y):\n",
    "        model = self._create_model()\n",
    "        criterion = nn.BCELoss()\n",
    "        optimizer = self._create_optimizer(model)\n",
    "        scheduler = torch.optim.lr_scheduler.ReduceLROnPlateau(optimizer, mode='min',\n",
    "                                                             factor=0.5, patience=3,\n",
    "                                                             verbose=False)\n",
    "\n",
    "        # Create data loaders with current batch size\n",
    "        train_loader = DataLoader(train_dataset_small, batch_size=self.batch_size, shuffle=True)\n",
    "        val_loader = DataLoader(val_dataset_small, batch_size=self.batch_size, shuffle=False)\n",
    "\n",
    "        best_val_auc = 0\n",
    "\n",
    "        for epoch in range(self.epochs):\n",
    "            model.train()\n",
    "            train_loss = 0.0\n",
    "            train_outputs_list = []\n",
    "            train_targets_list = []\n",
    "\n",
    "            for images, labels in train_loader:\n",
    "                images = images.to(self.device)\n",
    "                labels = labels.to(self.device)\n",
    "\n",
    "                optimizer.zero_grad()\n",
    "                outputs = model(images)\n",
    "                loss = criterion(outputs, labels)\n",
    "                loss.backward()\n",
    "                optimizer.step()\n",
    "\n",
    "                train_loss += loss.item()\n",
    "                train_outputs_list.append(outputs.detach().cpu())\n",
    "                train_targets_list.append(labels.detach().cpu())\n",
    "\n",
    "            # Calculate training AUC\n",
    "            train_outputs_all = torch.cat(train_outputs_list, dim=0)\n",
    "            train_targets_all = torch.cat(train_targets_list, dim=0)\n",
    "            train_auc = calculate_auc(train_outputs_all, train_targets_all)\n",
    "\n",
    "            # Validate\n",
    "            val_loss, val_auc = self._evaluate(model, val_loader, criterion)\n",
    "\n",
    "            # Adjust learning rate\n",
    "            scheduler.step(val_loss)\n",
    "\n",
    "            # Save best model\n",
    "            if val_auc > best_val_auc:\n",
    "                best_val_auc = val_auc\n",
    "                self.best_model_state = model.state_dict()\n",
    "\n",
    "        self.best_val_auc = best_val_auc\n",
    "        return self\n",
    "\n",
    "    def _evaluate(self, model, dataloader, criterion):\n",
    "        model.eval()\n",
    "        total_loss = 0.0\n",
    "        outputs_list = []\n",
    "        targets_list = []\n",
    "\n",
    "        with torch.no_grad():\n",
    "            for images, labels in dataloader:\n",
    "                images = images.to(self.device)\n",
    "                labels = labels.to(self.device)\n",
    "                outputs = model(images)\n",
    "\n",
    "                loss = criterion(outputs, labels)\n",
    "                total_loss += loss.item()\n",
    "\n",
    "                outputs_list.append(outputs.cpu())\n",
    "                targets_list.append(labels.cpu())\n",
    "\n",
    "        outputs_all = torch.cat(outputs_list, dim=0)\n",
    "        targets_all = torch.cat(targets_list, dim=0)\n",
    "        auc = calculate_auc(outputs_all, targets_all)\n",
    "\n",
    "        return total_loss / len(dataloader), auc\n",
    "\n",
    "    def score(self, X, y=None):\n",
    "        # Return the best validation AUC\n",
    "        return self.best_val_auc\n",
    "\n"
   ]
  },
  {
   "cell_type": "code",
   "execution_count": 10,
   "id": "7d96bd3b",
   "metadata": {},
   "outputs": [],
   "source": [
    "class PyTorchClassifier(BaseEstimator):\n",
    "    def __init__(self, model_name='densenet121', learning_rate=1e-4, batch_size=48,\n",
    "                 optimizer='adam', dropout=0.0, weight_decay=0.0, epochs=3):\n",
    "        self.model_name = model_name\n",
    "        self.learning_rate = learning_rate\n",
    "        self.batch_size = batch_size\n",
    "        self.optimizer = optimizer\n",
    "        self.dropout = dropout\n",
    "        self.weight_decay = weight_decay\n",
    "        self.epochs = epochs\n",
    "        self.device = torch.device(\"cuda\" if torch.cuda.is_available() else \"cpu\")\n",
    "        self.best_model_state = None\n",
    "        self.best_val_auc = 0\n",
    "\n",
    "    def _create_model(self):\n",
    "        num_labels = 12\n",
    "\n",
    "        if self.model_name == 'alexnet':\n",
    "            model = models.alexnet(weights='IMAGENET1K_V1')\n",
    "            model.classifier = nn.Sequential(\n",
    "                nn.Dropout(self.dropout),\n",
    "                nn.Linear(model.classifier[1].in_features, num_labels),\n",
    "                nn.Sigmoid()\n",
    "            )\n",
    "\n",
    "        elif self.model_name == 'densenet121':\n",
    "            model = models.densenet121(weights='IMAGENET1K_V1')\n",
    "            model.classifier = nn.Sequential(\n",
    "                nn.Dropout(self.dropout),\n",
    "                nn.Linear(model.classifier.in_features, num_labels),\n",
    "                nn.Sigmoid()\n",
    "            )\n",
    "\n",
    "        elif self.model_name == 'resnet101':\n",
    "            model = models.resnet101(weights='IMAGENET1K_V1')\n",
    "            model.fc = nn.Sequential(\n",
    "                nn.Dropout(self.dropout),\n",
    "                nn.Linear(model.fc.in_features, num_labels),\n",
    "                nn.Sigmoid()\n",
    "            )\n",
    "\n",
    "        elif self.model_name == 'vit_b_16':\n",
    "            model = models.vit_b_16(weights='IMAGENET1K_V1')\n",
    "            model.heads = nn.Sequential(\n",
    "                nn.Dropout(self.dropout),\n",
    "                nn.Linear(model.heads.head.in_features, num_labels),\n",
    "                nn.Sigmoid()\n",
    "            )\n",
    "\n",
    "        else:\n",
    "            raise ValueError(f\"Unsupported model: {self.model_name}\")\n",
    "\n",
    "        return model.to(self.device)\n",
    "\n",
    "    def _create_optimizer(self, model):\n",
    "        if self.optimizer == 'adam':\n",
    "            return torch.optim.Adam(model.parameters(), lr=self.learning_rate,\n",
    "                                  weight_decay=self.weight_decay)\n",
    "        elif self.optimizer == 'adamw':\n",
    "            return torch.optim.AdamW(model.parameters(), lr=self.learning_rate,\n",
    "                                   weight_decay=self.weight_decay)\n",
    "        else:\n",
    "            raise ValueError(f\"Unsupported optimizer: {self.optimizer}\")\n",
    "\n",
    "    def fit(self, X, y):\n",
    "        model = self._create_model()\n",
    "        criterion = nn.BCELoss()\n",
    "        optimizer = self._create_optimizer(model)\n",
    "\n",
    "        # Create data loaders with current batch size\n",
    "        train_loader = DataLoader(train_dataset_small, batch_size=self.batch_size, shuffle=True)\n",
    "        val_loader = DataLoader(val_dataset_small, batch_size=self.batch_size, shuffle=False)\n",
    "\n",
    "        best_val_auc = 0\n",
    "        patience = 2\n",
    "        patience_counter = 0\n",
    "\n",
    "        for epoch in range(self.epochs):\n",
    "            model.train()\n",
    "            train_loss = 0.0\n",
    "            train_outputs_list = []\n",
    "            train_targets_list = []\n",
    "\n",
    "            for images, labels in train_loader:\n",
    "                images = images.to(self.device)\n",
    "                labels = labels.to(self.device)\n",
    "\n",
    "                optimizer.zero_grad()\n",
    "                outputs = model(images)\n",
    "                loss = criterion(outputs, labels)\n",
    "                loss.backward()\n",
    "                optimizer.step()\n",
    "\n",
    "                train_loss += loss.item()\n",
    "                train_outputs_list.append(outputs.detach().cpu())\n",
    "                train_targets_list.append(labels.detach().cpu())\n",
    "\n",
    "            # Calculate training AUC\n",
    "            train_outputs_all = torch.cat(train_outputs_list, dim=0)\n",
    "            train_targets_all = torch.cat(train_targets_list, dim=0)\n",
    "            train_auc = calculate_auc(train_outputs_all, train_targets_all)\n",
    "\n",
    "            # Validate\n",
    "            val_loss, val_auc = self._evaluate(model, val_loader, criterion)\n",
    "\n",
    "            # Early stopping\n",
    "            if val_auc > best_val_auc:\n",
    "                best_val_auc = val_auc\n",
    "                self.best_model_state = model.state_dict()\n",
    "                patience_counter = 0\n",
    "            else:\n",
    "                patience_counter += 1\n",
    "                if patience_counter >= patience:\n",
    "                    print(f\"Early stopping at epoch {epoch+1}\")\n",
    "                    break\n",
    "\n",
    "        self.best_val_auc = best_val_auc\n",
    "        return self\n",
    "\n",
    "    def _evaluate(self, model, dataloader, criterion):\n",
    "        model.eval()\n",
    "        total_loss = 0.0\n",
    "        outputs_list = []\n",
    "        targets_list = []\n",
    "\n",
    "        with torch.no_grad():\n",
    "            for images, labels in dataloader:\n",
    "                images = images.to(self.device)\n",
    "                labels = labels.to(self.device)\n",
    "                outputs = model(images)\n",
    "\n",
    "                loss = criterion(outputs, labels)\n",
    "                total_loss += loss.item()\n",
    "\n",
    "                outputs_list.append(outputs.cpu())\n",
    "                targets_list.append(labels.cpu())\n",
    "\n",
    "        outputs_all = torch.cat(outputs_list, dim=0)\n",
    "        targets_all = torch.cat(targets_list, dim=0)\n",
    "        auc = calculate_auc(outputs_all, targets_all)\n",
    "\n",
    "        return total_loss / len(dataloader), auc\n",
    "\n",
    "    def predict_proba(self, X):\n",
    "        \"\"\"\n",
    "        Return probability estimates for the test data X.\n",
    "        This method is required by scikit-learn's roc_auc scorer.\n",
    "        \"\"\"\n",
    "        # Load the best model\n",
    "        model = self._create_model()\n",
    "        model.load_state_dict(self.best_model_state)\n",
    "        model.eval()\n",
    "\n",
    "        # Create a dataloader for the validation set\n",
    "        val_loader = DataLoader(val_dataset_small, batch_size=self.batch_size, shuffle=False)\n",
    "\n",
    "        outputs_list = []\n",
    "        with torch.no_grad():\n",
    "            for images, _ in val_loader:\n",
    "                images = images.to(self.device)\n",
    "                outputs = model(images)\n",
    "                outputs_list.append(outputs.cpu())\n",
    "\n",
    "        outputs_all = torch.cat(outputs_list, dim=0)\n",
    "        return outputs_all.numpy()\n",
    "\n",
    "    def score(self, X, y=None):\n",
    "        return self.best_val_auc\n",
    "\n",
    "# Create a custom scorer that uses the validation AUC directly\n",
    "def custom_scorer(estimator, X, y):\n",
    "    return estimator.best_val_auc"
   ]
  },
  {
   "cell_type": "code",
   "execution_count": null,
   "id": "d8503983",
   "metadata": {},
   "outputs": [
    {
     "name": "stdout",
     "output_type": "stream",
     "text": [
      "Fitting 5 folds for each of 10 candidates, totalling 50 fits\n",
      "[CV 1/5; 1/10] START batch_size=64, dropout=0.2, learning_rate=0.0001, optimizer=adam, weight_decay=1e-06\n",
      "[CV 1/5; 1/10] END batch_size=64, dropout=0.2, learning_rate=0.0001, optimizer=adam, weight_decay=1e-06;, score=0.655 total time= 2.6min\n",
      "[CV 2/5; 1/10] START batch_size=64, dropout=0.2, learning_rate=0.0001, optimizer=adam, weight_decay=1e-06\n",
      "[CV 2/5; 1/10] END batch_size=64, dropout=0.2, learning_rate=0.0001, optimizer=adam, weight_decay=1e-06;, score=0.668 total time= 2.6min\n",
      "[CV 3/5; 1/10] START batch_size=64, dropout=0.2, learning_rate=0.0001, optimizer=adam, weight_decay=1e-06\n",
      "[CV 3/5; 1/10] END batch_size=64, dropout=0.2, learning_rate=0.0001, optimizer=adam, weight_decay=1e-06;, score=0.666 total time= 2.7min\n",
      "[CV 4/5; 1/10] START batch_size=64, dropout=0.2, learning_rate=0.0001, optimizer=adam, weight_decay=1e-06\n",
      "[CV 4/5; 1/10] END batch_size=64, dropout=0.2, learning_rate=0.0001, optimizer=adam, weight_decay=1e-06;, score=0.672 total time= 3.2min\n",
      "[CV 5/5; 1/10] START batch_size=64, dropout=0.2, learning_rate=0.0001, optimizer=adam, weight_decay=1e-06\n",
      "[CV 5/5; 1/10] END batch_size=64, dropout=0.2, learning_rate=0.0001, optimizer=adam, weight_decay=1e-06;, score=0.663 total time= 3.3min\n",
      "[CV 1/5; 2/10] START batch_size=16, dropout=0.2, learning_rate=1e-05, optimizer=adamw, weight_decay=0.0\n",
      "[CV 1/5; 2/10] END batch_size=16, dropout=0.2, learning_rate=1e-05, optimizer=adamw, weight_decay=0.0;, score=0.634 total time= 2.6min\n",
      "[CV 2/5; 2/10] START batch_size=16, dropout=0.2, learning_rate=1e-05, optimizer=adamw, weight_decay=0.0\n",
      "[CV 2/5; 2/10] END batch_size=16, dropout=0.2, learning_rate=1e-05, optimizer=adamw, weight_decay=0.0;, score=0.645 total time= 2.7min\n",
      "[CV 3/5; 2/10] START batch_size=16, dropout=0.2, learning_rate=1e-05, optimizer=adamw, weight_decay=0.0\n",
      "[CV 3/5; 2/10] END batch_size=16, dropout=0.2, learning_rate=1e-05, optimizer=adamw, weight_decay=0.0;, score=0.642 total time= 3.0min\n",
      "[CV 4/5; 2/10] START batch_size=16, dropout=0.2, learning_rate=1e-05, optimizer=adamw, weight_decay=0.0\n",
      "[CV 4/5; 2/10] END batch_size=16, dropout=0.2, learning_rate=1e-05, optimizer=adamw, weight_decay=0.0;, score=0.642 total time= 4.1min\n",
      "[CV 5/5; 2/10] START batch_size=16, dropout=0.2, learning_rate=1e-05, optimizer=adamw, weight_decay=0.0\n",
      "[CV 5/5; 2/10] END batch_size=16, dropout=0.2, learning_rate=1e-05, optimizer=adamw, weight_decay=0.0;, score=0.644 total time= 3.9min\n",
      "[CV 1/5; 3/10] START batch_size=32, dropout=0.2, learning_rate=1e-05, optimizer=adam, weight_decay=0.0\n",
      "[CV 1/5; 3/10] END batch_size=32, dropout=0.2, learning_rate=1e-05, optimizer=adam, weight_decay=0.0;, score=0.635 total time= 2.6min\n",
      "[CV 2/5; 3/10] START batch_size=32, dropout=0.2, learning_rate=1e-05, optimizer=adam, weight_decay=0.0\n",
      "[CV 2/5; 3/10] END batch_size=32, dropout=0.2, learning_rate=1e-05, optimizer=adam, weight_decay=0.0;, score=0.630 total time= 3.8min\n",
      "[CV 3/5; 3/10] START batch_size=32, dropout=0.2, learning_rate=1e-05, optimizer=adam, weight_decay=0.0\n",
      "[CV 3/5; 3/10] END batch_size=32, dropout=0.2, learning_rate=1e-05, optimizer=adam, weight_decay=0.0;, score=0.629 total time= 3.7min\n",
      "[CV 4/5; 3/10] START batch_size=32, dropout=0.2, learning_rate=1e-05, optimizer=adam, weight_decay=0.0\n",
      "[CV 4/5; 3/10] END batch_size=32, dropout=0.2, learning_rate=1e-05, optimizer=adam, weight_decay=0.0;, score=0.631 total time= 3.0min\n",
      "[CV 5/5; 3/10] START batch_size=32, dropout=0.2, learning_rate=1e-05, optimizer=adam, weight_decay=0.0\n",
      "[CV 5/5; 3/10] END batch_size=32, dropout=0.2, learning_rate=1e-05, optimizer=adam, weight_decay=0.0;, score=0.637 total time= 4.1min\n",
      "[CV 1/5; 4/10] START batch_size=16, dropout=0.0, learning_rate=0.0001, optimizer=adamw, weight_decay=0.0\n",
      "[CV 1/5; 4/10] END batch_size=16, dropout=0.0, learning_rate=0.0001, optimizer=adamw, weight_decay=0.0;, score=0.663 total time= 2.8min\n",
      "[CV 2/5; 4/10] START batch_size=16, dropout=0.0, learning_rate=0.0001, optimizer=adamw, weight_decay=0.0\n",
      "[CV 2/5; 4/10] END batch_size=16, dropout=0.0, learning_rate=0.0001, optimizer=adamw, weight_decay=0.0;, score=0.668 total time= 3.0min\n",
      "[CV 3/5; 4/10] START batch_size=16, dropout=0.0, learning_rate=0.0001, optimizer=adamw, weight_decay=0.0\n",
      "[CV 3/5; 4/10] END batch_size=16, dropout=0.0, learning_rate=0.0001, optimizer=adamw, weight_decay=0.0;, score=0.671 total time= 3.3min\n",
      "[CV 4/5; 4/10] START batch_size=16, dropout=0.0, learning_rate=0.0001, optimizer=adamw, weight_decay=0.0\n",
      "[CV 4/5; 4/10] END batch_size=16, dropout=0.0, learning_rate=0.0001, optimizer=adamw, weight_decay=0.0;, score=0.668 total time= 4.2min\n",
      "[CV 5/5; 4/10] START batch_size=16, dropout=0.0, learning_rate=0.0001, optimizer=adamw, weight_decay=0.0\n",
      "[CV 5/5; 4/10] END batch_size=16, dropout=0.0, learning_rate=0.0001, optimizer=adamw, weight_decay=0.0;, score=0.668 total time= 3.6min\n",
      "[CV 1/5; 5/10] START batch_size=64, dropout=0.1, learning_rate=0.0001, optimizer=adamw, weight_decay=1e-05\n",
      "[CV 1/5; 5/10] END batch_size=64, dropout=0.1, learning_rate=0.0001, optimizer=adamw, weight_decay=1e-05;, score=0.659 total time= 3.6min\n",
      "[CV 2/5; 5/10] START batch_size=64, dropout=0.1, learning_rate=0.0001, optimizer=adamw, weight_decay=1e-05\n",
      "[CV 2/5; 5/10] END batch_size=64, dropout=0.1, learning_rate=0.0001, optimizer=adamw, weight_decay=1e-05;, score=0.666 total time= 3.3min\n",
      "[CV 3/5; 5/10] START batch_size=64, dropout=0.1, learning_rate=0.0001, optimizer=adamw, weight_decay=1e-05\n",
      "[CV 3/5; 5/10] END batch_size=64, dropout=0.1, learning_rate=0.0001, optimizer=adamw, weight_decay=1e-05;, score=0.671 total time= 3.3min\n",
      "[CV 4/5; 5/10] START batch_size=64, dropout=0.1, learning_rate=0.0001, optimizer=adamw, weight_decay=1e-05\n",
      "[CV 4/5; 5/10] END batch_size=64, dropout=0.1, learning_rate=0.0001, optimizer=adamw, weight_decay=1e-05;, score=0.666 total time= 3.1min\n",
      "[CV 5/5; 5/10] START batch_size=64, dropout=0.1, learning_rate=0.0001, optimizer=adamw, weight_decay=1e-05\n",
      "[CV 5/5; 5/10] END batch_size=64, dropout=0.1, learning_rate=0.0001, optimizer=adamw, weight_decay=1e-05;, score=0.665 total time= 4.1min\n",
      "[CV 1/5; 6/10] START batch_size=48, dropout=0.1, learning_rate=0.0015, optimizer=adamw, weight_decay=1e-05\n",
      "[CV 1/5; 6/10] END batch_size=48, dropout=0.1, learning_rate=0.0015, optimizer=adamw, weight_decay=1e-05;, score=0.617 total time= 3.4min\n",
      "[CV 2/5; 6/10] START batch_size=48, dropout=0.1, learning_rate=0.0015, optimizer=adamw, weight_decay=1e-05\n",
      "[CV 2/5; 6/10] END batch_size=48, dropout=0.1, learning_rate=0.0015, optimizer=adamw, weight_decay=1e-05;, score=0.623 total time= 2.9min\n",
      "[CV 3/5; 6/10] START batch_size=48, dropout=0.1, learning_rate=0.0015, optimizer=adamw, weight_decay=1e-05\n",
      "[CV 3/5; 6/10] END batch_size=48, dropout=0.1, learning_rate=0.0015, optimizer=adamw, weight_decay=1e-05;, score=0.607 total time= 2.8min\n",
      "[CV 4/5; 6/10] START batch_size=48, dropout=0.1, learning_rate=0.0015, optimizer=adamw, weight_decay=1e-05\n",
      "[CV 4/5; 6/10] END batch_size=48, dropout=0.1, learning_rate=0.0015, optimizer=adamw, weight_decay=1e-05;, score=0.620 total time= 2.7min\n",
      "[CV 5/5; 6/10] START batch_size=48, dropout=0.1, learning_rate=0.0015, optimizer=adamw, weight_decay=1e-05\n",
      "[CV 5/5; 6/10] END batch_size=48, dropout=0.1, learning_rate=0.0015, optimizer=adamw, weight_decay=1e-05;, score=0.606 total time= 2.7min\n",
      "[CV 1/5; 7/10] START batch_size=64, dropout=0.2, learning_rate=0.0015, optimizer=adam, weight_decay=0.0\n",
      "[CV 1/5; 7/10] END batch_size=64, dropout=0.2, learning_rate=0.0015, optimizer=adam, weight_decay=0.0;, score=0.600 total time= 2.8min\n",
      "[CV 2/5; 7/10] START batch_size=64, dropout=0.2, learning_rate=0.0015, optimizer=adam, weight_decay=0.0\n",
      "[CV 2/5; 7/10] END batch_size=64, dropout=0.2, learning_rate=0.0015, optimizer=adam, weight_decay=0.0;, score=0.599 total time= 2.6min\n",
      "[CV 3/5; 7/10] START batch_size=64, dropout=0.2, learning_rate=0.0015, optimizer=adam, weight_decay=0.0\n",
      "[CV 3/5; 7/10] END batch_size=64, dropout=0.2, learning_rate=0.0015, optimizer=adam, weight_decay=0.0;, score=0.615 total time= 3.7min\n",
      "[CV 4/5; 7/10] START batch_size=64, dropout=0.2, learning_rate=0.0015, optimizer=adam, weight_decay=0.0\n",
      "[CV 4/5; 7/10] END batch_size=64, dropout=0.2, learning_rate=0.0015, optimizer=adam, weight_decay=0.0;, score=0.592 total time= 3.6min\n",
      "[CV 5/5; 7/10] START batch_size=64, dropout=0.2, learning_rate=0.0015, optimizer=adam, weight_decay=0.0\n",
      "[CV 5/5; 7/10] END batch_size=64, dropout=0.2, learning_rate=0.0015, optimizer=adam, weight_decay=0.0;, score=0.613 total time= 2.8min\n",
      "[CV 1/5; 8/10] START batch_size=32, dropout=0.1, learning_rate=5e-05, optimizer=adam, weight_decay=1e-06\n",
      "[CV 1/5; 8/10] END batch_size=32, dropout=0.1, learning_rate=5e-05, optimizer=adam, weight_decay=1e-06;, score=0.671 total time= 3.3min\n",
      "[CV 2/5; 8/10] START batch_size=32, dropout=0.1, learning_rate=5e-05, optimizer=adam, weight_decay=1e-06\n",
      "[CV 2/5; 8/10] END batch_size=32, dropout=0.1, learning_rate=5e-05, optimizer=adam, weight_decay=1e-06;, score=0.667 total time= 4.0min\n",
      "[CV 3/5; 8/10] START batch_size=32, dropout=0.1, learning_rate=5e-05, optimizer=adam, weight_decay=1e-06\n",
      "[CV 3/5; 8/10] END batch_size=32, dropout=0.1, learning_rate=5e-05, optimizer=adam, weight_decay=1e-06;, score=0.671 total time= 3.3min\n",
      "[CV 4/5; 8/10] START batch_size=32, dropout=0.1, learning_rate=5e-05, optimizer=adam, weight_decay=1e-06\n",
      "[CV 4/5; 8/10] END batch_size=32, dropout=0.1, learning_rate=5e-05, optimizer=adam, weight_decay=1e-06;, score=0.670 total time= 3.0min\n",
      "[CV 5/5; 8/10] START batch_size=32, dropout=0.1, learning_rate=5e-05, optimizer=adam, weight_decay=1e-06\n",
      "[CV 5/5; 8/10] END batch_size=32, dropout=0.1, learning_rate=5e-05, optimizer=adam, weight_decay=1e-06;, score=0.674 total time= 3.2min\n",
      "[CV 1/5; 9/10] START batch_size=32, dropout=0.2, learning_rate=5e-05, optimizer=sgd, weight_decay=0.0\n",
      "[CV 1/5; 9/10] END batch_size=32, dropout=0.2, learning_rate=5e-05, optimizer=sgd, weight_decay=0.0;, score=nan total time=   0.5s\n",
      "[CV 2/5; 9/10] START batch_size=32, dropout=0.2, learning_rate=5e-05, optimizer=sgd, weight_decay=0.0\n",
      "[CV 2/5; 9/10] END batch_size=32, dropout=0.2, learning_rate=5e-05, optimizer=sgd, weight_decay=0.0;, score=nan total time=   0.1s\n",
      "[CV 3/5; 9/10] START batch_size=32, dropout=0.2, learning_rate=5e-05, optimizer=sgd, weight_decay=0.0\n",
      "[CV 3/5; 9/10] END batch_size=32, dropout=0.2, learning_rate=5e-05, optimizer=sgd, weight_decay=0.0;, score=nan total time=   0.1s\n",
      "[CV 4/5; 9/10] START batch_size=32, dropout=0.2, learning_rate=5e-05, optimizer=sgd, weight_decay=0.0\n",
      "[CV 4/5; 9/10] END batch_size=32, dropout=0.2, learning_rate=5e-05, optimizer=sgd, weight_decay=0.0;, score=nan total time=   0.1s\n",
      "[CV 5/5; 9/10] START batch_size=32, dropout=0.2, learning_rate=5e-05, optimizer=sgd, weight_decay=0.0\n",
      "[CV 5/5; 9/10] END batch_size=32, dropout=0.2, learning_rate=5e-05, optimizer=sgd, weight_decay=0.0;, score=nan total time=   0.1s\n",
      "[CV 1/5; 10/10] START batch_size=32, dropout=0.1, learning_rate=1e-05, optimizer=adamw, weight_decay=1e-06\n",
      "[CV 1/5; 10/10] END batch_size=32, dropout=0.1, learning_rate=1e-05, optimizer=adamw, weight_decay=1e-06;, score=0.631 total time= 2.8min\n",
      "[CV 2/5; 10/10] START batch_size=32, dropout=0.1, learning_rate=1e-05, optimizer=adamw, weight_decay=1e-06\n",
      "[CV 2/5; 10/10] END batch_size=32, dropout=0.1, learning_rate=1e-05, optimizer=adamw, weight_decay=1e-06;, score=0.638 total time= 3.1min\n",
      "[CV 3/5; 10/10] START batch_size=32, dropout=0.1, learning_rate=1e-05, optimizer=adamw, weight_decay=1e-06\n",
      "[CV 3/5; 10/10] END batch_size=32, dropout=0.1, learning_rate=1e-05, optimizer=adamw, weight_decay=1e-06;, score=0.631 total time= 3.2min\n",
      "[CV 4/5; 10/10] START batch_size=32, dropout=0.1, learning_rate=1e-05, optimizer=adamw, weight_decay=1e-06\n",
      "[CV 4/5; 10/10] END batch_size=32, dropout=0.1, learning_rate=1e-05, optimizer=adamw, weight_decay=1e-06;, score=0.631 total time= 3.2min\n",
      "[CV 5/5; 10/10] START batch_size=32, dropout=0.1, learning_rate=1e-05, optimizer=adamw, weight_decay=1e-06\n",
      "[CV 5/5; 10/10] END batch_size=32, dropout=0.1, learning_rate=1e-05, optimizer=adamw, weight_decay=1e-06;, score=0.639 total time= 3.4min\n"
     ]
    },
    {
     "name": "stderr",
     "output_type": "stream",
     "text": [
      "c:\\Users\\w2\\AppData\\Local\\Programs\\Python\\Python310\\lib\\site-packages\\sklearn\\model_selection\\_validation.py:528: FitFailedWarning: \n",
      "5 fits failed out of a total of 50.\n",
      "The score on these train-test partitions for these parameters will be set to nan.\n",
      "If these failures are not expected, you can try to debug them by setting error_score='raise'.\n",
      "\n",
      "Below are more details about the failures:\n",
      "--------------------------------------------------------------------------------\n",
      "5 fits failed with the following error:\n",
      "Traceback (most recent call last):\n",
      "  File \"c:\\Users\\w2\\AppData\\Local\\Programs\\Python\\Python310\\lib\\site-packages\\sklearn\\model_selection\\_validation.py\", line 866, in _fit_and_score\n",
      "    estimator.fit(X_train, y_train, **fit_params)\n",
      "  File \"C:\\Users\\w2\\AppData\\Local\\Temp\\ipykernel_54096\\3762132310.py\", line 68, in fit\n",
      "    optimizer = self._create_optimizer(model)\n",
      "  File \"C:\\Users\\w2\\AppData\\Local\\Temp\\ipykernel_54096\\3762132310.py\", line 63, in _create_optimizer\n",
      "    raise ValueError(f\"Unsupported optimizer: {self.optimizer}\")\n",
      "ValueError: Unsupported optimizer: sgd\n",
      "\n",
      "  warnings.warn(some_fits_failed_message, FitFailedWarning)\n",
      "c:\\Users\\w2\\AppData\\Local\\Programs\\Python\\Python310\\lib\\site-packages\\sklearn\\model_selection\\_search.py:1108: UserWarning: One or more of the test scores are non-finite: [0.66487889 0.64134138 0.63224209 0.66757028 0.6654431  0.61446845\n",
      " 0.60369101 0.67033411        nan 0.63406529]\n",
      "  warnings.warn(\n"
     ]
    },
    {
     "name": "stdout",
     "output_type": "stream",
     "text": [
      "Best parameters found:\n",
      "{'weight_decay': 1e-06, 'optimizer': 'adam', 'learning_rate': 5e-05, 'dropout': 0.1, 'batch_size': 32}\n",
      "Best validation AUC: 0.6703\n"
     ]
    }
   ],
   "source": [
    "model_alex = PyTorchClassifier(model_name='alexnet')\n",
    "\n",
    "random_search = RandomizedSearchCV(\n",
    "    estimator=model_alex,\n",
    "    param_distributions=param_grid,\n",
    "    n_iter=10,  \n",
    "    cv=None,  \n",
    "    scoring=custom_scorer,  \n",
    "    n_jobs=1, \n",
    "    verbose=10,\n",
    "    random_state=42\n",
    ")\n",
    "\n",
    "# Fit the random search\n",
    "\n",
    "X_dummy = np.zeros((len(train_df_small), 1))\n",
    "y_dummy = np.zeros((len(train_df_small), 1))\n",
    "\n",
    "random_search.fit(X_dummy, y_dummy)\n",
    "\n",
    "# Print the best parametersw\n",
    "print(\"Best parameters found:\")\n",
    "print(random_search.best_params_)\n",
    "print(f\"Best validation AUC: {random_search.best_score_:.4f}\")"
   ]
  },
  {
   "cell_type": "code",
   "execution_count": 30,
   "id": "498025f9",
   "metadata": {},
   "outputs": [
    {
     "name": "stdout",
     "output_type": "stream",
     "text": [
      "Fitting 2 folds for each of 10 candidates, totalling 20 fits\n",
      "[CV 1/2; 1/10] START batch_size=48, dropout=0.1, learning_rate=0.0015, optimizer=rmsprop, weight_decay=1e-05\n"
     ]
    },
    {
     "name": "stderr",
     "output_type": "stream",
     "text": [
      "c:\\Users\\w2\\AppData\\Local\\Programs\\Python\\Python310\\lib\\site-packages\\torch\\optim\\lr_scheduler.py:62: UserWarning: The verbose parameter is deprecated. Please use get_last_lr() to access the learning rate.\n",
      "  warnings.warn(\n"
     ]
    },
    {
     "name": "stdout",
     "output_type": "stream",
     "text": [
      "[CV 1/2; 1/10] END batch_size=48, dropout=0.1, learning_rate=0.0015, optimizer=rmsprop, weight_decay=1e-05;, score=0.610 total time= 4.6min\n",
      "[CV 2/2; 1/10] START batch_size=48, dropout=0.1, learning_rate=0.0015, optimizer=rmsprop, weight_decay=1e-05\n"
     ]
    },
    {
     "name": "stderr",
     "output_type": "stream",
     "text": [
      "c:\\Users\\w2\\AppData\\Local\\Programs\\Python\\Python310\\lib\\site-packages\\torch\\optim\\lr_scheduler.py:62: UserWarning: The verbose parameter is deprecated. Please use get_last_lr() to access the learning rate.\n",
      "  warnings.warn(\n"
     ]
    },
    {
     "name": "stdout",
     "output_type": "stream",
     "text": [
      "[CV 2/2; 1/10] END batch_size=48, dropout=0.1, learning_rate=0.0015, optimizer=rmsprop, weight_decay=1e-05;, score=0.596 total time= 3.4min\n",
      "[CV 1/2; 2/10] START batch_size=48, dropout=0.5, learning_rate=0.0015, optimizer=adamw, weight_decay=0.0001\n"
     ]
    },
    {
     "name": "stderr",
     "output_type": "stream",
     "text": [
      "c:\\Users\\w2\\AppData\\Local\\Programs\\Python\\Python310\\lib\\site-packages\\torch\\optim\\lr_scheduler.py:62: UserWarning: The verbose parameter is deprecated. Please use get_last_lr() to access the learning rate.\n",
      "  warnings.warn(\n"
     ]
    },
    {
     "name": "stdout",
     "output_type": "stream",
     "text": [
      "[CV 1/2; 2/10] END batch_size=48, dropout=0.5, learning_rate=0.0015, optimizer=adamw, weight_decay=0.0001;, score=0.641 total time= 3.4min\n",
      "[CV 2/2; 2/10] START batch_size=48, dropout=0.5, learning_rate=0.0015, optimizer=adamw, weight_decay=0.0001\n"
     ]
    },
    {
     "name": "stderr",
     "output_type": "stream",
     "text": [
      "c:\\Users\\w2\\AppData\\Local\\Programs\\Python\\Python310\\lib\\site-packages\\torch\\optim\\lr_scheduler.py:62: UserWarning: The verbose parameter is deprecated. Please use get_last_lr() to access the learning rate.\n",
      "  warnings.warn(\n"
     ]
    },
    {
     "name": "stdout",
     "output_type": "stream",
     "text": [
      "[CV 2/2; 2/10] END batch_size=48, dropout=0.5, learning_rate=0.0015, optimizer=adamw, weight_decay=0.0001;, score=0.619 total time= 3.4min\n",
      "[CV 1/2; 3/10] START batch_size=32, dropout=0.4, learning_rate=5e-05, optimizer=rmsprop, weight_decay=0.0\n"
     ]
    },
    {
     "name": "stderr",
     "output_type": "stream",
     "text": [
      "c:\\Users\\w2\\AppData\\Local\\Programs\\Python\\Python310\\lib\\site-packages\\torch\\optim\\lr_scheduler.py:62: UserWarning: The verbose parameter is deprecated. Please use get_last_lr() to access the learning rate.\n",
      "  warnings.warn(\n"
     ]
    },
    {
     "name": "stdout",
     "output_type": "stream",
     "text": [
      "[CV 1/2; 3/10] END batch_size=32, dropout=0.4, learning_rate=5e-05, optimizer=rmsprop, weight_decay=0.0;, score=0.687 total time= 4.2min\n",
      "[CV 2/2; 3/10] START batch_size=32, dropout=0.4, learning_rate=5e-05, optimizer=rmsprop, weight_decay=0.0\n"
     ]
    },
    {
     "name": "stderr",
     "output_type": "stream",
     "text": [
      "c:\\Users\\w2\\AppData\\Local\\Programs\\Python\\Python310\\lib\\site-packages\\torch\\optim\\lr_scheduler.py:62: UserWarning: The verbose parameter is deprecated. Please use get_last_lr() to access the learning rate.\n",
      "  warnings.warn(\n"
     ]
    },
    {
     "name": "stdout",
     "output_type": "stream",
     "text": [
      "[CV 2/2; 3/10] END batch_size=32, dropout=0.4, learning_rate=5e-05, optimizer=rmsprop, weight_decay=0.0;, score=0.705 total time= 3.6min\n",
      "[CV 1/2; 4/10] START batch_size=48, dropout=0.3, learning_rate=0.0015, optimizer=rmsprop, weight_decay=1e-05\n"
     ]
    },
    {
     "name": "stderr",
     "output_type": "stream",
     "text": [
      "c:\\Users\\w2\\AppData\\Local\\Programs\\Python\\Python310\\lib\\site-packages\\torch\\optim\\lr_scheduler.py:62: UserWarning: The verbose parameter is deprecated. Please use get_last_lr() to access the learning rate.\n",
      "  warnings.warn(\n"
     ]
    },
    {
     "name": "stdout",
     "output_type": "stream",
     "text": [
      "[CV 1/2; 4/10] END batch_size=48, dropout=0.3, learning_rate=0.0015, optimizer=rmsprop, weight_decay=1e-05;, score=0.617 total time= 3.3min\n",
      "[CV 2/2; 4/10] START batch_size=48, dropout=0.3, learning_rate=0.0015, optimizer=rmsprop, weight_decay=1e-05\n"
     ]
    },
    {
     "name": "stderr",
     "output_type": "stream",
     "text": [
      "c:\\Users\\w2\\AppData\\Local\\Programs\\Python\\Python310\\lib\\site-packages\\torch\\optim\\lr_scheduler.py:62: UserWarning: The verbose parameter is deprecated. Please use get_last_lr() to access the learning rate.\n",
      "  warnings.warn(\n"
     ]
    },
    {
     "name": "stdout",
     "output_type": "stream",
     "text": [
      "[CV 2/2; 4/10] END batch_size=48, dropout=0.3, learning_rate=0.0015, optimizer=rmsprop, weight_decay=1e-05;, score=0.614 total time= 3.4min\n",
      "[CV 1/2; 5/10] START batch_size=48, dropout=0.1, learning_rate=0.0001, optimizer=adam, weight_decay=1e-05\n"
     ]
    },
    {
     "name": "stderr",
     "output_type": "stream",
     "text": [
      "c:\\Users\\w2\\AppData\\Local\\Programs\\Python\\Python310\\lib\\site-packages\\torch\\optim\\lr_scheduler.py:62: UserWarning: The verbose parameter is deprecated. Please use get_last_lr() to access the learning rate.\n",
      "  warnings.warn(\n"
     ]
    },
    {
     "name": "stdout",
     "output_type": "stream",
     "text": [
      "[CV 1/2; 5/10] END batch_size=48, dropout=0.1, learning_rate=0.0001, optimizer=adam, weight_decay=1e-05;, score=0.703 total time= 3.3min\n",
      "[CV 2/2; 5/10] START batch_size=48, dropout=0.1, learning_rate=0.0001, optimizer=adam, weight_decay=1e-05\n"
     ]
    },
    {
     "name": "stderr",
     "output_type": "stream",
     "text": [
      "c:\\Users\\w2\\AppData\\Local\\Programs\\Python\\Python310\\lib\\site-packages\\torch\\optim\\lr_scheduler.py:62: UserWarning: The verbose parameter is deprecated. Please use get_last_lr() to access the learning rate.\n",
      "  warnings.warn(\n"
     ]
    },
    {
     "name": "stdout",
     "output_type": "stream",
     "text": [
      "[CV 2/2; 5/10] END batch_size=48, dropout=0.1, learning_rate=0.0001, optimizer=adam, weight_decay=1e-05;, score=0.709 total time= 3.3min\n",
      "[CV 1/2; 6/10] START batch_size=48, dropout=0.1, learning_rate=1e-05, optimizer=adam, weight_decay=0.0001\n"
     ]
    },
    {
     "name": "stderr",
     "output_type": "stream",
     "text": [
      "c:\\Users\\w2\\AppData\\Local\\Programs\\Python\\Python310\\lib\\site-packages\\torch\\optim\\lr_scheduler.py:62: UserWarning: The verbose parameter is deprecated. Please use get_last_lr() to access the learning rate.\n",
      "  warnings.warn(\n"
     ]
    },
    {
     "name": "stdout",
     "output_type": "stream",
     "text": [
      "[CV 1/2; 6/10] END batch_size=48, dropout=0.1, learning_rate=1e-05, optimizer=adam, weight_decay=0.0001;, score=0.652 total time= 3.3min\n",
      "[CV 2/2; 6/10] START batch_size=48, dropout=0.1, learning_rate=1e-05, optimizer=adam, weight_decay=0.0001\n"
     ]
    },
    {
     "name": "stderr",
     "output_type": "stream",
     "text": [
      "c:\\Users\\w2\\AppData\\Local\\Programs\\Python\\Python310\\lib\\site-packages\\torch\\optim\\lr_scheduler.py:62: UserWarning: The verbose parameter is deprecated. Please use get_last_lr() to access the learning rate.\n",
      "  warnings.warn(\n"
     ]
    },
    {
     "name": "stdout",
     "output_type": "stream",
     "text": [
      "[CV 2/2; 6/10] END batch_size=48, dropout=0.1, learning_rate=1e-05, optimizer=adam, weight_decay=0.0001;, score=0.654 total time= 3.3min\n",
      "[CV 1/2; 7/10] START batch_size=64, dropout=0.2, learning_rate=0.0001, optimizer=rmsprop, weight_decay=0.0\n"
     ]
    },
    {
     "name": "stderr",
     "output_type": "stream",
     "text": [
      "c:\\Users\\w2\\AppData\\Local\\Programs\\Python\\Python310\\lib\\site-packages\\torch\\optim\\lr_scheduler.py:62: UserWarning: The verbose parameter is deprecated. Please use get_last_lr() to access the learning rate.\n",
      "  warnings.warn(\n"
     ]
    },
    {
     "name": "stdout",
     "output_type": "stream",
     "text": [
      "[CV 1/2; 7/10] END batch_size=64, dropout=0.2, learning_rate=0.0001, optimizer=rmsprop, weight_decay=0.0;, score=0.704 total time= 3.3min\n",
      "[CV 2/2; 7/10] START batch_size=64, dropout=0.2, learning_rate=0.0001, optimizer=rmsprop, weight_decay=0.0\n"
     ]
    },
    {
     "name": "stderr",
     "output_type": "stream",
     "text": [
      "c:\\Users\\w2\\AppData\\Local\\Programs\\Python\\Python310\\lib\\site-packages\\torch\\optim\\lr_scheduler.py:62: UserWarning: The verbose parameter is deprecated. Please use get_last_lr() to access the learning rate.\n",
      "  warnings.warn(\n"
     ]
    },
    {
     "name": "stdout",
     "output_type": "stream",
     "text": [
      "[CV 2/2; 7/10] END batch_size=64, dropout=0.2, learning_rate=0.0001, optimizer=rmsprop, weight_decay=0.0;, score=0.713 total time= 3.3min\n",
      "[CV 1/2; 8/10] START batch_size=48, dropout=0.0, learning_rate=0.0001, optimizer=adam, weight_decay=0.0\n"
     ]
    },
    {
     "name": "stderr",
     "output_type": "stream",
     "text": [
      "c:\\Users\\w2\\AppData\\Local\\Programs\\Python\\Python310\\lib\\site-packages\\torch\\optim\\lr_scheduler.py:62: UserWarning: The verbose parameter is deprecated. Please use get_last_lr() to access the learning rate.\n",
      "  warnings.warn(\n"
     ]
    },
    {
     "name": "stdout",
     "output_type": "stream",
     "text": [
      "[CV 1/2; 8/10] END batch_size=48, dropout=0.0, learning_rate=0.0001, optimizer=adam, weight_decay=0.0;, score=0.705 total time= 3.3min\n",
      "[CV 2/2; 8/10] START batch_size=48, dropout=0.0, learning_rate=0.0001, optimizer=adam, weight_decay=0.0\n"
     ]
    },
    {
     "name": "stderr",
     "output_type": "stream",
     "text": [
      "c:\\Users\\w2\\AppData\\Local\\Programs\\Python\\Python310\\lib\\site-packages\\torch\\optim\\lr_scheduler.py:62: UserWarning: The verbose parameter is deprecated. Please use get_last_lr() to access the learning rate.\n",
      "  warnings.warn(\n"
     ]
    },
    {
     "name": "stdout",
     "output_type": "stream",
     "text": [
      "[CV 2/2; 8/10] END batch_size=48, dropout=0.0, learning_rate=0.0001, optimizer=adam, weight_decay=0.0;, score=0.717 total time= 3.3min\n",
      "[CV 1/2; 9/10] START batch_size=64, dropout=0.1, learning_rate=0.0001, optimizer=adamw, weight_decay=1e-05\n"
     ]
    },
    {
     "name": "stderr",
     "output_type": "stream",
     "text": [
      "c:\\Users\\w2\\AppData\\Local\\Programs\\Python\\Python310\\lib\\site-packages\\torch\\optim\\lr_scheduler.py:62: UserWarning: The verbose parameter is deprecated. Please use get_last_lr() to access the learning rate.\n",
      "  warnings.warn(\n"
     ]
    },
    {
     "name": "stdout",
     "output_type": "stream",
     "text": [
      "[CV 1/2; 9/10] END batch_size=64, dropout=0.1, learning_rate=0.0001, optimizer=adamw, weight_decay=1e-05;, score=0.709 total time= 3.3min\n",
      "[CV 2/2; 9/10] START batch_size=64, dropout=0.1, learning_rate=0.0001, optimizer=adamw, weight_decay=1e-05\n"
     ]
    },
    {
     "name": "stderr",
     "output_type": "stream",
     "text": [
      "c:\\Users\\w2\\AppData\\Local\\Programs\\Python\\Python310\\lib\\site-packages\\torch\\optim\\lr_scheduler.py:62: UserWarning: The verbose parameter is deprecated. Please use get_last_lr() to access the learning rate.\n",
      "  warnings.warn(\n"
     ]
    },
    {
     "name": "stdout",
     "output_type": "stream",
     "text": [
      "[CV 2/2; 9/10] END batch_size=64, dropout=0.1, learning_rate=0.0001, optimizer=adamw, weight_decay=1e-05;, score=0.709 total time= 3.3min\n",
      "[CV 1/2; 10/10] START batch_size=16, dropout=0.1, learning_rate=0.0001, optimizer=adam, weight_decay=1e-06\n"
     ]
    },
    {
     "name": "stderr",
     "output_type": "stream",
     "text": [
      "c:\\Users\\w2\\AppData\\Local\\Programs\\Python\\Python310\\lib\\site-packages\\torch\\optim\\lr_scheduler.py:62: UserWarning: The verbose parameter is deprecated. Please use get_last_lr() to access the learning rate.\n",
      "  warnings.warn(\n"
     ]
    },
    {
     "name": "stdout",
     "output_type": "stream",
     "text": [
      "[CV 1/2; 10/10] END batch_size=16, dropout=0.1, learning_rate=0.0001, optimizer=adam, weight_decay=1e-06;, score=0.714 total time= 3.5min\n",
      "[CV 2/2; 10/10] START batch_size=16, dropout=0.1, learning_rate=0.0001, optimizer=adam, weight_decay=1e-06\n"
     ]
    },
    {
     "name": "stderr",
     "output_type": "stream",
     "text": [
      "c:\\Users\\w2\\AppData\\Local\\Programs\\Python\\Python310\\lib\\site-packages\\torch\\optim\\lr_scheduler.py:62: UserWarning: The verbose parameter is deprecated. Please use get_last_lr() to access the learning rate.\n",
      "  warnings.warn(\n"
     ]
    },
    {
     "name": "stdout",
     "output_type": "stream",
     "text": [
      "[CV 2/2; 10/10] END batch_size=16, dropout=0.1, learning_rate=0.0001, optimizer=adam, weight_decay=1e-06;, score=0.713 total time= 3.5min\n"
     ]
    },
    {
     "name": "stderr",
     "output_type": "stream",
     "text": [
      "c:\\Users\\w2\\AppData\\Local\\Programs\\Python\\Python310\\lib\\site-packages\\torch\\optim\\lr_scheduler.py:62: UserWarning: The verbose parameter is deprecated. Please use get_last_lr() to access the learning rate.\n",
      "  warnings.warn(\n"
     ]
    },
    {
     "name": "stdout",
     "output_type": "stream",
     "text": [
      "Best parameters found:\n",
      "{'weight_decay': 1e-06, 'optimizer': 'adam', 'learning_rate': 0.0001, 'dropout': 0.1, 'batch_size': 16}\n",
      "Best validation AUC: 0.7136\n"
     ]
    }
   ],
   "source": [
    "model_dense = PyTorchClassifier(model_name='densenet121')\n",
    "\n",
    "random_search = RandomizedSearchCV(\n",
    "    estimator=model_dense,\n",
    "    param_distributions=param_grid,\n",
    "    n_iter=10,  # Number of parameter settings to sample\n",
    "    cv=2,  \n",
    "    scoring=custom_scorer,  # Use AUC as the scoring metric\n",
    "    n_jobs=1,  # Set to 1 for GPU training\n",
    "    verbose=10,\n",
    "    random_state=42\n",
    ")\n",
    "\n",
    "# Fit the random search\n",
    "# Note: X and y are dummy variables, we use the global datasets\n",
    "X_dummy = np.zeros((len(train_df_small), 1))\n",
    "y_dummy = np.zeros((len(train_df_small), 1))\n",
    "\n",
    "random_search.fit(X_dummy, y_dummy)\n",
    "\n",
    "# Print the best parametersw\n",
    "print(\"Best parameters found:\")\n",
    "print(random_search.best_params_)\n",
    "print(f\"Best validation AUC: {random_search.best_score_:.4f}\")"
   ]
  },
  {
   "cell_type": "code",
   "execution_count": null,
   "id": "501e6924",
   "metadata": {},
   "outputs": [],
   "source": [
    "model_dense = PyTorchClassifier(model_name='densenet121')\n",
    "\n",
    "random_search = RandomizedSearchCV(\n",
    "    estimator=model_dense,\n",
    "    param_distributions=param_grid,\n",
    "    n_iter=10,  # Number of parameter settings to sample\n",
    "    cv=2,  \n",
    "    scoring=custom_scorer,  # Use AUC as the scoring metric\n",
    "    n_jobs=1,  # Set to 1 for GPU training\n",
    "    verbose=10,\n",
    "    random_state=42\n",
    ")\n",
    "\n",
    "# Fit the random search\n",
    "# Note: X and y are dummy variables, we use the global datasets\n",
    "X_dummy = np.zeros((len(train_df_small), 1))\n",
    "y_dummy = np.zeros((len(train_df_small), 1))\n",
    "\n",
    "random_search.fit(X_dummy, y_dummy)\n",
    "\n",
    "# Print the best parametersw\n",
    "print(\"Best parameters found:\")\n",
    "print(random_search.best_params_)\n",
    "print(f\"Best validation AUC: {random_search.best_score_:.4f}\")"
   ]
  },
  {
   "cell_type": "code",
   "execution_count": 32,
   "id": "ba404ef0",
   "metadata": {},
   "outputs": [
    {
     "name": "stdout",
     "output_type": "stream",
     "text": [
      "Fitting 2 folds for each of 10 candidates, totalling 20 fits\n",
      "[CV 1/2; 1/10] START batch_size=48, dropout=0.1, learning_rate=0.0015, optimizer=rmsprop, weight_decay=1e-05\n"
     ]
    },
    {
     "name": "stderr",
     "output_type": "stream",
     "text": [
      "c:\\Users\\w2\\AppData\\Local\\Programs\\Python\\Python310\\lib\\site-packages\\torch\\optim\\lr_scheduler.py:62: UserWarning: The verbose parameter is deprecated. Please use get_last_lr() to access the learning rate.\n",
      "  warnings.warn(\n"
     ]
    },
    {
     "name": "stdout",
     "output_type": "stream",
     "text": [
      "[CV 1/2; 1/10] END batch_size=48, dropout=0.1, learning_rate=0.0015, optimizer=rmsprop, weight_decay=1e-05;, score=0.603 total time= 3.8min\n",
      "[CV 2/2; 1/10] START batch_size=48, dropout=0.1, learning_rate=0.0015, optimizer=rmsprop, weight_decay=1e-05\n"
     ]
    },
    {
     "name": "stderr",
     "output_type": "stream",
     "text": [
      "c:\\Users\\w2\\AppData\\Local\\Programs\\Python\\Python310\\lib\\site-packages\\torch\\optim\\lr_scheduler.py:62: UserWarning: The verbose parameter is deprecated. Please use get_last_lr() to access the learning rate.\n",
      "  warnings.warn(\n"
     ]
    },
    {
     "name": "stdout",
     "output_type": "stream",
     "text": [
      "[CV 2/2; 1/10] END batch_size=48, dropout=0.1, learning_rate=0.0015, optimizer=rmsprop, weight_decay=1e-05;, score=0.605 total time= 3.8min\n",
      "[CV 1/2; 2/10] START batch_size=48, dropout=0.5, learning_rate=0.0015, optimizer=adamw, weight_decay=0.0001\n"
     ]
    },
    {
     "name": "stderr",
     "output_type": "stream",
     "text": [
      "c:\\Users\\w2\\AppData\\Local\\Programs\\Python\\Python310\\lib\\site-packages\\torch\\optim\\lr_scheduler.py:62: UserWarning: The verbose parameter is deprecated. Please use get_last_lr() to access the learning rate.\n",
      "  warnings.warn(\n"
     ]
    },
    {
     "name": "stdout",
     "output_type": "stream",
     "text": [
      "[CV 1/2; 2/10] END batch_size=48, dropout=0.5, learning_rate=0.0015, optimizer=adamw, weight_decay=0.0001;, score=0.629 total time= 3.8min\n",
      "[CV 2/2; 2/10] START batch_size=48, dropout=0.5, learning_rate=0.0015, optimizer=adamw, weight_decay=0.0001\n"
     ]
    },
    {
     "name": "stderr",
     "output_type": "stream",
     "text": [
      "c:\\Users\\w2\\AppData\\Local\\Programs\\Python\\Python310\\lib\\site-packages\\torch\\optim\\lr_scheduler.py:62: UserWarning: The verbose parameter is deprecated. Please use get_last_lr() to access the learning rate.\n",
      "  warnings.warn(\n"
     ]
    },
    {
     "name": "stdout",
     "output_type": "stream",
     "text": [
      "[CV 2/2; 2/10] END batch_size=48, dropout=0.5, learning_rate=0.0015, optimizer=adamw, weight_decay=0.0001;, score=0.623 total time= 3.7min\n",
      "[CV 1/2; 3/10] START batch_size=32, dropout=0.4, learning_rate=5e-05, optimizer=rmsprop, weight_decay=0.0\n"
     ]
    },
    {
     "name": "stderr",
     "output_type": "stream",
     "text": [
      "c:\\Users\\w2\\AppData\\Local\\Programs\\Python\\Python310\\lib\\site-packages\\torch\\optim\\lr_scheduler.py:62: UserWarning: The verbose parameter is deprecated. Please use get_last_lr() to access the learning rate.\n",
      "  warnings.warn(\n"
     ]
    },
    {
     "name": "stdout",
     "output_type": "stream",
     "text": [
      "[CV 1/2; 3/10] END batch_size=32, dropout=0.4, learning_rate=5e-05, optimizer=rmsprop, weight_decay=0.0;, score=0.713 total time= 3.7min\n",
      "[CV 2/2; 3/10] START batch_size=32, dropout=0.4, learning_rate=5e-05, optimizer=rmsprop, weight_decay=0.0\n"
     ]
    },
    {
     "name": "stderr",
     "output_type": "stream",
     "text": [
      "c:\\Users\\w2\\AppData\\Local\\Programs\\Python\\Python310\\lib\\site-packages\\torch\\optim\\lr_scheduler.py:62: UserWarning: The verbose parameter is deprecated. Please use get_last_lr() to access the learning rate.\n",
      "  warnings.warn(\n"
     ]
    },
    {
     "name": "stdout",
     "output_type": "stream",
     "text": [
      "[CV 2/2; 3/10] END batch_size=32, dropout=0.4, learning_rate=5e-05, optimizer=rmsprop, weight_decay=0.0;, score=0.710 total time= 3.7min\n",
      "[CV 1/2; 4/10] START batch_size=48, dropout=0.3, learning_rate=0.0015, optimizer=rmsprop, weight_decay=1e-05\n"
     ]
    },
    {
     "name": "stderr",
     "output_type": "stream",
     "text": [
      "c:\\Users\\w2\\AppData\\Local\\Programs\\Python\\Python310\\lib\\site-packages\\torch\\optim\\lr_scheduler.py:62: UserWarning: The verbose parameter is deprecated. Please use get_last_lr() to access the learning rate.\n",
      "  warnings.warn(\n"
     ]
    },
    {
     "name": "stdout",
     "output_type": "stream",
     "text": [
      "[CV 1/2; 4/10] END batch_size=48, dropout=0.3, learning_rate=0.0015, optimizer=rmsprop, weight_decay=1e-05;, score=0.603 total time= 3.7min\n",
      "[CV 2/2; 4/10] START batch_size=48, dropout=0.3, learning_rate=0.0015, optimizer=rmsprop, weight_decay=1e-05\n"
     ]
    },
    {
     "name": "stderr",
     "output_type": "stream",
     "text": [
      "c:\\Users\\w2\\AppData\\Local\\Programs\\Python\\Python310\\lib\\site-packages\\torch\\optim\\lr_scheduler.py:62: UserWarning: The verbose parameter is deprecated. Please use get_last_lr() to access the learning rate.\n",
      "  warnings.warn(\n"
     ]
    },
    {
     "name": "stdout",
     "output_type": "stream",
     "text": [
      "[CV 2/2; 4/10] END batch_size=48, dropout=0.3, learning_rate=0.0015, optimizer=rmsprop, weight_decay=1e-05;, score=0.624 total time= 3.7min\n",
      "[CV 1/2; 5/10] START batch_size=48, dropout=0.1, learning_rate=0.0001, optimizer=adam, weight_decay=1e-05\n"
     ]
    },
    {
     "name": "stderr",
     "output_type": "stream",
     "text": [
      "c:\\Users\\w2\\AppData\\Local\\Programs\\Python\\Python310\\lib\\site-packages\\torch\\optim\\lr_scheduler.py:62: UserWarning: The verbose parameter is deprecated. Please use get_last_lr() to access the learning rate.\n",
      "  warnings.warn(\n"
     ]
    },
    {
     "name": "stdout",
     "output_type": "stream",
     "text": [
      "[CV 1/2; 5/10] END batch_size=48, dropout=0.1, learning_rate=0.0001, optimizer=adam, weight_decay=1e-05;, score=0.711 total time= 3.7min\n",
      "[CV 2/2; 5/10] START batch_size=48, dropout=0.1, learning_rate=0.0001, optimizer=adam, weight_decay=1e-05\n"
     ]
    },
    {
     "name": "stderr",
     "output_type": "stream",
     "text": [
      "c:\\Users\\w2\\AppData\\Local\\Programs\\Python\\Python310\\lib\\site-packages\\torch\\optim\\lr_scheduler.py:62: UserWarning: The verbose parameter is deprecated. Please use get_last_lr() to access the learning rate.\n",
      "  warnings.warn(\n"
     ]
    },
    {
     "name": "stdout",
     "output_type": "stream",
     "text": [
      "[CV 2/2; 5/10] END batch_size=48, dropout=0.1, learning_rate=0.0001, optimizer=adam, weight_decay=1e-05;, score=0.708 total time= 3.7min\n",
      "[CV 1/2; 6/10] START batch_size=48, dropout=0.1, learning_rate=1e-05, optimizer=adam, weight_decay=0.0001\n"
     ]
    },
    {
     "name": "stderr",
     "output_type": "stream",
     "text": [
      "c:\\Users\\w2\\AppData\\Local\\Programs\\Python\\Python310\\lib\\site-packages\\torch\\optim\\lr_scheduler.py:62: UserWarning: The verbose parameter is deprecated. Please use get_last_lr() to access the learning rate.\n",
      "  warnings.warn(\n"
     ]
    },
    {
     "name": "stdout",
     "output_type": "stream",
     "text": [
      "[CV 1/2; 6/10] END batch_size=48, dropout=0.1, learning_rate=1e-05, optimizer=adam, weight_decay=0.0001;, score=0.688 total time= 3.7min\n",
      "[CV 2/2; 6/10] START batch_size=48, dropout=0.1, learning_rate=1e-05, optimizer=adam, weight_decay=0.0001\n"
     ]
    },
    {
     "name": "stderr",
     "output_type": "stream",
     "text": [
      "c:\\Users\\w2\\AppData\\Local\\Programs\\Python\\Python310\\lib\\site-packages\\torch\\optim\\lr_scheduler.py:62: UserWarning: The verbose parameter is deprecated. Please use get_last_lr() to access the learning rate.\n",
      "  warnings.warn(\n"
     ]
    },
    {
     "name": "stdout",
     "output_type": "stream",
     "text": [
      "[CV 2/2; 6/10] END batch_size=48, dropout=0.1, learning_rate=1e-05, optimizer=adam, weight_decay=0.0001;, score=0.689 total time= 3.7min\n",
      "[CV 1/2; 7/10] START batch_size=64, dropout=0.2, learning_rate=0.0001, optimizer=rmsprop, weight_decay=0.0\n"
     ]
    },
    {
     "name": "stderr",
     "output_type": "stream",
     "text": [
      "c:\\Users\\w2\\AppData\\Local\\Programs\\Python\\Python310\\lib\\site-packages\\torch\\optim\\lr_scheduler.py:62: UserWarning: The verbose parameter is deprecated. Please use get_last_lr() to access the learning rate.\n",
      "  warnings.warn(\n"
     ]
    },
    {
     "name": "stdout",
     "output_type": "stream",
     "text": [
      "[CV 1/2; 7/10] END batch_size=64, dropout=0.2, learning_rate=0.0001, optimizer=rmsprop, weight_decay=0.0;, score=0.709 total time= 3.7min\n",
      "[CV 2/2; 7/10] START batch_size=64, dropout=0.2, learning_rate=0.0001, optimizer=rmsprop, weight_decay=0.0\n"
     ]
    },
    {
     "name": "stderr",
     "output_type": "stream",
     "text": [
      "c:\\Users\\w2\\AppData\\Local\\Programs\\Python\\Python310\\lib\\site-packages\\torch\\optim\\lr_scheduler.py:62: UserWarning: The verbose parameter is deprecated. Please use get_last_lr() to access the learning rate.\n",
      "  warnings.warn(\n"
     ]
    },
    {
     "name": "stdout",
     "output_type": "stream",
     "text": [
      "[CV 2/2; 7/10] END batch_size=64, dropout=0.2, learning_rate=0.0001, optimizer=rmsprop, weight_decay=0.0;, score=0.719 total time= 3.7min\n",
      "[CV 1/2; 8/10] START batch_size=48, dropout=0.0, learning_rate=0.0001, optimizer=adam, weight_decay=0.0\n"
     ]
    },
    {
     "name": "stderr",
     "output_type": "stream",
     "text": [
      "c:\\Users\\w2\\AppData\\Local\\Programs\\Python\\Python310\\lib\\site-packages\\torch\\optim\\lr_scheduler.py:62: UserWarning: The verbose parameter is deprecated. Please use get_last_lr() to access the learning rate.\n",
      "  warnings.warn(\n"
     ]
    },
    {
     "name": "stdout",
     "output_type": "stream",
     "text": [
      "[CV 1/2; 8/10] END batch_size=48, dropout=0.0, learning_rate=0.0001, optimizer=adam, weight_decay=0.0;, score=0.717 total time= 3.7min\n",
      "[CV 2/2; 8/10] START batch_size=48, dropout=0.0, learning_rate=0.0001, optimizer=adam, weight_decay=0.0\n"
     ]
    },
    {
     "name": "stderr",
     "output_type": "stream",
     "text": [
      "c:\\Users\\w2\\AppData\\Local\\Programs\\Python\\Python310\\lib\\site-packages\\torch\\optim\\lr_scheduler.py:62: UserWarning: The verbose parameter is deprecated. Please use get_last_lr() to access the learning rate.\n",
      "  warnings.warn(\n"
     ]
    },
    {
     "name": "stdout",
     "output_type": "stream",
     "text": [
      "[CV 2/2; 8/10] END batch_size=48, dropout=0.0, learning_rate=0.0001, optimizer=adam, weight_decay=0.0;, score=0.697 total time= 3.7min\n",
      "[CV 1/2; 9/10] START batch_size=64, dropout=0.1, learning_rate=0.0001, optimizer=adamw, weight_decay=1e-05\n"
     ]
    },
    {
     "name": "stderr",
     "output_type": "stream",
     "text": [
      "c:\\Users\\w2\\AppData\\Local\\Programs\\Python\\Python310\\lib\\site-packages\\torch\\optim\\lr_scheduler.py:62: UserWarning: The verbose parameter is deprecated. Please use get_last_lr() to access the learning rate.\n",
      "  warnings.warn(\n"
     ]
    },
    {
     "name": "stdout",
     "output_type": "stream",
     "text": [
      "[CV 1/2; 9/10] END batch_size=64, dropout=0.1, learning_rate=0.0001, optimizer=adamw, weight_decay=1e-05;, score=0.712 total time= 3.7min\n",
      "[CV 2/2; 9/10] START batch_size=64, dropout=0.1, learning_rate=0.0001, optimizer=adamw, weight_decay=1e-05\n"
     ]
    },
    {
     "name": "stderr",
     "output_type": "stream",
     "text": [
      "c:\\Users\\w2\\AppData\\Local\\Programs\\Python\\Python310\\lib\\site-packages\\torch\\optim\\lr_scheduler.py:62: UserWarning: The verbose parameter is deprecated. Please use get_last_lr() to access the learning rate.\n",
      "  warnings.warn(\n"
     ]
    },
    {
     "name": "stdout",
     "output_type": "stream",
     "text": [
      "[CV 2/2; 9/10] END batch_size=64, dropout=0.1, learning_rate=0.0001, optimizer=adamw, weight_decay=1e-05;, score=0.709 total time= 3.7min\n",
      "[CV 1/2; 10/10] START batch_size=16, dropout=0.1, learning_rate=0.0001, optimizer=adam, weight_decay=1e-06\n"
     ]
    },
    {
     "name": "stderr",
     "output_type": "stream",
     "text": [
      "c:\\Users\\w2\\AppData\\Local\\Programs\\Python\\Python310\\lib\\site-packages\\torch\\optim\\lr_scheduler.py:62: UserWarning: The verbose parameter is deprecated. Please use get_last_lr() to access the learning rate.\n",
      "  warnings.warn(\n"
     ]
    },
    {
     "name": "stdout",
     "output_type": "stream",
     "text": [
      "[CV 1/2; 10/10] END batch_size=16, dropout=0.1, learning_rate=0.0001, optimizer=adam, weight_decay=1e-06;, score=0.705 total time= 3.7min\n",
      "[CV 2/2; 10/10] START batch_size=16, dropout=0.1, learning_rate=0.0001, optimizer=adam, weight_decay=1e-06\n"
     ]
    },
    {
     "name": "stderr",
     "output_type": "stream",
     "text": [
      "c:\\Users\\w2\\AppData\\Local\\Programs\\Python\\Python310\\lib\\site-packages\\torch\\optim\\lr_scheduler.py:62: UserWarning: The verbose parameter is deprecated. Please use get_last_lr() to access the learning rate.\n",
      "  warnings.warn(\n"
     ]
    },
    {
     "name": "stdout",
     "output_type": "stream",
     "text": [
      "[CV 2/2; 10/10] END batch_size=16, dropout=0.1, learning_rate=0.0001, optimizer=adam, weight_decay=1e-06;, score=0.706 total time= 3.8min\n"
     ]
    },
    {
     "name": "stderr",
     "output_type": "stream",
     "text": [
      "c:\\Users\\w2\\AppData\\Local\\Programs\\Python\\Python310\\lib\\site-packages\\torch\\optim\\lr_scheduler.py:62: UserWarning: The verbose parameter is deprecated. Please use get_last_lr() to access the learning rate.\n",
      "  warnings.warn(\n"
     ]
    },
    {
     "name": "stdout",
     "output_type": "stream",
     "text": [
      "Best parameters found:\n",
      "{'weight_decay': 0.0, 'optimizer': 'rmsprop', 'learning_rate': 0.0001, 'dropout': 0.2, 'batch_size': 64}\n",
      "Best validation AUC: 0.7142\n"
     ]
    }
   ],
   "source": [
    "model_resnet = PyTorchClassifier(model_name='resnet101')\n",
    "\n",
    "random_search = RandomizedSearchCV(\n",
    "    estimator=model_resnet,\n",
    "    param_distributions=param_grid,\n",
    "    n_iter=10,  # Number of parameter settings to sample\n",
    "    cv=2,  \n",
    "    scoring=custom_scorer,  # Use AUC as the scoring metric\n",
    "    n_jobs=1,  # Set to 1 for GPU training\n",
    "    verbose=10,\n",
    "    random_state=42\n",
    ")\n",
    "\n",
    "# Fit the random search\n",
    "# Note: X and y are dummy variables, we use the global datasets\n",
    "X_dummy = np.zeros((len(train_df_small), 1))\n",
    "y_dummy = np.zeros((len(train_df_small), 1))\n",
    "\n",
    "random_search.fit(X_dummy, y_dummy)\n",
    "\n",
    "# Print the best parametersw\n",
    "print(\"Best parameters found:\")\n",
    "print(random_search.best_params_)\n",
    "print(f\"Best validation AUC: {random_search.best_score_:.4f}\")"
   ]
  },
  {
   "cell_type": "code",
   "execution_count": 33,
   "id": "0ec0b654",
   "metadata": {},
   "outputs": [
    {
     "name": "stdout",
     "output_type": "stream",
     "text": [
      "Fitting 2 folds for each of 10 candidates, totalling 20 fits\n",
      "[CV 1/2; 1/10] START batch_size=48, dropout=0.1, learning_rate=0.0015, optimizer=rmsprop, weight_decay=1e-05\n"
     ]
    },
    {
     "name": "stderr",
     "output_type": "stream",
     "text": [
      "Downloading: \"https://download.pytorch.org/models/vit_b_16-c867db91.pth\" to C:\\Users\\w2/.cache\\torch\\hub\\checkpoints\\vit_b_16-c867db91.pth\n",
      "100%|██████████| 330M/330M [00:14<00:00, 23.8MB/s] \n",
      "c:\\Users\\w2\\AppData\\Local\\Programs\\Python\\Python310\\lib\\site-packages\\torch\\optim\\lr_scheduler.py:62: UserWarning: The verbose parameter is deprecated. Please use get_last_lr() to access the learning rate.\n",
      "  warnings.warn(\n"
     ]
    },
    {
     "name": "stdout",
     "output_type": "stream",
     "text": [
      "[CV 1/2; 1/10] END batch_size=48, dropout=0.1, learning_rate=0.0015, optimizer=rmsprop, weight_decay=1e-05;, score=0.511 total time= 5.3min\n",
      "[CV 2/2; 1/10] START batch_size=48, dropout=0.1, learning_rate=0.0015, optimizer=rmsprop, weight_decay=1e-05\n"
     ]
    },
    {
     "name": "stderr",
     "output_type": "stream",
     "text": [
      "c:\\Users\\w2\\AppData\\Local\\Programs\\Python\\Python310\\lib\\site-packages\\torch\\optim\\lr_scheduler.py:62: UserWarning: The verbose parameter is deprecated. Please use get_last_lr() to access the learning rate.\n",
      "  warnings.warn(\n"
     ]
    },
    {
     "name": "stdout",
     "output_type": "stream",
     "text": [
      "[CV 2/2; 1/10] END batch_size=48, dropout=0.1, learning_rate=0.0015, optimizer=rmsprop, weight_decay=1e-05;, score=0.506 total time= 5.1min\n",
      "[CV 1/2; 2/10] START batch_size=48, dropout=0.5, learning_rate=0.0015, optimizer=adamw, weight_decay=0.0001\n"
     ]
    },
    {
     "name": "stderr",
     "output_type": "stream",
     "text": [
      "c:\\Users\\w2\\AppData\\Local\\Programs\\Python\\Python310\\lib\\site-packages\\torch\\optim\\lr_scheduler.py:62: UserWarning: The verbose parameter is deprecated. Please use get_last_lr() to access the learning rate.\n",
      "  warnings.warn(\n"
     ]
    },
    {
     "name": "stdout",
     "output_type": "stream",
     "text": [
      "[CV 1/2; 2/10] END batch_size=48, dropout=0.5, learning_rate=0.0015, optimizer=adamw, weight_decay=0.0001;, score=0.540 total time= 5.1min\n",
      "[CV 2/2; 2/10] START batch_size=48, dropout=0.5, learning_rate=0.0015, optimizer=adamw, weight_decay=0.0001\n"
     ]
    },
    {
     "name": "stderr",
     "output_type": "stream",
     "text": [
      "c:\\Users\\w2\\AppData\\Local\\Programs\\Python\\Python310\\lib\\site-packages\\torch\\optim\\lr_scheduler.py:62: UserWarning: The verbose parameter is deprecated. Please use get_last_lr() to access the learning rate.\n",
      "  warnings.warn(\n"
     ]
    },
    {
     "name": "stdout",
     "output_type": "stream",
     "text": [
      "[CV 2/2; 2/10] END batch_size=48, dropout=0.5, learning_rate=0.0015, optimizer=adamw, weight_decay=0.0001;, score=0.548 total time= 5.1min\n",
      "[CV 1/2; 3/10] START batch_size=32, dropout=0.4, learning_rate=5e-05, optimizer=rmsprop, weight_decay=0.0\n"
     ]
    },
    {
     "name": "stderr",
     "output_type": "stream",
     "text": [
      "c:\\Users\\w2\\AppData\\Local\\Programs\\Python\\Python310\\lib\\site-packages\\torch\\optim\\lr_scheduler.py:62: UserWarning: The verbose parameter is deprecated. Please use get_last_lr() to access the learning rate.\n",
      "  warnings.warn(\n"
     ]
    },
    {
     "name": "stdout",
     "output_type": "stream",
     "text": [
      "[CV 1/2; 3/10] END batch_size=32, dropout=0.4, learning_rate=5e-05, optimizer=rmsprop, weight_decay=0.0;, score=0.644 total time= 5.1min\n",
      "[CV 2/2; 3/10] START batch_size=32, dropout=0.4, learning_rate=5e-05, optimizer=rmsprop, weight_decay=0.0\n"
     ]
    },
    {
     "name": "stderr",
     "output_type": "stream",
     "text": [
      "c:\\Users\\w2\\AppData\\Local\\Programs\\Python\\Python310\\lib\\site-packages\\torch\\optim\\lr_scheduler.py:62: UserWarning: The verbose parameter is deprecated. Please use get_last_lr() to access the learning rate.\n",
      "  warnings.warn(\n"
     ]
    },
    {
     "name": "stdout",
     "output_type": "stream",
     "text": [
      "[CV 2/2; 3/10] END batch_size=32, dropout=0.4, learning_rate=5e-05, optimizer=rmsprop, weight_decay=0.0;, score=0.694 total time= 5.1min\n",
      "[CV 1/2; 4/10] START batch_size=48, dropout=0.3, learning_rate=0.0015, optimizer=rmsprop, weight_decay=1e-05\n"
     ]
    },
    {
     "name": "stderr",
     "output_type": "stream",
     "text": [
      "c:\\Users\\w2\\AppData\\Local\\Programs\\Python\\Python310\\lib\\site-packages\\torch\\optim\\lr_scheduler.py:62: UserWarning: The verbose parameter is deprecated. Please use get_last_lr() to access the learning rate.\n",
      "  warnings.warn(\n"
     ]
    },
    {
     "name": "stdout",
     "output_type": "stream",
     "text": [
      "[CV 1/2; 4/10] END batch_size=48, dropout=0.3, learning_rate=0.0015, optimizer=rmsprop, weight_decay=1e-05;, score=0.495 total time= 5.1min\n",
      "[CV 2/2; 4/10] START batch_size=48, dropout=0.3, learning_rate=0.0015, optimizer=rmsprop, weight_decay=1e-05\n"
     ]
    },
    {
     "name": "stderr",
     "output_type": "stream",
     "text": [
      "c:\\Users\\w2\\AppData\\Local\\Programs\\Python\\Python310\\lib\\site-packages\\torch\\optim\\lr_scheduler.py:62: UserWarning: The verbose parameter is deprecated. Please use get_last_lr() to access the learning rate.\n",
      "  warnings.warn(\n"
     ]
    },
    {
     "name": "stdout",
     "output_type": "stream",
     "text": [
      "[CV 2/2; 4/10] END batch_size=48, dropout=0.3, learning_rate=0.0015, optimizer=rmsprop, weight_decay=1e-05;, score=0.506 total time= 5.1min\n",
      "[CV 1/2; 5/10] START batch_size=48, dropout=0.1, learning_rate=0.0001, optimizer=adam, weight_decay=1e-05\n"
     ]
    },
    {
     "name": "stderr",
     "output_type": "stream",
     "text": [
      "c:\\Users\\w2\\AppData\\Local\\Programs\\Python\\Python310\\lib\\site-packages\\torch\\optim\\lr_scheduler.py:62: UserWarning: The verbose parameter is deprecated. Please use get_last_lr() to access the learning rate.\n",
      "  warnings.warn(\n"
     ]
    },
    {
     "name": "stdout",
     "output_type": "stream",
     "text": [
      "[CV 1/2; 5/10] END batch_size=48, dropout=0.1, learning_rate=0.0001, optimizer=adam, weight_decay=1e-05;, score=0.690 total time= 5.1min\n",
      "[CV 2/2; 5/10] START batch_size=48, dropout=0.1, learning_rate=0.0001, optimizer=adam, weight_decay=1e-05\n"
     ]
    },
    {
     "name": "stderr",
     "output_type": "stream",
     "text": [
      "c:\\Users\\w2\\AppData\\Local\\Programs\\Python\\Python310\\lib\\site-packages\\torch\\optim\\lr_scheduler.py:62: UserWarning: The verbose parameter is deprecated. Please use get_last_lr() to access the learning rate.\n",
      "  warnings.warn(\n"
     ]
    },
    {
     "name": "stdout",
     "output_type": "stream",
     "text": [
      "[CV 2/2; 5/10] END batch_size=48, dropout=0.1, learning_rate=0.0001, optimizer=adam, weight_decay=1e-05;, score=0.682 total time= 5.1min\n",
      "[CV 1/2; 6/10] START batch_size=48, dropout=0.1, learning_rate=1e-05, optimizer=adam, weight_decay=0.0001\n"
     ]
    },
    {
     "name": "stderr",
     "output_type": "stream",
     "text": [
      "c:\\Users\\w2\\AppData\\Local\\Programs\\Python\\Python310\\lib\\site-packages\\torch\\optim\\lr_scheduler.py:62: UserWarning: The verbose parameter is deprecated. Please use get_last_lr() to access the learning rate.\n",
      "  warnings.warn(\n"
     ]
    },
    {
     "name": "stdout",
     "output_type": "stream",
     "text": [
      "[CV 1/2; 6/10] END batch_size=48, dropout=0.1, learning_rate=1e-05, optimizer=adam, weight_decay=0.0001;, score=0.696 total time= 5.1min\n",
      "[CV 2/2; 6/10] START batch_size=48, dropout=0.1, learning_rate=1e-05, optimizer=adam, weight_decay=0.0001\n"
     ]
    },
    {
     "name": "stderr",
     "output_type": "stream",
     "text": [
      "c:\\Users\\w2\\AppData\\Local\\Programs\\Python\\Python310\\lib\\site-packages\\torch\\optim\\lr_scheduler.py:62: UserWarning: The verbose parameter is deprecated. Please use get_last_lr() to access the learning rate.\n",
      "  warnings.warn(\n"
     ]
    },
    {
     "name": "stdout",
     "output_type": "stream",
     "text": [
      "[CV 2/2; 6/10] END batch_size=48, dropout=0.1, learning_rate=1e-05, optimizer=adam, weight_decay=0.0001;, score=0.693 total time= 5.0min\n",
      "[CV 1/2; 7/10] START batch_size=64, dropout=0.2, learning_rate=0.0001, optimizer=rmsprop, weight_decay=0.0\n"
     ]
    },
    {
     "name": "stderr",
     "output_type": "stream",
     "text": [
      "c:\\Users\\w2\\AppData\\Local\\Programs\\Python\\Python310\\lib\\site-packages\\torch\\optim\\lr_scheduler.py:62: UserWarning: The verbose parameter is deprecated. Please use get_last_lr() to access the learning rate.\n",
      "  warnings.warn(\n"
     ]
    },
    {
     "name": "stdout",
     "output_type": "stream",
     "text": [
      "[CV 1/2; 7/10] END batch_size=64, dropout=0.2, learning_rate=0.0001, optimizer=rmsprop, weight_decay=0.0;, score=0.558 total time= 4.9min\n",
      "[CV 2/2; 7/10] START batch_size=64, dropout=0.2, learning_rate=0.0001, optimizer=rmsprop, weight_decay=0.0\n"
     ]
    },
    {
     "name": "stderr",
     "output_type": "stream",
     "text": [
      "c:\\Users\\w2\\AppData\\Local\\Programs\\Python\\Python310\\lib\\site-packages\\torch\\optim\\lr_scheduler.py:62: UserWarning: The verbose parameter is deprecated. Please use get_last_lr() to access the learning rate.\n",
      "  warnings.warn(\n"
     ]
    },
    {
     "name": "stdout",
     "output_type": "stream",
     "text": [
      "[CV 2/2; 7/10] END batch_size=64, dropout=0.2, learning_rate=0.0001, optimizer=rmsprop, weight_decay=0.0;, score=0.554 total time= 4.9min\n",
      "[CV 1/2; 8/10] START batch_size=48, dropout=0.0, learning_rate=0.0001, optimizer=adam, weight_decay=0.0\n"
     ]
    },
    {
     "name": "stderr",
     "output_type": "stream",
     "text": [
      "c:\\Users\\w2\\AppData\\Local\\Programs\\Python\\Python310\\lib\\site-packages\\torch\\optim\\lr_scheduler.py:62: UserWarning: The verbose parameter is deprecated. Please use get_last_lr() to access the learning rate.\n",
      "  warnings.warn(\n"
     ]
    },
    {
     "name": "stdout",
     "output_type": "stream",
     "text": [
      "[CV 1/2; 8/10] END batch_size=48, dropout=0.0, learning_rate=0.0001, optimizer=adam, weight_decay=0.0;, score=0.692 total time= 4.9min\n",
      "[CV 2/2; 8/10] START batch_size=48, dropout=0.0, learning_rate=0.0001, optimizer=adam, weight_decay=0.0\n"
     ]
    },
    {
     "name": "stderr",
     "output_type": "stream",
     "text": [
      "c:\\Users\\w2\\AppData\\Local\\Programs\\Python\\Python310\\lib\\site-packages\\torch\\optim\\lr_scheduler.py:62: UserWarning: The verbose parameter is deprecated. Please use get_last_lr() to access the learning rate.\n",
      "  warnings.warn(\n"
     ]
    },
    {
     "name": "stdout",
     "output_type": "stream",
     "text": [
      "[CV 2/2; 8/10] END batch_size=48, dropout=0.0, learning_rate=0.0001, optimizer=adam, weight_decay=0.0;, score=0.686 total time= 4.9min\n",
      "[CV 1/2; 9/10] START batch_size=64, dropout=0.1, learning_rate=0.0001, optimizer=adamw, weight_decay=1e-05\n"
     ]
    },
    {
     "name": "stderr",
     "output_type": "stream",
     "text": [
      "c:\\Users\\w2\\AppData\\Local\\Programs\\Python\\Python310\\lib\\site-packages\\torch\\optim\\lr_scheduler.py:62: UserWarning: The verbose parameter is deprecated. Please use get_last_lr() to access the learning rate.\n",
      "  warnings.warn(\n"
     ]
    },
    {
     "name": "stdout",
     "output_type": "stream",
     "text": [
      "[CV 1/2; 9/10] END batch_size=64, dropout=0.1, learning_rate=0.0001, optimizer=adamw, weight_decay=1e-05;, score=0.694 total time= 4.9min\n",
      "[CV 2/2; 9/10] START batch_size=64, dropout=0.1, learning_rate=0.0001, optimizer=adamw, weight_decay=1e-05\n"
     ]
    },
    {
     "name": "stderr",
     "output_type": "stream",
     "text": [
      "c:\\Users\\w2\\AppData\\Local\\Programs\\Python\\Python310\\lib\\site-packages\\torch\\optim\\lr_scheduler.py:62: UserWarning: The verbose parameter is deprecated. Please use get_last_lr() to access the learning rate.\n",
      "  warnings.warn(\n"
     ]
    },
    {
     "name": "stdout",
     "output_type": "stream",
     "text": [
      "[CV 2/2; 9/10] END batch_size=64, dropout=0.1, learning_rate=0.0001, optimizer=adamw, weight_decay=1e-05;, score=0.695 total time= 4.9min\n",
      "[CV 1/2; 10/10] START batch_size=16, dropout=0.1, learning_rate=0.0001, optimizer=adam, weight_decay=1e-06\n"
     ]
    },
    {
     "name": "stderr",
     "output_type": "stream",
     "text": [
      "c:\\Users\\w2\\AppData\\Local\\Programs\\Python\\Python310\\lib\\site-packages\\torch\\optim\\lr_scheduler.py:62: UserWarning: The verbose parameter is deprecated. Please use get_last_lr() to access the learning rate.\n",
      "  warnings.warn(\n"
     ]
    },
    {
     "name": "stdout",
     "output_type": "stream",
     "text": [
      "[CV 1/2; 10/10] END batch_size=16, dropout=0.1, learning_rate=0.0001, optimizer=adam, weight_decay=1e-06;, score=0.638 total time= 5.3min\n",
      "[CV 2/2; 10/10] START batch_size=16, dropout=0.1, learning_rate=0.0001, optimizer=adam, weight_decay=1e-06\n"
     ]
    },
    {
     "name": "stderr",
     "output_type": "stream",
     "text": [
      "c:\\Users\\w2\\AppData\\Local\\Programs\\Python\\Python310\\lib\\site-packages\\torch\\optim\\lr_scheduler.py:62: UserWarning: The verbose parameter is deprecated. Please use get_last_lr() to access the learning rate.\n",
      "  warnings.warn(\n"
     ]
    },
    {
     "name": "stdout",
     "output_type": "stream",
     "text": [
      "[CV 2/2; 10/10] END batch_size=16, dropout=0.1, learning_rate=0.0001, optimizer=adam, weight_decay=1e-06;, score=0.671 total time= 5.3min\n"
     ]
    },
    {
     "name": "stderr",
     "output_type": "stream",
     "text": [
      "c:\\Users\\w2\\AppData\\Local\\Programs\\Python\\Python310\\lib\\site-packages\\torch\\optim\\lr_scheduler.py:62: UserWarning: The verbose parameter is deprecated. Please use get_last_lr() to access the learning rate.\n",
      "  warnings.warn(\n"
     ]
    },
    {
     "name": "stdout",
     "output_type": "stream",
     "text": [
      "Best parameters found:\n",
      "{'weight_decay': 0.0001, 'optimizer': 'adam', 'learning_rate': 1e-05, 'dropout': 0.1, 'batch_size': 48}\n",
      "Best validation AUC: 0.6946\n"
     ]
    }
   ],
   "source": [
    "model_vit = PyTorchClassifier(model_name='vit_b_16')\n",
    "\n",
    "random_search = RandomizedSearchCV(\n",
    "    estimator=model_vit,\n",
    "    param_distributions=param_grid,\n",
    "    n_iter=10,  # Number of parameter settings to sample\n",
    "    cv=2,  \n",
    "    scoring=custom_scorer,  # Use AUC as the scoring metric\n",
    "    n_jobs=1,  # Set to 1 for GPU training\n",
    "    verbose=10,\n",
    "    random_state=42\n",
    ")\n",
    "\n",
    "# Fit the random search\n",
    "# Note: X and y are dummy variables, we use the global datasets\n",
    "X_dummy = np.zeros((len(train_df_small), 1))\n",
    "y_dummy = np.zeros((len(train_df_small), 1))\n",
    "\n",
    "random_search.fit(X_dummy, y_dummy)\n",
    "\n",
    "# Print the best parametersw\n",
    "print(\"Best parameters found:\")\n",
    "print(random_search.best_params_)\n",
    "print(f\"Best validation AUC: {random_search.best_score_:.4f}\")"
   ]
  },
  {
   "cell_type": "markdown",
   "id": "9d551161",
   "metadata": {},
   "source": [
    "#AlexNet\n"
   ]
  },
  {
   "cell_type": "code",
   "execution_count": 12,
   "id": "2362de90",
   "metadata": {},
   "outputs": [
    {
     "name": "stdout",
     "output_type": "stream",
     "text": [
      "\n",
      "Epoch [1/20]\n"
     ]
    },
    {
     "name": "stderr",
     "output_type": "stream",
     "text": [
      "                                                                        \r"
     ]
    },
    {
     "ename": "KeyboardInterrupt",
     "evalue": "",
     "output_type": "error",
     "traceback": [
      "\u001b[1;31m---------------------------------------------------------------------------\u001b[0m",
      "\u001b[1;31mKeyboardInterrupt\u001b[0m                         Traceback (most recent call last)",
      "Cell \u001b[1;32mIn[12], line 139\u001b[0m\n\u001b[0;32m    135\u001b[0m     auc \u001b[38;5;241m=\u001b[39m calculate_auc(outputs_all, targets_all)\n\u001b[0;32m    137\u001b[0m     \u001b[38;5;28;01mreturn\u001b[39;00m total_loss \u001b[38;5;241m/\u001b[39m \u001b[38;5;28mlen\u001b[39m(dataloader), auc\n\u001b[1;32m--> 139\u001b[0m \u001b[43mtrain\u001b[49m\u001b[43m(\u001b[49m\u001b[43malexnet\u001b[49m\u001b[43m,\u001b[49m\u001b[43m \u001b[49m\u001b[43mtrain_loader\u001b[49m\u001b[43m,\u001b[49m\u001b[43m \u001b[49m\u001b[43mval_loader\u001b[49m\u001b[43m,\u001b[49m\u001b[43m \u001b[49m\u001b[43mcriterion\u001b[49m\u001b[43m,\u001b[49m\u001b[43m \u001b[49m\u001b[43moptimizer\u001b[49m\u001b[43m,\u001b[49m\u001b[43m \u001b[49m\u001b[43mscheduler\u001b[49m\u001b[43m,\u001b[49m\u001b[43m \u001b[49m\u001b[43mdevice\u001b[49m\u001b[43m,\u001b[49m\u001b[43m \u001b[49m\u001b[43mepochs\u001b[49m\u001b[38;5;241;43m=\u001b[39;49m\u001b[38;5;241;43m20\u001b[39;49m\u001b[43m)\u001b[49m\n",
      "Cell \u001b[1;32mIn[12], line 69\u001b[0m, in \u001b[0;36mtrain\u001b[1;34m(model, train_loader, val_loader, criterion, optimizer, scheduler, device, epochs)\u001b[0m\n\u001b[0;32m     66\u001b[0m \u001b[38;5;28mprint\u001b[39m(\u001b[38;5;124mf\u001b[39m\u001b[38;5;124m\"\u001b[39m\u001b[38;5;130;01m\\n\u001b[39;00m\u001b[38;5;124mEpoch [\u001b[39m\u001b[38;5;132;01m{\u001b[39;00mepoch\u001b[38;5;241m+\u001b[39m\u001b[38;5;241m1\u001b[39m\u001b[38;5;132;01m}\u001b[39;00m\u001b[38;5;124m/\u001b[39m\u001b[38;5;132;01m{\u001b[39;00mepochs\u001b[38;5;132;01m}\u001b[39;00m\u001b[38;5;124m]\u001b[39m\u001b[38;5;124m\"\u001b[39m)\n\u001b[0;32m     67\u001b[0m loop \u001b[38;5;241m=\u001b[39m tqdm(train_loader, desc\u001b[38;5;241m=\u001b[39m\u001b[38;5;124m'\u001b[39m\u001b[38;5;124mTraining\u001b[39m\u001b[38;5;124m'\u001b[39m, leave\u001b[38;5;241m=\u001b[39m\u001b[38;5;28;01mFalse\u001b[39;00m)\n\u001b[1;32m---> 69\u001b[0m \u001b[38;5;28;01mfor\u001b[39;00m images, labels \u001b[38;5;129;01min\u001b[39;00m loop:\n\u001b[0;32m     70\u001b[0m     images \u001b[38;5;241m=\u001b[39m images\u001b[38;5;241m.\u001b[39mto(device)\n\u001b[0;32m     71\u001b[0m     labels \u001b[38;5;241m=\u001b[39m labels\u001b[38;5;241m.\u001b[39mto(device)\n",
      "File \u001b[1;32mc:\\Users\\w2\\AppData\\Local\\Programs\\Python\\Python310\\lib\\site-packages\\tqdm\\std.py:1181\u001b[0m, in \u001b[0;36mtqdm.__iter__\u001b[1;34m(self)\u001b[0m\n\u001b[0;32m   1178\u001b[0m time \u001b[38;5;241m=\u001b[39m \u001b[38;5;28mself\u001b[39m\u001b[38;5;241m.\u001b[39m_time\n\u001b[0;32m   1180\u001b[0m \u001b[38;5;28;01mtry\u001b[39;00m:\n\u001b[1;32m-> 1181\u001b[0m     \u001b[38;5;28;01mfor\u001b[39;00m obj \u001b[38;5;129;01min\u001b[39;00m iterable:\n\u001b[0;32m   1182\u001b[0m         \u001b[38;5;28;01myield\u001b[39;00m obj\n\u001b[0;32m   1183\u001b[0m         \u001b[38;5;66;03m# Update and possibly print the progressbar.\u001b[39;00m\n\u001b[0;32m   1184\u001b[0m         \u001b[38;5;66;03m# Note: does not call self.update(1) for speed optimisation.\u001b[39;00m\n",
      "File \u001b[1;32mc:\\Users\\w2\\AppData\\Local\\Programs\\Python\\Python310\\lib\\site-packages\\torch\\utils\\data\\dataloader.py:708\u001b[0m, in \u001b[0;36m_BaseDataLoaderIter.__next__\u001b[1;34m(self)\u001b[0m\n\u001b[0;32m    705\u001b[0m \u001b[38;5;28;01mif\u001b[39;00m \u001b[38;5;28mself\u001b[39m\u001b[38;5;241m.\u001b[39m_sampler_iter \u001b[38;5;129;01mis\u001b[39;00m \u001b[38;5;28;01mNone\u001b[39;00m:\n\u001b[0;32m    706\u001b[0m     \u001b[38;5;66;03m# TODO(https://github.com/pytorch/pytorch/issues/76750)\u001b[39;00m\n\u001b[0;32m    707\u001b[0m     \u001b[38;5;28mself\u001b[39m\u001b[38;5;241m.\u001b[39m_reset()  \u001b[38;5;66;03m# type: ignore[call-arg]\u001b[39;00m\n\u001b[1;32m--> 708\u001b[0m data \u001b[38;5;241m=\u001b[39m \u001b[38;5;28;43mself\u001b[39;49m\u001b[38;5;241;43m.\u001b[39;49m\u001b[43m_next_data\u001b[49m\u001b[43m(\u001b[49m\u001b[43m)\u001b[49m\n\u001b[0;32m    709\u001b[0m \u001b[38;5;28mself\u001b[39m\u001b[38;5;241m.\u001b[39m_num_yielded \u001b[38;5;241m+\u001b[39m\u001b[38;5;241m=\u001b[39m \u001b[38;5;241m1\u001b[39m\n\u001b[0;32m    710\u001b[0m \u001b[38;5;28;01mif\u001b[39;00m (\n\u001b[0;32m    711\u001b[0m     \u001b[38;5;28mself\u001b[39m\u001b[38;5;241m.\u001b[39m_dataset_kind \u001b[38;5;241m==\u001b[39m _DatasetKind\u001b[38;5;241m.\u001b[39mIterable\n\u001b[0;32m    712\u001b[0m     \u001b[38;5;129;01mand\u001b[39;00m \u001b[38;5;28mself\u001b[39m\u001b[38;5;241m.\u001b[39m_IterableDataset_len_called \u001b[38;5;129;01mis\u001b[39;00m \u001b[38;5;129;01mnot\u001b[39;00m \u001b[38;5;28;01mNone\u001b[39;00m\n\u001b[0;32m    713\u001b[0m     \u001b[38;5;129;01mand\u001b[39;00m \u001b[38;5;28mself\u001b[39m\u001b[38;5;241m.\u001b[39m_num_yielded \u001b[38;5;241m>\u001b[39m \u001b[38;5;28mself\u001b[39m\u001b[38;5;241m.\u001b[39m_IterableDataset_len_called\n\u001b[0;32m    714\u001b[0m ):\n",
      "File \u001b[1;32mc:\\Users\\w2\\AppData\\Local\\Programs\\Python\\Python310\\lib\\site-packages\\torch\\utils\\data\\dataloader.py:764\u001b[0m, in \u001b[0;36m_SingleProcessDataLoaderIter._next_data\u001b[1;34m(self)\u001b[0m\n\u001b[0;32m    762\u001b[0m \u001b[38;5;28;01mdef\u001b[39;00m \u001b[38;5;21m_next_data\u001b[39m(\u001b[38;5;28mself\u001b[39m):\n\u001b[0;32m    763\u001b[0m     index \u001b[38;5;241m=\u001b[39m \u001b[38;5;28mself\u001b[39m\u001b[38;5;241m.\u001b[39m_next_index()  \u001b[38;5;66;03m# may raise StopIteration\u001b[39;00m\n\u001b[1;32m--> 764\u001b[0m     data \u001b[38;5;241m=\u001b[39m \u001b[38;5;28;43mself\u001b[39;49m\u001b[38;5;241;43m.\u001b[39;49m\u001b[43m_dataset_fetcher\u001b[49m\u001b[38;5;241;43m.\u001b[39;49m\u001b[43mfetch\u001b[49m\u001b[43m(\u001b[49m\u001b[43mindex\u001b[49m\u001b[43m)\u001b[49m  \u001b[38;5;66;03m# may raise StopIteration\u001b[39;00m\n\u001b[0;32m    765\u001b[0m     \u001b[38;5;28;01mif\u001b[39;00m \u001b[38;5;28mself\u001b[39m\u001b[38;5;241m.\u001b[39m_pin_memory:\n\u001b[0;32m    766\u001b[0m         data \u001b[38;5;241m=\u001b[39m _utils\u001b[38;5;241m.\u001b[39mpin_memory\u001b[38;5;241m.\u001b[39mpin_memory(data, \u001b[38;5;28mself\u001b[39m\u001b[38;5;241m.\u001b[39m_pin_memory_device)\n",
      "File \u001b[1;32mc:\\Users\\w2\\AppData\\Local\\Programs\\Python\\Python310\\lib\\site-packages\\torch\\utils\\data\\_utils\\fetch.py:52\u001b[0m, in \u001b[0;36m_MapDatasetFetcher.fetch\u001b[1;34m(self, possibly_batched_index)\u001b[0m\n\u001b[0;32m     50\u001b[0m         data \u001b[38;5;241m=\u001b[39m \u001b[38;5;28mself\u001b[39m\u001b[38;5;241m.\u001b[39mdataset\u001b[38;5;241m.\u001b[39m__getitems__(possibly_batched_index)\n\u001b[0;32m     51\u001b[0m     \u001b[38;5;28;01melse\u001b[39;00m:\n\u001b[1;32m---> 52\u001b[0m         data \u001b[38;5;241m=\u001b[39m [\u001b[38;5;28mself\u001b[39m\u001b[38;5;241m.\u001b[39mdataset[idx] \u001b[38;5;28;01mfor\u001b[39;00m idx \u001b[38;5;129;01min\u001b[39;00m possibly_batched_index]\n\u001b[0;32m     53\u001b[0m \u001b[38;5;28;01melse\u001b[39;00m:\n\u001b[0;32m     54\u001b[0m     data \u001b[38;5;241m=\u001b[39m \u001b[38;5;28mself\u001b[39m\u001b[38;5;241m.\u001b[39mdataset[possibly_batched_index]\n",
      "File \u001b[1;32mc:\\Users\\w2\\AppData\\Local\\Programs\\Python\\Python310\\lib\\site-packages\\torch\\utils\\data\\_utils\\fetch.py:52\u001b[0m, in \u001b[0;36m<listcomp>\u001b[1;34m(.0)\u001b[0m\n\u001b[0;32m     50\u001b[0m         data \u001b[38;5;241m=\u001b[39m \u001b[38;5;28mself\u001b[39m\u001b[38;5;241m.\u001b[39mdataset\u001b[38;5;241m.\u001b[39m__getitems__(possibly_batched_index)\n\u001b[0;32m     51\u001b[0m     \u001b[38;5;28;01melse\u001b[39;00m:\n\u001b[1;32m---> 52\u001b[0m         data \u001b[38;5;241m=\u001b[39m [\u001b[38;5;28;43mself\u001b[39;49m\u001b[38;5;241;43m.\u001b[39;49m\u001b[43mdataset\u001b[49m\u001b[43m[\u001b[49m\u001b[43midx\u001b[49m\u001b[43m]\u001b[49m \u001b[38;5;28;01mfor\u001b[39;00m idx \u001b[38;5;129;01min\u001b[39;00m possibly_batched_index]\n\u001b[0;32m     53\u001b[0m \u001b[38;5;28;01melse\u001b[39;00m:\n\u001b[0;32m     54\u001b[0m     data \u001b[38;5;241m=\u001b[39m \u001b[38;5;28mself\u001b[39m\u001b[38;5;241m.\u001b[39mdataset[possibly_batched_index]\n",
      "Cell \u001b[1;32mIn[7], line 25\u001b[0m, in \u001b[0;36mCXRDataset.__getitem__\u001b[1;34m(self, idx)\u001b[0m\n\u001b[0;32m     22\u001b[0m \u001b[38;5;28;01melif\u001b[39;00m \u001b[38;5;28mself\u001b[39m\u001b[38;5;241m.\u001b[39msize \u001b[38;5;241m==\u001b[39m \u001b[38;5;124m'\u001b[39m\u001b[38;5;124msmall\u001b[39m\u001b[38;5;124m'\u001b[39m:\n\u001b[0;32m     23\u001b[0m     path\u001b[38;5;241m=\u001b[39mos\u001b[38;5;241m.\u001b[39mpath\u001b[38;5;241m.\u001b[39mjoin(DATA_DIR_SMALL,row[\u001b[38;5;124m'\u001b[39m\u001b[38;5;124msplit\u001b[39m\u001b[38;5;124m'\u001b[39m],row[\u001b[38;5;124m'\u001b[39m\u001b[38;5;124mimage_name\u001b[39m\u001b[38;5;124m'\u001b[39m])\n\u001b[1;32m---> 25\u001b[0m img \u001b[38;5;241m=\u001b[39m \u001b[43mImage\u001b[49m\u001b[38;5;241;43m.\u001b[39;49m\u001b[43mopen\u001b[49m\u001b[43m(\u001b[49m\u001b[43mpath\u001b[49m\u001b[43m)\u001b[49m\u001b[38;5;241m.\u001b[39mconvert(\u001b[38;5;124m'\u001b[39m\u001b[38;5;124mRGB\u001b[39m\u001b[38;5;124m'\u001b[39m)\n\u001b[0;32m     27\u001b[0m \u001b[38;5;28;01mif\u001b[39;00m \u001b[38;5;28mself\u001b[39m\u001b[38;5;241m.\u001b[39mtransform:\n\u001b[0;32m     28\u001b[0m     img \u001b[38;5;241m=\u001b[39m \u001b[38;5;28mself\u001b[39m\u001b[38;5;241m.\u001b[39mtransform(img)\n",
      "File \u001b[1;32mc:\\Users\\w2\\AppData\\Local\\Programs\\Python\\Python310\\lib\\site-packages\\PIL\\Image.py:3245\u001b[0m, in \u001b[0;36mopen\u001b[1;34m(fp, mode, formats)\u001b[0m\n\u001b[0;32m   3242\u001b[0m     fp \u001b[38;5;241m=\u001b[39m io\u001b[38;5;241m.\u001b[39mBytesIO(fp\u001b[38;5;241m.\u001b[39mread())\n\u001b[0;32m   3243\u001b[0m     exclusive_fp \u001b[38;5;241m=\u001b[39m \u001b[38;5;28;01mTrue\u001b[39;00m\n\u001b[1;32m-> 3245\u001b[0m prefix \u001b[38;5;241m=\u001b[39m \u001b[43mfp\u001b[49m\u001b[38;5;241;43m.\u001b[39;49m\u001b[43mread\u001b[49m\u001b[43m(\u001b[49m\u001b[38;5;241;43m16\u001b[39;49m\u001b[43m)\u001b[49m\n\u001b[0;32m   3247\u001b[0m preinit()\n\u001b[0;32m   3249\u001b[0m accept_warnings \u001b[38;5;241m=\u001b[39m []\n",
      "\u001b[1;31mKeyboardInterrupt\u001b[0m: "
     ]
    }
   ],
   "source": [
    "#{'weight_decay': 1e-06, 'optimizer': 'adam', 'learning_rate': 5e-05, 'dropout': 0.1, 'batch_size': 32}\n",
    "\n",
    "import torch\n",
    "import torch.nn as nn\n",
    "import torchvision.models as models\n",
    "\n",
    "alexnet = models.alexnet(weights='IMAGENET1K_V1')\n",
    "\n",
    "#for param in densenet.parameters():\n",
    "  #  param.requires_grad = False\n",
    "\n",
    "num_labels = 12\n",
    "alexnet.classifier = nn.Sequential(\n",
    "                nn.Dropout(0.1),\n",
    "                nn.Linear(alexnet.classifier[1].in_features, num_labels),\n",
    "                nn.Sigmoid()\n",
    "            )\n",
    "\n",
    "device = torch.device(\"cuda\" if torch.cuda.is_available() else \"cpu\")\n",
    "alexnet = alexnet.to(device)\n",
    "\n",
    "criterion = nn.BCELoss()\n",
    "\n",
    "optimizer = torch.optim.Adam(alexnet.parameters(), lr=5e-5, weight_decay=1e-6)\n",
    "\n",
    "scheduler = torch.optim.lr_scheduler.ReduceLROnPlateau(optimizer, mode='min', factor=0.5, patience=3, verbose=True)\n",
    "\n",
    "train_loader = DataLoader(train_dataset, batch_size=32, shuffle=True)\n",
    "val_loader   = DataLoader(val_dataset, batch_size=32, shuffle=False)\n",
    "test_loader  = DataLoader(test_dataset, batch_size=32, shuffle=False)\n",
    "\n",
    "history_alexnet ={'training_loss':[],\n",
    "     'validation_loss': []}\n",
    "\n",
    "from sklearn.metrics import roc_auc_score\n",
    "\n",
    "def calculate_auc(outputs, targets):\n",
    "    \"\"\"Calculate AUC for each label and return the mean AUC\"\"\"\n",
    "    outputs_np = outputs.detach().cpu().numpy()\n",
    "    targets_np = targets.detach().cpu().numpy()\n",
    "\n",
    "    auc_scores = []\n",
    "    for i in range(targets_np.shape[1]):\n",
    "        try:\n",
    "            # Skip if all values are the same (cannot calculate AUC)\n",
    "            if len(np.unique(targets_np[:, i])) > 1:\n",
    "                auc = roc_auc_score(targets_np[:, i], outputs_np[:, i])\n",
    "                auc_scores.append(auc)\n",
    "        except ValueError:\n",
    "            continue\n",
    "\n",
    "    if auc_scores:\n",
    "        return np.mean(auc_scores)\n",
    "    else:\n",
    "        return 0.0\n",
    "\n",
    "def train(model, train_loader, val_loader, criterion, optimizer, scheduler, device, epochs=20):\n",
    "    best_val_auc = 0\n",
    "\n",
    "    for epoch in range(epochs):\n",
    "        model.train()\n",
    "        train_loss = 0.0\n",
    "        train_outputs_list = []\n",
    "        train_targets_list = []\n",
    "\n",
    "        print(f\"\\nEpoch [{epoch+1}/{epochs}]\")\n",
    "        loop = tqdm(train_loader, desc='Training', leave=False)\n",
    "\n",
    "        for images, labels in loop:\n",
    "            images = images.to(device)\n",
    "            labels = labels.to(device)\n",
    "\n",
    "            optimizer.zero_grad()\n",
    "            outputs = model(images)\n",
    "            loss = criterion(outputs, labels)\n",
    "            loss.backward()\n",
    "            optimizer.step()\n",
    "\n",
    "            train_loss += loss.item()\n",
    "\n",
    "            # Store outputs and targets for AUC calculation\n",
    "            train_outputs_list.append(outputs.detach().cpu())\n",
    "            train_targets_list.append(labels.detach().cpu())\n",
    "\n",
    "            loop.set_postfix(loss=loss.item())\n",
    "\n",
    "        # Calculate training AUC\n",
    "        train_outputs_all = torch.cat(train_outputs_list, dim=0)\n",
    "        train_targets_all = torch.cat(train_targets_list, dim=0)\n",
    "        train_auc = calculate_auc(train_outputs_all, train_targets_all)\n",
    "\n",
    "        avg_train_loss = train_loss / len(train_loader)\n",
    "        print(f\"Train Loss: {avg_train_loss:.4f} | AUC: {train_auc:.4f}\")\n",
    "\n",
    "        # Validate\n",
    "        val_loss, val_auc = evaluate(model, val_loader, criterion, device)\n",
    "        print(f\"Val Loss:   {val_loss:.4f} | Val AUC: {val_auc:.4f}\")\n",
    "\n",
    "        history_alexnet['training_loss'].append(avg_train_loss)\n",
    "        history_alexnet['validation_loss'].append(val_loss)        \n",
    "        scheduler.step(val_loss)\n",
    "\n",
    "        # Save best model\n",
    "        if val_auc > best_val_auc:\n",
    "            best_val_auc = val_auc\n",
    "            torch.save(model.state_dict(), 'best_model_alexnet.pth')\n",
    "            print(f\"New best model saved with AUC: {best_val_auc:.4f}\")\n",
    "\n",
    "def evaluate(model, dataloader, criterion, device):\n",
    "    model.eval()\n",
    "    total_loss = 0.0\n",
    "    outputs_list = []\n",
    "    targets_list = []\n",
    "\n",
    "    with torch.no_grad():\n",
    "        loop = tqdm(dataloader, desc='Evaluating', leave=False)\n",
    "\n",
    "        for images, labels in loop:\n",
    "            images = images.to(device)\n",
    "            labels = labels.to(device)\n",
    "            outputs = model(images)\n",
    "\n",
    "            loss = criterion(outputs, labels)\n",
    "            total_loss += loss.item()\n",
    "\n",
    "            # Store outputs and targets for AUC calculation\n",
    "            outputs_list.append(outputs.cpu())\n",
    "            targets_list.append(labels.cpu())\n",
    "\n",
    "            loop.set_postfix(loss=loss.item())\n",
    "\n",
    "    # Calculate AUC\n",
    "    outputs_all = torch.cat(outputs_list, dim=0)\n",
    "    targets_all = torch.cat(targets_list, dim=0)\n",
    "    auc = calculate_auc(outputs_all, targets_all)\n",
    "\n",
    "    return total_loss / len(dataloader), auc\n",
    "\n",
    "train(alexnet, train_loader, val_loader, criterion, optimizer, scheduler, device, epochs=20)\n",
    "\n",
    "\n",
    "#Time taken to train (AlexNet): 42m 23s 20 epochs = 36 minutes for 17 epochs\n",
    "#Best Validation AUC:0.7082"
   ]
  },
  {
   "cell_type": "code",
   "execution_count": 33,
   "id": "11b3c074",
   "metadata": {},
   "outputs": [
    {
     "data": {
      "image/png": "[encoded data removed]",
      "text/plain": [
       "<Figure size 1200x500 with 2 Axes>"
      ]
     },
     "metadata": {},
     "output_type": "display_data"
    }
   ],
   "source": [
    "import matplotlib.pyplot as plt\n",
    "\n",
    "# Epochs\n",
    "epochs_alexnet = list(range(1, 18))\n",
    "best_epoch_alexnet = 14\n",
    "# Training and validation loss\n",
    "train_loss_alexnet = [0.4109, 0.3960, 0.3908, 0.3876, 0.3848, 0.3820, 0.3797, 0.3772, 0.3751, 0.3734, 0.3715, 0.3691, 0.3638, 0.3616, 0.3598, 0.3583, 0.3545]\n",
    "val_loss_alexnet   = [0.3995, 0.3939, 0.3919, 0.3935, 0.3903, 0.3895, 0.3894, 0.3870, 0.3881, 0.3894, 0.3885, 0.3886, 0.3905, 0.3914, 0.3905, 0.3939, 0.3944]\n",
    "\n",
    "# Training and validation AUC\n",
    "train_auc_alexnet = [0.6247, 0.6709, 0.6877, 0.6967, 0.7061, 0.7132, 0.7210, 0.7280, 0.7337, 0.7382, 0.7430, 0.7489, 0.7625, 0.7671, 0.7712, 0.7750, 0.7829]\n",
    "val_auc_alexnet   = [0.6608, 0.6776, 0.6891, 0.6899, 0.6979, 0.6989, 0.7041, 0.7034, 0.7026, 0.7060, 0.7050, 0.7073, 0.7064, 0.7082, 0.7045, 0.7052, 0.7067]\n",
    "\n",
    "# Plot Loss\n",
    "plt.figure(figsize=(12, 5))\n",
    "plt.suptitle(\"AlexNet Results with {'weight_decay': 1e-06, 'optimizer': 'adam', 'learning_rate': 5e-05, 'dropout': 0.1, 'batch_size': 32} \")\n",
    "plt.subplot(1, 2, 1)\n",
    "plt.plot(epochs_alexnet, train_loss_alexnet, label='Train Loss', marker='o')\n",
    "plt.plot(epochs_alexnet, val_loss_alexnet, label='Val Loss', marker='o')\n",
    "plt.axvline(x=best_epoch_alexnet, color='red', linestyle='--', label=f'Saved Model (Epoch {best_epoch_alexnet})')\n",
    "plt.title('Loss over Epochs')\n",
    "plt.xlabel('Epoch')\n",
    "plt.ylabel('Loss')\n",
    "plt.legend()\n",
    "plt.grid(True)\n",
    "\n",
    "# Plot AUC\n",
    "plt.subplot(1, 2, 2)\n",
    "plt.plot(epochs_alexnet, train_auc_alexnet, label='Train AUC', marker='o')\n",
    "plt.plot(epochs_alexnet, val_auc_alexnet, label='Val AUC', marker='o')\n",
    "plt.axvline(x=best_epoch_alexnet, color='red', linestyle='--', label=f'Saved Model (Epoch {best_epoch_alexnet})')\n",
    "plt.plot(best_epoch_alexnet, val_auc_alexnet[best_epoch_alexnet-1], marker='o', color='red', markersize=15, label=f'Best Val AUC = {val_auc_alexnet[best_epoch_alexnet-1]}')\n",
    "plt.title('AUC over Epochs')\n",
    "plt.xlabel('Epoch')\n",
    "plt.ylabel('AUC Score')\n",
    "plt.legend()\n",
    "plt.grid(True)\n",
    "\n",
    "plt.tight_layout()\n",
    "plt.show()\n"
   ]
  },
  {
   "cell_type": "code",
   "execution_count": 13,
   "id": "27ef6322",
   "metadata": {},
   "outputs": [
    {
     "name": "stdout",
     "output_type": "stream",
     "text": [
      "\n",
      "Epoch [1/20]\n"
     ]
    },
    {
     "name": "stderr",
     "output_type": "stream",
     "text": [
      "                                                                       \r"
     ]
    },
    {
     "ename": "KeyboardInterrupt",
     "evalue": "",
     "output_type": "error",
     "traceback": [
      "\u001b[1;31m---------------------------------------------------------------------------\u001b[0m",
      "\u001b[1;31mKeyboardInterrupt\u001b[0m                         Traceback (most recent call last)",
      "Cell \u001b[1;32mIn[13], line 91\u001b[0m\n\u001b[0;32m     86\u001b[0m             torch\u001b[38;5;241m.\u001b[39msave(model\u001b[38;5;241m.\u001b[39mstate_dict(), \u001b[38;5;124m'\u001b[39m\u001b[38;5;124mbest_model_densenet.pth\u001b[39m\u001b[38;5;124m'\u001b[39m)\n\u001b[0;32m     87\u001b[0m             \u001b[38;5;28mprint\u001b[39m(\u001b[38;5;124mf\u001b[39m\u001b[38;5;124m\"\u001b[39m\u001b[38;5;124mNew best model saved with AUC: \u001b[39m\u001b[38;5;132;01m{\u001b[39;00mbest_val_auc\u001b[38;5;132;01m:\u001b[39;00m\u001b[38;5;124m.4f\u001b[39m\u001b[38;5;132;01m}\u001b[39;00m\u001b[38;5;124m\"\u001b[39m)\n\u001b[1;32m---> 91\u001b[0m \u001b[43mtrain\u001b[49m\u001b[43m(\u001b[49m\u001b[43mdensenet\u001b[49m\u001b[43m,\u001b[49m\u001b[43m \u001b[49m\u001b[43mtrain_loader_densenet\u001b[49m\u001b[43m,\u001b[49m\u001b[43m \u001b[49m\u001b[43mval_loader_densenet\u001b[49m\u001b[43m,\u001b[49m\u001b[43m \u001b[49m\u001b[43mcriterion\u001b[49m\u001b[43m,\u001b[49m\u001b[43m \u001b[49m\u001b[43moptimizer\u001b[49m\u001b[43m,\u001b[49m\u001b[43m \u001b[49m\u001b[43mscheduler\u001b[49m\u001b[43m,\u001b[49m\u001b[43m \u001b[49m\u001b[43mdevice\u001b[49m\u001b[43m,\u001b[49m\u001b[43m \u001b[49m\u001b[43mepochs\u001b[49m\u001b[38;5;241;43m=\u001b[39;49m\u001b[38;5;241;43m20\u001b[39;49m\u001b[43m)\u001b[49m\n",
      "Cell \u001b[1;32mIn[13], line 57\u001b[0m, in \u001b[0;36mtrain\u001b[1;34m(model, train_loader, val_loader, criterion, optimizer, scheduler, device, epochs)\u001b[0m\n\u001b[0;32m     55\u001b[0m loss \u001b[38;5;241m=\u001b[39m criterion(outputs, labels)\n\u001b[0;32m     56\u001b[0m loss\u001b[38;5;241m.\u001b[39mbackward()\n\u001b[1;32m---> 57\u001b[0m \u001b[43moptimizer\u001b[49m\u001b[38;5;241;43m.\u001b[39;49m\u001b[43mstep\u001b[49m\u001b[43m(\u001b[49m\u001b[43m)\u001b[49m\n\u001b[0;32m     59\u001b[0m train_loss \u001b[38;5;241m+\u001b[39m\u001b[38;5;241m=\u001b[39m loss\u001b[38;5;241m.\u001b[39mitem()\n\u001b[0;32m     61\u001b[0m \u001b[38;5;66;03m# Store outputs and targets for AUC calculation\u001b[39;00m\n",
      "File \u001b[1;32mc:\\Users\\w2\\AppData\\Local\\Programs\\Python\\Python310\\lib\\site-packages\\torch\\optim\\optimizer.py:493\u001b[0m, in \u001b[0;36mOptimizer.profile_hook_step.<locals>.wrapper\u001b[1;34m(*args, **kwargs)\u001b[0m\n\u001b[0;32m    488\u001b[0m         \u001b[38;5;28;01melse\u001b[39;00m:\n\u001b[0;32m    489\u001b[0m             \u001b[38;5;28;01mraise\u001b[39;00m \u001b[38;5;167;01mRuntimeError\u001b[39;00m(\n\u001b[0;32m    490\u001b[0m                 \u001b[38;5;124mf\u001b[39m\u001b[38;5;124m\"\u001b[39m\u001b[38;5;132;01m{\u001b[39;00mfunc\u001b[38;5;132;01m}\u001b[39;00m\u001b[38;5;124m must return None or a tuple of (new_args, new_kwargs), but got \u001b[39m\u001b[38;5;132;01m{\u001b[39;00mresult\u001b[38;5;132;01m}\u001b[39;00m\u001b[38;5;124m.\u001b[39m\u001b[38;5;124m\"\u001b[39m\n\u001b[0;32m    491\u001b[0m             )\n\u001b[1;32m--> 493\u001b[0m out \u001b[38;5;241m=\u001b[39m func(\u001b[38;5;241m*\u001b[39margs, \u001b[38;5;241m*\u001b[39m\u001b[38;5;241m*\u001b[39mkwargs)\n\u001b[0;32m    494\u001b[0m \u001b[38;5;28mself\u001b[39m\u001b[38;5;241m.\u001b[39m_optimizer_step_code()\n\u001b[0;32m    496\u001b[0m \u001b[38;5;66;03m# call optimizer step post hooks\u001b[39;00m\n",
      "File \u001b[1;32mc:\\Users\\w2\\AppData\\Local\\Programs\\Python\\Python310\\lib\\site-packages\\torch\\optim\\optimizer.py:91\u001b[0m, in \u001b[0;36m_use_grad_for_differentiable.<locals>._use_grad\u001b[1;34m(self, *args, **kwargs)\u001b[0m\n\u001b[0;32m     89\u001b[0m     torch\u001b[38;5;241m.\u001b[39mset_grad_enabled(\u001b[38;5;28mself\u001b[39m\u001b[38;5;241m.\u001b[39mdefaults[\u001b[38;5;124m\"\u001b[39m\u001b[38;5;124mdifferentiable\u001b[39m\u001b[38;5;124m\"\u001b[39m])\n\u001b[0;32m     90\u001b[0m     torch\u001b[38;5;241m.\u001b[39m_dynamo\u001b[38;5;241m.\u001b[39mgraph_break()\n\u001b[1;32m---> 91\u001b[0m     ret \u001b[38;5;241m=\u001b[39m func(\u001b[38;5;28mself\u001b[39m, \u001b[38;5;241m*\u001b[39margs, \u001b[38;5;241m*\u001b[39m\u001b[38;5;241m*\u001b[39mkwargs)\n\u001b[0;32m     92\u001b[0m \u001b[38;5;28;01mfinally\u001b[39;00m:\n\u001b[0;32m     93\u001b[0m     torch\u001b[38;5;241m.\u001b[39m_dynamo\u001b[38;5;241m.\u001b[39mgraph_break()\n",
      "File \u001b[1;32mc:\\Users\\w2\\AppData\\Local\\Programs\\Python\\Python310\\lib\\site-packages\\torch\\optim\\adam.py:244\u001b[0m, in \u001b[0;36mAdam.step\u001b[1;34m(self, closure)\u001b[0m\n\u001b[0;32m    232\u001b[0m     beta1, beta2 \u001b[38;5;241m=\u001b[39m group[\u001b[38;5;124m\"\u001b[39m\u001b[38;5;124mbetas\u001b[39m\u001b[38;5;124m\"\u001b[39m]\n\u001b[0;32m    234\u001b[0m     has_complex \u001b[38;5;241m=\u001b[39m \u001b[38;5;28mself\u001b[39m\u001b[38;5;241m.\u001b[39m_init_group(\n\u001b[0;32m    235\u001b[0m         group,\n\u001b[0;32m    236\u001b[0m         params_with_grad,\n\u001b[1;32m   (...)\u001b[0m\n\u001b[0;32m    241\u001b[0m         state_steps,\n\u001b[0;32m    242\u001b[0m     )\n\u001b[1;32m--> 244\u001b[0m     \u001b[43madam\u001b[49m\u001b[43m(\u001b[49m\n\u001b[0;32m    245\u001b[0m \u001b[43m        \u001b[49m\u001b[43mparams_with_grad\u001b[49m\u001b[43m,\u001b[49m\n\u001b[0;32m    246\u001b[0m \u001b[43m        \u001b[49m\u001b[43mgrads\u001b[49m\u001b[43m,\u001b[49m\n\u001b[0;32m    247\u001b[0m \u001b[43m        \u001b[49m\u001b[43mexp_avgs\u001b[49m\u001b[43m,\u001b[49m\n\u001b[0;32m    248\u001b[0m \u001b[43m        \u001b[49m\u001b[43mexp_avg_sqs\u001b[49m\u001b[43m,\u001b[49m\n\u001b[0;32m    249\u001b[0m \u001b[43m        \u001b[49m\u001b[43mmax_exp_avg_sqs\u001b[49m\u001b[43m,\u001b[49m\n\u001b[0;32m    250\u001b[0m \u001b[43m        \u001b[49m\u001b[43mstate_steps\u001b[49m\u001b[43m,\u001b[49m\n\u001b[0;32m    251\u001b[0m \u001b[43m        \u001b[49m\u001b[43mamsgrad\u001b[49m\u001b[38;5;241;43m=\u001b[39;49m\u001b[43mgroup\u001b[49m\u001b[43m[\u001b[49m\u001b[38;5;124;43m\"\u001b[39;49m\u001b[38;5;124;43mamsgrad\u001b[39;49m\u001b[38;5;124;43m\"\u001b[39;49m\u001b[43m]\u001b[49m\u001b[43m,\u001b[49m\n\u001b[0;32m    252\u001b[0m \u001b[43m        \u001b[49m\u001b[43mhas_complex\u001b[49m\u001b[38;5;241;43m=\u001b[39;49m\u001b[43mhas_complex\u001b[49m\u001b[43m,\u001b[49m\n\u001b[0;32m    253\u001b[0m \u001b[43m        \u001b[49m\u001b[43mbeta1\u001b[49m\u001b[38;5;241;43m=\u001b[39;49m\u001b[43mbeta1\u001b[49m\u001b[43m,\u001b[49m\n\u001b[0;32m    254\u001b[0m \u001b[43m        \u001b[49m\u001b[43mbeta2\u001b[49m\u001b[38;5;241;43m=\u001b[39;49m\u001b[43mbeta2\u001b[49m\u001b[43m,\u001b[49m\n\u001b[0;32m    255\u001b[0m \u001b[43m        \u001b[49m\u001b[43mlr\u001b[49m\u001b[38;5;241;43m=\u001b[39;49m\u001b[43mgroup\u001b[49m\u001b[43m[\u001b[49m\u001b[38;5;124;43m\"\u001b[39;49m\u001b[38;5;124;43mlr\u001b[39;49m\u001b[38;5;124;43m\"\u001b[39;49m\u001b[43m]\u001b[49m\u001b[43m,\u001b[49m\n\u001b[0;32m    256\u001b[0m \u001b[43m        \u001b[49m\u001b[43mweight_decay\u001b[49m\u001b[38;5;241;43m=\u001b[39;49m\u001b[43mgroup\u001b[49m\u001b[43m[\u001b[49m\u001b[38;5;124;43m\"\u001b[39;49m\u001b[38;5;124;43mweight_decay\u001b[39;49m\u001b[38;5;124;43m\"\u001b[39;49m\u001b[43m]\u001b[49m\u001b[43m,\u001b[49m\n\u001b[0;32m    257\u001b[0m \u001b[43m        \u001b[49m\u001b[43meps\u001b[49m\u001b[38;5;241;43m=\u001b[39;49m\u001b[43mgroup\u001b[49m\u001b[43m[\u001b[49m\u001b[38;5;124;43m\"\u001b[39;49m\u001b[38;5;124;43meps\u001b[39;49m\u001b[38;5;124;43m\"\u001b[39;49m\u001b[43m]\u001b[49m\u001b[43m,\u001b[49m\n\u001b[0;32m    258\u001b[0m \u001b[43m        \u001b[49m\u001b[43mmaximize\u001b[49m\u001b[38;5;241;43m=\u001b[39;49m\u001b[43mgroup\u001b[49m\u001b[43m[\u001b[49m\u001b[38;5;124;43m\"\u001b[39;49m\u001b[38;5;124;43mmaximize\u001b[39;49m\u001b[38;5;124;43m\"\u001b[39;49m\u001b[43m]\u001b[49m\u001b[43m,\u001b[49m\n\u001b[0;32m    259\u001b[0m \u001b[43m        \u001b[49m\u001b[43mforeach\u001b[49m\u001b[38;5;241;43m=\u001b[39;49m\u001b[43mgroup\u001b[49m\u001b[43m[\u001b[49m\u001b[38;5;124;43m\"\u001b[39;49m\u001b[38;5;124;43mforeach\u001b[39;49m\u001b[38;5;124;43m\"\u001b[39;49m\u001b[43m]\u001b[49m\u001b[43m,\u001b[49m\n\u001b[0;32m    260\u001b[0m \u001b[43m        \u001b[49m\u001b[43mcapturable\u001b[49m\u001b[38;5;241;43m=\u001b[39;49m\u001b[43mgroup\u001b[49m\u001b[43m[\u001b[49m\u001b[38;5;124;43m\"\u001b[39;49m\u001b[38;5;124;43mcapturable\u001b[39;49m\u001b[38;5;124;43m\"\u001b[39;49m\u001b[43m]\u001b[49m\u001b[43m,\u001b[49m\n\u001b[0;32m    261\u001b[0m \u001b[43m        \u001b[49m\u001b[43mdifferentiable\u001b[49m\u001b[38;5;241;43m=\u001b[39;49m\u001b[43mgroup\u001b[49m\u001b[43m[\u001b[49m\u001b[38;5;124;43m\"\u001b[39;49m\u001b[38;5;124;43mdifferentiable\u001b[39;49m\u001b[38;5;124;43m\"\u001b[39;49m\u001b[43m]\u001b[49m\u001b[43m,\u001b[49m\n\u001b[0;32m    262\u001b[0m \u001b[43m        \u001b[49m\u001b[43mfused\u001b[49m\u001b[38;5;241;43m=\u001b[39;49m\u001b[43mgroup\u001b[49m\u001b[43m[\u001b[49m\u001b[38;5;124;43m\"\u001b[39;49m\u001b[38;5;124;43mfused\u001b[39;49m\u001b[38;5;124;43m\"\u001b[39;49m\u001b[43m]\u001b[49m\u001b[43m,\u001b[49m\n\u001b[0;32m    263\u001b[0m \u001b[43m        \u001b[49m\u001b[43mgrad_scale\u001b[49m\u001b[38;5;241;43m=\u001b[39;49m\u001b[38;5;28;43mgetattr\u001b[39;49m\u001b[43m(\u001b[49m\u001b[38;5;28;43mself\u001b[39;49m\u001b[43m,\u001b[49m\u001b[43m \u001b[49m\u001b[38;5;124;43m\"\u001b[39;49m\u001b[38;5;124;43mgrad_scale\u001b[39;49m\u001b[38;5;124;43m\"\u001b[39;49m\u001b[43m,\u001b[49m\u001b[43m \u001b[49m\u001b[38;5;28;43;01mNone\u001b[39;49;00m\u001b[43m)\u001b[49m\u001b[43m,\u001b[49m\n\u001b[0;32m    264\u001b[0m \u001b[43m        \u001b[49m\u001b[43mfound_inf\u001b[49m\u001b[38;5;241;43m=\u001b[39;49m\u001b[38;5;28;43mgetattr\u001b[39;49m\u001b[43m(\u001b[49m\u001b[38;5;28;43mself\u001b[39;49m\u001b[43m,\u001b[49m\u001b[43m \u001b[49m\u001b[38;5;124;43m\"\u001b[39;49m\u001b[38;5;124;43mfound_inf\u001b[39;49m\u001b[38;5;124;43m\"\u001b[39;49m\u001b[43m,\u001b[49m\u001b[43m \u001b[49m\u001b[38;5;28;43;01mNone\u001b[39;49;00m\u001b[43m)\u001b[49m\u001b[43m,\u001b[49m\n\u001b[0;32m    265\u001b[0m \u001b[43m    \u001b[49m\u001b[43m)\u001b[49m\n\u001b[0;32m    267\u001b[0m \u001b[38;5;28;01mreturn\u001b[39;00m loss\n",
      "File \u001b[1;32mc:\\Users\\w2\\AppData\\Local\\Programs\\Python\\Python310\\lib\\site-packages\\torch\\optim\\optimizer.py:154\u001b[0m, in \u001b[0;36m_disable_dynamo_if_unsupported.<locals>.wrapper.<locals>.maybe_fallback\u001b[1;34m(*args, **kwargs)\u001b[0m\n\u001b[0;32m    152\u001b[0m     \u001b[38;5;28;01mreturn\u001b[39;00m disabled_func(\u001b[38;5;241m*\u001b[39margs, \u001b[38;5;241m*\u001b[39m\u001b[38;5;241m*\u001b[39mkwargs)\n\u001b[0;32m    153\u001b[0m \u001b[38;5;28;01melse\u001b[39;00m:\n\u001b[1;32m--> 154\u001b[0m     \u001b[38;5;28;01mreturn\u001b[39;00m func(\u001b[38;5;241m*\u001b[39margs, \u001b[38;5;241m*\u001b[39m\u001b[38;5;241m*\u001b[39mkwargs)\n",
      "File \u001b[1;32mc:\\Users\\w2\\AppData\\Local\\Programs\\Python\\Python310\\lib\\site-packages\\torch\\optim\\adam.py:876\u001b[0m, in \u001b[0;36madam\u001b[1;34m(params, grads, exp_avgs, exp_avg_sqs, max_exp_avg_sqs, state_steps, foreach, capturable, differentiable, fused, grad_scale, found_inf, has_complex, amsgrad, beta1, beta2, lr, weight_decay, eps, maximize)\u001b[0m\n\u001b[0;32m    873\u001b[0m \u001b[38;5;28;01melse\u001b[39;00m:\n\u001b[0;32m    874\u001b[0m     func \u001b[38;5;241m=\u001b[39m _single_tensor_adam\n\u001b[1;32m--> 876\u001b[0m \u001b[43mfunc\u001b[49m\u001b[43m(\u001b[49m\n\u001b[0;32m    877\u001b[0m \u001b[43m    \u001b[49m\u001b[43mparams\u001b[49m\u001b[43m,\u001b[49m\n\u001b[0;32m    878\u001b[0m \u001b[43m    \u001b[49m\u001b[43mgrads\u001b[49m\u001b[43m,\u001b[49m\n\u001b[0;32m    879\u001b[0m \u001b[43m    \u001b[49m\u001b[43mexp_avgs\u001b[49m\u001b[43m,\u001b[49m\n\u001b[0;32m    880\u001b[0m \u001b[43m    \u001b[49m\u001b[43mexp_avg_sqs\u001b[49m\u001b[43m,\u001b[49m\n\u001b[0;32m    881\u001b[0m \u001b[43m    \u001b[49m\u001b[43mmax_exp_avg_sqs\u001b[49m\u001b[43m,\u001b[49m\n\u001b[0;32m    882\u001b[0m \u001b[43m    \u001b[49m\u001b[43mstate_steps\u001b[49m\u001b[43m,\u001b[49m\n\u001b[0;32m    883\u001b[0m \u001b[43m    \u001b[49m\u001b[43mamsgrad\u001b[49m\u001b[38;5;241;43m=\u001b[39;49m\u001b[43mamsgrad\u001b[49m\u001b[43m,\u001b[49m\n\u001b[0;32m    884\u001b[0m \u001b[43m    \u001b[49m\u001b[43mhas_complex\u001b[49m\u001b[38;5;241;43m=\u001b[39;49m\u001b[43mhas_complex\u001b[49m\u001b[43m,\u001b[49m\n\u001b[0;32m    885\u001b[0m \u001b[43m    \u001b[49m\u001b[43mbeta1\u001b[49m\u001b[38;5;241;43m=\u001b[39;49m\u001b[43mbeta1\u001b[49m\u001b[43m,\u001b[49m\n\u001b[0;32m    886\u001b[0m \u001b[43m    \u001b[49m\u001b[43mbeta2\u001b[49m\u001b[38;5;241;43m=\u001b[39;49m\u001b[43mbeta2\u001b[49m\u001b[43m,\u001b[49m\n\u001b[0;32m    887\u001b[0m \u001b[43m    \u001b[49m\u001b[43mlr\u001b[49m\u001b[38;5;241;43m=\u001b[39;49m\u001b[43mlr\u001b[49m\u001b[43m,\u001b[49m\n\u001b[0;32m    888\u001b[0m \u001b[43m    \u001b[49m\u001b[43mweight_decay\u001b[49m\u001b[38;5;241;43m=\u001b[39;49m\u001b[43mweight_decay\u001b[49m\u001b[43m,\u001b[49m\n\u001b[0;32m    889\u001b[0m \u001b[43m    \u001b[49m\u001b[43meps\u001b[49m\u001b[38;5;241;43m=\u001b[39;49m\u001b[43meps\u001b[49m\u001b[43m,\u001b[49m\n\u001b[0;32m    890\u001b[0m \u001b[43m    \u001b[49m\u001b[43mmaximize\u001b[49m\u001b[38;5;241;43m=\u001b[39;49m\u001b[43mmaximize\u001b[49m\u001b[43m,\u001b[49m\n\u001b[0;32m    891\u001b[0m \u001b[43m    \u001b[49m\u001b[43mcapturable\u001b[49m\u001b[38;5;241;43m=\u001b[39;49m\u001b[43mcapturable\u001b[49m\u001b[43m,\u001b[49m\n\u001b[0;32m    892\u001b[0m \u001b[43m    \u001b[49m\u001b[43mdifferentiable\u001b[49m\u001b[38;5;241;43m=\u001b[39;49m\u001b[43mdifferentiable\u001b[49m\u001b[43m,\u001b[49m\n\u001b[0;32m    893\u001b[0m \u001b[43m    \u001b[49m\u001b[43mgrad_scale\u001b[49m\u001b[38;5;241;43m=\u001b[39;49m\u001b[43mgrad_scale\u001b[49m\u001b[43m,\u001b[49m\n\u001b[0;32m    894\u001b[0m \u001b[43m    \u001b[49m\u001b[43mfound_inf\u001b[49m\u001b[38;5;241;43m=\u001b[39;49m\u001b[43mfound_inf\u001b[49m\u001b[43m,\u001b[49m\n\u001b[0;32m    895\u001b[0m \u001b[43m\u001b[49m\u001b[43m)\u001b[49m\n",
      "File \u001b[1;32mc:\\Users\\w2\\AppData\\Local\\Programs\\Python\\Python310\\lib\\site-packages\\torch\\optim\\adam.py:601\u001b[0m, in \u001b[0;36m_multi_tensor_adam\u001b[1;34m(params, grads, exp_avgs, exp_avg_sqs, max_exp_avg_sqs, state_steps, grad_scale, found_inf, amsgrad, has_complex, beta1, beta2, lr, weight_decay, eps, maximize, capturable, differentiable)\u001b[0m\n\u001b[0;32m    596\u001b[0m \u001b[38;5;66;03m# Update steps\u001b[39;00m\n\u001b[0;32m    597\u001b[0m \u001b[38;5;66;03m# If steps are on CPU, foreach will fall back to the slow path, which is a for-loop calling t.add(1) over\u001b[39;00m\n\u001b[0;32m    598\u001b[0m \u001b[38;5;66;03m# and over. 1 will then be wrapped into a Tensor over and over again, which is slower than if we just\u001b[39;00m\n\u001b[0;32m    599\u001b[0m \u001b[38;5;66;03m# wrapped it once now. The alpha is required to assure we go to the right overload.\u001b[39;00m\n\u001b[0;32m    600\u001b[0m \u001b[38;5;28;01mif\u001b[39;00m \u001b[38;5;129;01mnot\u001b[39;00m torch\u001b[38;5;241m.\u001b[39mcompiler\u001b[38;5;241m.\u001b[39mis_compiling() \u001b[38;5;129;01mand\u001b[39;00m device_state_steps[\u001b[38;5;241m0\u001b[39m]\u001b[38;5;241m.\u001b[39mis_cpu:\n\u001b[1;32m--> 601\u001b[0m     \u001b[43mtorch\u001b[49m\u001b[38;5;241;43m.\u001b[39;49m\u001b[43m_foreach_add_\u001b[49m\u001b[43m(\u001b[49m\n\u001b[0;32m    602\u001b[0m \u001b[43m        \u001b[49m\u001b[43mdevice_state_steps\u001b[49m\u001b[43m,\u001b[49m\u001b[43m \u001b[49m\u001b[43mtorch\u001b[49m\u001b[38;5;241;43m.\u001b[39;49m\u001b[43mtensor\u001b[49m\u001b[43m(\u001b[49m\u001b[38;5;241;43m1.0\u001b[39;49m\u001b[43m,\u001b[49m\u001b[43m \u001b[49m\u001b[43mdevice\u001b[49m\u001b[38;5;241;43m=\u001b[39;49m\u001b[38;5;124;43m\"\u001b[39;49m\u001b[38;5;124;43mcpu\u001b[39;49m\u001b[38;5;124;43m\"\u001b[39;49m\u001b[43m)\u001b[49m\u001b[43m,\u001b[49m\u001b[43m \u001b[49m\u001b[43malpha\u001b[49m\u001b[38;5;241;43m=\u001b[39;49m\u001b[38;5;241;43m1.0\u001b[39;49m\n\u001b[0;32m    603\u001b[0m \u001b[43m    \u001b[49m\u001b[43m)\u001b[49m\n\u001b[0;32m    604\u001b[0m \u001b[38;5;28;01melse\u001b[39;00m:\n\u001b[0;32m    605\u001b[0m     torch\u001b[38;5;241m.\u001b[39m_foreach_add_(device_state_steps, \u001b[38;5;241m1\u001b[39m)\n",
      "\u001b[1;31mKeyboardInterrupt\u001b[0m: "
     ]
    }
   ],
   "source": [
    "#{'weight_decay': 1e-06, 'optimizer': 'adam', 'learning_rate': 0.0001, 'dropout': 0.1, 'batch_size': 16}\n",
    "\n",
    "import torch\n",
    "import torch.nn as nn\n",
    "import torchvision.models as models\n",
    "\n",
    "densenet = models.densenet121(weights='IMAGENET1K_V1')\n",
    "\n",
    "#for param in densenet.parameters():\n",
    "  #  param.requires_grad = False\n",
    "\n",
    "num_labels = 12\n",
    "densenet.classifier = nn.Sequential(\n",
    "                nn.Dropout(0.1),\n",
    "                nn.Linear(densenet.classifier.in_features, num_labels),\n",
    "                nn.Sigmoid()\n",
    "            )\n",
    "\n",
    "device = torch.device(\"cuda\" if torch.cuda.is_available() else \"cpu\")\n",
    "densenet = densenet.to(device)\n",
    "\n",
    "criterion = nn.BCELoss()\n",
    "\n",
    "optimizer = torch.optim.Adam(densenet.parameters(), lr=0.0001, weight_decay=1e-6)\n",
    "\n",
    "scheduler = torch.optim.lr_scheduler.ReduceLROnPlateau(optimizer, mode='min', factor=0.5, patience=3, verbose=True)\n",
    "\n",
    "train_loader_densenet = DataLoader(train_dataset, batch_size=16, shuffle=True)\n",
    "val_loader_densenet   = DataLoader(val_dataset, batch_size=16, shuffle=False)\n",
    "test_loader_densenet  = DataLoader(test_dataset, batch_size=16, shuffle=False)\n",
    "\n",
    "history_densenet ={'training_loss':[],\n",
    "      'training_auc':[],\n",
    "     'validation_loss': [],\n",
    "     'validation_auc':[]}\n",
    "\n",
    "def train(model, train_loader, val_loader, criterion, optimizer, scheduler, device, epochs=20):\n",
    "    best_val_auc = 0\n",
    "\n",
    "    for epoch in range(epochs):\n",
    "        model.train()\n",
    "        train_loss = 0.0\n",
    "        train_outputs_list = []\n",
    "        train_targets_list = []\n",
    "\n",
    "        print(f\"\\nEpoch [{epoch+1}/{epochs}]\")\n",
    "        loop = tqdm(train_loader, desc='Training', leave=False)\n",
    "\n",
    "        for images, labels in loop:\n",
    "            images = images.to(device)\n",
    "            labels = labels.to(device)\n",
    "\n",
    "            optimizer.zero_grad()\n",
    "            outputs = model(images)\n",
    "            loss = criterion(outputs, labels)\n",
    "            loss.backward()\n",
    "            optimizer.step()\n",
    "\n",
    "            train_loss += loss.item()\n",
    "\n",
    "            # Store outputs and targets for AUC calculation\n",
    "            train_outputs_list.append(outputs.detach().cpu())\n",
    "            train_targets_list.append(labels.detach().cpu())\n",
    "\n",
    "            loop.set_postfix(loss=loss.item())\n",
    "\n",
    "        # Calculate training AUC\n",
    "        train_outputs_all = torch.cat(train_outputs_list, dim=0)\n",
    "        train_targets_all = torch.cat(train_targets_list, dim=0)\n",
    "        train_auc = calculate_auc(train_outputs_all, train_targets_all)\n",
    "\n",
    "        avg_train_loss = train_loss / len(train_loader)\n",
    "        print(f\"Train Loss: {avg_train_loss:.4f} | AUC: {train_auc:.4f}\")\n",
    "\n",
    "        # Validate\n",
    "        val_loss, val_auc = evaluate(model, val_loader, criterion, device)\n",
    "        print(f\"Val Loss:   {val_loss:.4f} | Val AUC: {val_auc:.4f}\")\n",
    "\n",
    "        history_alexnet['training_loss'].append(avg_train_loss)\n",
    "        history_alexnet['validation_loss'].append(val_loss)        \n",
    "        scheduler.step(val_loss)\n",
    "\n",
    "        # Save best model\n",
    "        if val_auc > best_val_auc:\n",
    "            best_val_auc = val_auc\n",
    "            torch.save(model.state_dict(), 'best_model_densenet.pth')\n",
    "            print(f\"New best model saved with AUC: {best_val_auc:.4f}\")\n",
    "\n",
    "\n",
    "\n",
    "train(densenet, train_loader_densenet, val_loader_densenet, criterion, optimizer, scheduler, device, epochs=20)\n",
    "#Training time (DenseNet):59m 56s all epochs = 29 minutes\n",
    "#Best Validation AUC score:0.7470"
   ]
  },
  {
   "cell_type": "code",
   "execution_count": 32,
   "id": "180c375d",
   "metadata": {},
   "outputs": [
    {
     "data": {
      "image/png": "[encoded data removed]",
      "text/plain": [
       "<Figure size 1200x500 with 2 Axes>"
      ]
     },
     "metadata": {},
     "output_type": "display_data"
    }
   ],
   "source": [
    "import matplotlib.pyplot as plt\n",
    "\n",
    "# Epochs\n",
    "epochs_densenet = list(range(1, 10))\n",
    "best_epoch_densenet = 6\n",
    "# Training and validation loss\n",
    "train_loss_densenet = [0.3969, 0.3805, 0.3758, 0.3713, 0.3678, 0.3641, 0.3607, 0.3557, 0.3518]\n",
    "val_loss_densenet   = [0.3844, 0.3768, 0.3795, 0.3720, 0.3817, 0.3702, 0.3724, 0.3733, 0.3764]\n",
    "\n",
    "# Training and validation AUC\n",
    "train_auc_densenet = [0.6715, 0.7147, 0.7272, 0.7397, 0.7480, 0.7577, 0.7656, 0.7759, 0.7847]\n",
    "val_auc_densenet   = [0.7118, 0.7311, 0.7331, 0.7405, 0.7436, 0.7470, 0.7461, 0.7452, 0.7397]\n",
    "\n",
    "# Plot Loss\n",
    "plt.figure(figsize=(12, 5))\n",
    "plt.suptitle(\"DenseNet121 results with {'weight_decay': 1e-06, 'optimizer': 'adam', 'learning_rate': 0.0001, 'dropout': 0.1, 'batch_size': 16}\")\n",
    "plt.subplot(1, 2, 1)\n",
    "plt.plot(epochs_densenet, train_loss_densenet, label='Train Loss', marker='o')\n",
    "plt.plot(epochs_densenet, val_loss_densenet, label='Val Loss', marker='o')\n",
    "plt.axvline(x=best_epoch_densenet, color='red', linestyle='--', label=f'Saved Model (Epoch {best_epoch_densenet})')\n",
    "\n",
    "plt.title('Loss over Epochs')\n",
    "plt.xlabel('Epoch')\n",
    "plt.ylabel('Loss')\n",
    "plt.legend()\n",
    "plt.grid(True)\n",
    "\n",
    "# Plot AUC\n",
    "plt.subplot(1, 2, 2)\n",
    "plt.plot(epochs_densenet, train_auc_densenet, label='Train AUC', marker='o')\n",
    "plt.plot(epochs_densenet, val_auc_densenet, label='Val AUC', marker='o')\n",
    "plt.axvline(x=best_epoch_densenet, color='red', linestyle='--', label=f'Saved Model (Epoch {best_epoch_densenet})')\n",
    "plt.plot(best_epoch_densenet, val_auc_densenet[best_epoch_densenet-1], marker='o', color='red', markersize=15, label=f'Best Val AUC = {val_auc_densenet[best_epoch_densenet-1]}')\n",
    "plt.title('AUC over Epochs')\n",
    "plt.xlabel('Epoch')\n",
    "plt.ylabel('AUC Score')\n",
    "plt.legend()\n",
    "plt.grid(True)\n",
    "\n",
    "plt.tight_layout()\n",
    "plt.show()\n"
   ]
  },
  {
   "cell_type": "code",
   "execution_count": 14,
   "id": "b34d7f87",
   "metadata": {},
   "outputs": [
    {
     "name": "stdout",
     "output_type": "stream",
     "text": [
      "\n",
      "Epoch [1/20]\n"
     ]
    },
    {
     "name": "stderr",
     "output_type": "stream",
     "text": [
      "                                                                      \r"
     ]
    },
    {
     "ename": "KeyboardInterrupt",
     "evalue": "",
     "output_type": "error",
     "traceback": [
      "\u001b[1;31m---------------------------------------------------------------------------\u001b[0m",
      "\u001b[1;31mKeyboardInterrupt\u001b[0m                         Traceback (most recent call last)",
      "Cell \u001b[1;32mIn[14], line 99\u001b[0m\n\u001b[0;32m     94\u001b[0m                 \u001b[38;5;28mprint\u001b[39m(\u001b[38;5;124mf\u001b[39m\u001b[38;5;124m\"\u001b[39m\u001b[38;5;124mEarly stopping at epoch \u001b[39m\u001b[38;5;132;01m{\u001b[39;00mepoch\u001b[38;5;241m+\u001b[39m\u001b[38;5;241m1\u001b[39m\u001b[38;5;132;01m}\u001b[39;00m\u001b[38;5;124m\"\u001b[39m)\n\u001b[0;32m     95\u001b[0m                 \u001b[38;5;28;01mbreak\u001b[39;00m\n\u001b[1;32m---> 99\u001b[0m \u001b[43mtrain\u001b[49m\u001b[43m(\u001b[49m\u001b[43mvit\u001b[49m\u001b[43m,\u001b[49m\u001b[43m \u001b[49m\u001b[43mtrain_loader_vit\u001b[49m\u001b[43m,\u001b[49m\u001b[43m \u001b[49m\u001b[43mval_loader_vit\u001b[49m\u001b[43m,\u001b[49m\u001b[43m \u001b[49m\u001b[43mcriterion\u001b[49m\u001b[43m,\u001b[49m\u001b[43m \u001b[49m\u001b[43moptimizer\u001b[49m\u001b[43m,\u001b[49m\u001b[43m \u001b[49m\u001b[43mscheduler\u001b[49m\u001b[43m,\u001b[49m\u001b[43m \u001b[49m\u001b[43mdevice\u001b[49m\u001b[43m,\u001b[49m\u001b[43m \u001b[49m\u001b[43mepochs\u001b[49m\u001b[38;5;241;43m=\u001b[39;49m\u001b[38;5;241;43m20\u001b[39;49m\u001b[43m)\u001b[49m\n",
      "Cell \u001b[1;32mIn[14], line 49\u001b[0m, in \u001b[0;36mtrain\u001b[1;34m(model, train_loader, val_loader, criterion, optimizer, scheduler, device, epochs)\u001b[0m\n\u001b[0;32m     46\u001b[0m \u001b[38;5;28mprint\u001b[39m(\u001b[38;5;124mf\u001b[39m\u001b[38;5;124m\"\u001b[39m\u001b[38;5;130;01m\\n\u001b[39;00m\u001b[38;5;124mEpoch [\u001b[39m\u001b[38;5;132;01m{\u001b[39;00mepoch\u001b[38;5;241m+\u001b[39m\u001b[38;5;241m1\u001b[39m\u001b[38;5;132;01m}\u001b[39;00m\u001b[38;5;124m/\u001b[39m\u001b[38;5;132;01m{\u001b[39;00mepochs\u001b[38;5;132;01m}\u001b[39;00m\u001b[38;5;124m]\u001b[39m\u001b[38;5;124m\"\u001b[39m)\n\u001b[0;32m     47\u001b[0m loop \u001b[38;5;241m=\u001b[39m tqdm(train_loader, desc\u001b[38;5;241m=\u001b[39m\u001b[38;5;124m'\u001b[39m\u001b[38;5;124mTraining\u001b[39m\u001b[38;5;124m'\u001b[39m, leave\u001b[38;5;241m=\u001b[39m\u001b[38;5;28;01mFalse\u001b[39;00m)\n\u001b[1;32m---> 49\u001b[0m \u001b[38;5;28;01mfor\u001b[39;00m images, labels \u001b[38;5;129;01min\u001b[39;00m loop:\n\u001b[0;32m     50\u001b[0m     images \u001b[38;5;241m=\u001b[39m images\u001b[38;5;241m.\u001b[39mto(device)\n\u001b[0;32m     51\u001b[0m     labels \u001b[38;5;241m=\u001b[39m labels\u001b[38;5;241m.\u001b[39mto(device)\n",
      "File \u001b[1;32mc:\\Users\\w2\\AppData\\Local\\Programs\\Python\\Python310\\lib\\site-packages\\tqdm\\std.py:1181\u001b[0m, in \u001b[0;36mtqdm.__iter__\u001b[1;34m(self)\u001b[0m\n\u001b[0;32m   1178\u001b[0m time \u001b[38;5;241m=\u001b[39m \u001b[38;5;28mself\u001b[39m\u001b[38;5;241m.\u001b[39m_time\n\u001b[0;32m   1180\u001b[0m \u001b[38;5;28;01mtry\u001b[39;00m:\n\u001b[1;32m-> 1181\u001b[0m     \u001b[38;5;28;01mfor\u001b[39;00m obj \u001b[38;5;129;01min\u001b[39;00m iterable:\n\u001b[0;32m   1182\u001b[0m         \u001b[38;5;28;01myield\u001b[39;00m obj\n\u001b[0;32m   1183\u001b[0m         \u001b[38;5;66;03m# Update and possibly print the progressbar.\u001b[39;00m\n\u001b[0;32m   1184\u001b[0m         \u001b[38;5;66;03m# Note: does not call self.update(1) for speed optimisation.\u001b[39;00m\n",
      "File \u001b[1;32mc:\\Users\\w2\\AppData\\Local\\Programs\\Python\\Python310\\lib\\site-packages\\torch\\utils\\data\\dataloader.py:708\u001b[0m, in \u001b[0;36m_BaseDataLoaderIter.__next__\u001b[1;34m(self)\u001b[0m\n\u001b[0;32m    705\u001b[0m \u001b[38;5;28;01mif\u001b[39;00m \u001b[38;5;28mself\u001b[39m\u001b[38;5;241m.\u001b[39m_sampler_iter \u001b[38;5;129;01mis\u001b[39;00m \u001b[38;5;28;01mNone\u001b[39;00m:\n\u001b[0;32m    706\u001b[0m     \u001b[38;5;66;03m# TODO(https://github.com/pytorch/pytorch/issues/76750)\u001b[39;00m\n\u001b[0;32m    707\u001b[0m     \u001b[38;5;28mself\u001b[39m\u001b[38;5;241m.\u001b[39m_reset()  \u001b[38;5;66;03m# type: ignore[call-arg]\u001b[39;00m\n\u001b[1;32m--> 708\u001b[0m data \u001b[38;5;241m=\u001b[39m \u001b[38;5;28;43mself\u001b[39;49m\u001b[38;5;241;43m.\u001b[39;49m\u001b[43m_next_data\u001b[49m\u001b[43m(\u001b[49m\u001b[43m)\u001b[49m\n\u001b[0;32m    709\u001b[0m \u001b[38;5;28mself\u001b[39m\u001b[38;5;241m.\u001b[39m_num_yielded \u001b[38;5;241m+\u001b[39m\u001b[38;5;241m=\u001b[39m \u001b[38;5;241m1\u001b[39m\n\u001b[0;32m    710\u001b[0m \u001b[38;5;28;01mif\u001b[39;00m (\n\u001b[0;32m    711\u001b[0m     \u001b[38;5;28mself\u001b[39m\u001b[38;5;241m.\u001b[39m_dataset_kind \u001b[38;5;241m==\u001b[39m _DatasetKind\u001b[38;5;241m.\u001b[39mIterable\n\u001b[0;32m    712\u001b[0m     \u001b[38;5;129;01mand\u001b[39;00m \u001b[38;5;28mself\u001b[39m\u001b[38;5;241m.\u001b[39m_IterableDataset_len_called \u001b[38;5;129;01mis\u001b[39;00m \u001b[38;5;129;01mnot\u001b[39;00m \u001b[38;5;28;01mNone\u001b[39;00m\n\u001b[0;32m    713\u001b[0m     \u001b[38;5;129;01mand\u001b[39;00m \u001b[38;5;28mself\u001b[39m\u001b[38;5;241m.\u001b[39m_num_yielded \u001b[38;5;241m>\u001b[39m \u001b[38;5;28mself\u001b[39m\u001b[38;5;241m.\u001b[39m_IterableDataset_len_called\n\u001b[0;32m    714\u001b[0m ):\n",
      "File \u001b[1;32mc:\\Users\\w2\\AppData\\Local\\Programs\\Python\\Python310\\lib\\site-packages\\torch\\utils\\data\\dataloader.py:764\u001b[0m, in \u001b[0;36m_SingleProcessDataLoaderIter._next_data\u001b[1;34m(self)\u001b[0m\n\u001b[0;32m    762\u001b[0m \u001b[38;5;28;01mdef\u001b[39;00m \u001b[38;5;21m_next_data\u001b[39m(\u001b[38;5;28mself\u001b[39m):\n\u001b[0;32m    763\u001b[0m     index \u001b[38;5;241m=\u001b[39m \u001b[38;5;28mself\u001b[39m\u001b[38;5;241m.\u001b[39m_next_index()  \u001b[38;5;66;03m# may raise StopIteration\u001b[39;00m\n\u001b[1;32m--> 764\u001b[0m     data \u001b[38;5;241m=\u001b[39m \u001b[38;5;28;43mself\u001b[39;49m\u001b[38;5;241;43m.\u001b[39;49m\u001b[43m_dataset_fetcher\u001b[49m\u001b[38;5;241;43m.\u001b[39;49m\u001b[43mfetch\u001b[49m\u001b[43m(\u001b[49m\u001b[43mindex\u001b[49m\u001b[43m)\u001b[49m  \u001b[38;5;66;03m# may raise StopIteration\u001b[39;00m\n\u001b[0;32m    765\u001b[0m     \u001b[38;5;28;01mif\u001b[39;00m \u001b[38;5;28mself\u001b[39m\u001b[38;5;241m.\u001b[39m_pin_memory:\n\u001b[0;32m    766\u001b[0m         data \u001b[38;5;241m=\u001b[39m _utils\u001b[38;5;241m.\u001b[39mpin_memory\u001b[38;5;241m.\u001b[39mpin_memory(data, \u001b[38;5;28mself\u001b[39m\u001b[38;5;241m.\u001b[39m_pin_memory_device)\n",
      "File \u001b[1;32mc:\\Users\\w2\\AppData\\Local\\Programs\\Python\\Python310\\lib\\site-packages\\torch\\utils\\data\\_utils\\fetch.py:52\u001b[0m, in \u001b[0;36m_MapDatasetFetcher.fetch\u001b[1;34m(self, possibly_batched_index)\u001b[0m\n\u001b[0;32m     50\u001b[0m         data \u001b[38;5;241m=\u001b[39m \u001b[38;5;28mself\u001b[39m\u001b[38;5;241m.\u001b[39mdataset\u001b[38;5;241m.\u001b[39m__getitems__(possibly_batched_index)\n\u001b[0;32m     51\u001b[0m     \u001b[38;5;28;01melse\u001b[39;00m:\n\u001b[1;32m---> 52\u001b[0m         data \u001b[38;5;241m=\u001b[39m [\u001b[38;5;28mself\u001b[39m\u001b[38;5;241m.\u001b[39mdataset[idx] \u001b[38;5;28;01mfor\u001b[39;00m idx \u001b[38;5;129;01min\u001b[39;00m possibly_batched_index]\n\u001b[0;32m     53\u001b[0m \u001b[38;5;28;01melse\u001b[39;00m:\n\u001b[0;32m     54\u001b[0m     data \u001b[38;5;241m=\u001b[39m \u001b[38;5;28mself\u001b[39m\u001b[38;5;241m.\u001b[39mdataset[possibly_batched_index]\n",
      "File \u001b[1;32mc:\\Users\\w2\\AppData\\Local\\Programs\\Python\\Python310\\lib\\site-packages\\torch\\utils\\data\\_utils\\fetch.py:52\u001b[0m, in \u001b[0;36m<listcomp>\u001b[1;34m(.0)\u001b[0m\n\u001b[0;32m     50\u001b[0m         data \u001b[38;5;241m=\u001b[39m \u001b[38;5;28mself\u001b[39m\u001b[38;5;241m.\u001b[39mdataset\u001b[38;5;241m.\u001b[39m__getitems__(possibly_batched_index)\n\u001b[0;32m     51\u001b[0m     \u001b[38;5;28;01melse\u001b[39;00m:\n\u001b[1;32m---> 52\u001b[0m         data \u001b[38;5;241m=\u001b[39m [\u001b[38;5;28;43mself\u001b[39;49m\u001b[38;5;241;43m.\u001b[39;49m\u001b[43mdataset\u001b[49m\u001b[43m[\u001b[49m\u001b[43midx\u001b[49m\u001b[43m]\u001b[49m \u001b[38;5;28;01mfor\u001b[39;00m idx \u001b[38;5;129;01min\u001b[39;00m possibly_batched_index]\n\u001b[0;32m     53\u001b[0m \u001b[38;5;28;01melse\u001b[39;00m:\n\u001b[0;32m     54\u001b[0m     data \u001b[38;5;241m=\u001b[39m \u001b[38;5;28mself\u001b[39m\u001b[38;5;241m.\u001b[39mdataset[possibly_batched_index]\n",
      "Cell \u001b[1;32mIn[7], line 28\u001b[0m, in \u001b[0;36mCXRDataset.__getitem__\u001b[1;34m(self, idx)\u001b[0m\n\u001b[0;32m     25\u001b[0m img \u001b[38;5;241m=\u001b[39m Image\u001b[38;5;241m.\u001b[39mopen(path)\u001b[38;5;241m.\u001b[39mconvert(\u001b[38;5;124m'\u001b[39m\u001b[38;5;124mRGB\u001b[39m\u001b[38;5;124m'\u001b[39m)\n\u001b[0;32m     27\u001b[0m \u001b[38;5;28;01mif\u001b[39;00m \u001b[38;5;28mself\u001b[39m\u001b[38;5;241m.\u001b[39mtransform:\n\u001b[1;32m---> 28\u001b[0m     img \u001b[38;5;241m=\u001b[39m \u001b[38;5;28;43mself\u001b[39;49m\u001b[38;5;241;43m.\u001b[39;49m\u001b[43mtransform\u001b[49m\u001b[43m(\u001b[49m\u001b[43mimg\u001b[49m\u001b[43m)\u001b[49m\n\u001b[0;32m     30\u001b[0m labels \u001b[38;5;241m=\u001b[39m torch\u001b[38;5;241m.\u001b[39mtensor([\n\u001b[0;32m     31\u001b[0m     row[\u001b[38;5;124m'\u001b[39m\u001b[38;5;124mAtelectasis\u001b[39m\u001b[38;5;124m'\u001b[39m],\n\u001b[0;32m     32\u001b[0m     row[\u001b[38;5;124m'\u001b[39m\u001b[38;5;124mCardiomegaly\u001b[39m\u001b[38;5;124m'\u001b[39m],\n\u001b[1;32m   (...)\u001b[0m\n\u001b[0;32m     42\u001b[0m     row[\u001b[38;5;124m'\u001b[39m\u001b[38;5;124mPneumothorax\u001b[39m\u001b[38;5;124m'\u001b[39m],\n\u001b[0;32m     43\u001b[0m ], dtype\u001b[38;5;241m=\u001b[39mtorch\u001b[38;5;241m.\u001b[39mfloat32)\n\u001b[0;32m     45\u001b[0m \u001b[38;5;28;01mreturn\u001b[39;00m img, labels\n",
      "File \u001b[1;32mc:\\Users\\w2\\AppData\\Local\\Programs\\Python\\Python310\\lib\\site-packages\\torchvision\\transforms\\transforms.py:95\u001b[0m, in \u001b[0;36mCompose.__call__\u001b[1;34m(self, img)\u001b[0m\n\u001b[0;32m     93\u001b[0m \u001b[38;5;28;01mdef\u001b[39;00m \u001b[38;5;21m__call__\u001b[39m(\u001b[38;5;28mself\u001b[39m, img):\n\u001b[0;32m     94\u001b[0m     \u001b[38;5;28;01mfor\u001b[39;00m t \u001b[38;5;129;01min\u001b[39;00m \u001b[38;5;28mself\u001b[39m\u001b[38;5;241m.\u001b[39mtransforms:\n\u001b[1;32m---> 95\u001b[0m         img \u001b[38;5;241m=\u001b[39m \u001b[43mt\u001b[49m\u001b[43m(\u001b[49m\u001b[43mimg\u001b[49m\u001b[43m)\u001b[49m\n\u001b[0;32m     96\u001b[0m     \u001b[38;5;28;01mreturn\u001b[39;00m img\n",
      "File \u001b[1;32mc:\\Users\\w2\\AppData\\Local\\Programs\\Python\\Python310\\lib\\site-packages\\torch\\nn\\modules\\module.py:1739\u001b[0m, in \u001b[0;36mModule._wrapped_call_impl\u001b[1;34m(self, *args, **kwargs)\u001b[0m\n\u001b[0;32m   1737\u001b[0m     \u001b[38;5;28;01mreturn\u001b[39;00m \u001b[38;5;28mself\u001b[39m\u001b[38;5;241m.\u001b[39m_compiled_call_impl(\u001b[38;5;241m*\u001b[39margs, \u001b[38;5;241m*\u001b[39m\u001b[38;5;241m*\u001b[39mkwargs)  \u001b[38;5;66;03m# type: ignore[misc]\u001b[39;00m\n\u001b[0;32m   1738\u001b[0m \u001b[38;5;28;01melse\u001b[39;00m:\n\u001b[1;32m-> 1739\u001b[0m     \u001b[38;5;28;01mreturn\u001b[39;00m \u001b[38;5;28mself\u001b[39m\u001b[38;5;241m.\u001b[39m_call_impl(\u001b[38;5;241m*\u001b[39margs, \u001b[38;5;241m*\u001b[39m\u001b[38;5;241m*\u001b[39mkwargs)\n",
      "File \u001b[1;32mc:\\Users\\w2\\AppData\\Local\\Programs\\Python\\Python310\\lib\\site-packages\\torch\\nn\\modules\\module.py:1750\u001b[0m, in \u001b[0;36mModule._call_impl\u001b[1;34m(self, *args, **kwargs)\u001b[0m\n\u001b[0;32m   1745\u001b[0m \u001b[38;5;66;03m# If we don't have any hooks, we want to skip the rest of the logic in\u001b[39;00m\n\u001b[0;32m   1746\u001b[0m \u001b[38;5;66;03m# this function, and just call forward.\u001b[39;00m\n\u001b[0;32m   1747\u001b[0m \u001b[38;5;28;01mif\u001b[39;00m \u001b[38;5;129;01mnot\u001b[39;00m (\u001b[38;5;28mself\u001b[39m\u001b[38;5;241m.\u001b[39m_backward_hooks \u001b[38;5;129;01mor\u001b[39;00m \u001b[38;5;28mself\u001b[39m\u001b[38;5;241m.\u001b[39m_backward_pre_hooks \u001b[38;5;129;01mor\u001b[39;00m \u001b[38;5;28mself\u001b[39m\u001b[38;5;241m.\u001b[39m_forward_hooks \u001b[38;5;129;01mor\u001b[39;00m \u001b[38;5;28mself\u001b[39m\u001b[38;5;241m.\u001b[39m_forward_pre_hooks\n\u001b[0;32m   1748\u001b[0m         \u001b[38;5;129;01mor\u001b[39;00m _global_backward_pre_hooks \u001b[38;5;129;01mor\u001b[39;00m _global_backward_hooks\n\u001b[0;32m   1749\u001b[0m         \u001b[38;5;129;01mor\u001b[39;00m _global_forward_hooks \u001b[38;5;129;01mor\u001b[39;00m _global_forward_pre_hooks):\n\u001b[1;32m-> 1750\u001b[0m     \u001b[38;5;28;01mreturn\u001b[39;00m forward_call(\u001b[38;5;241m*\u001b[39margs, \u001b[38;5;241m*\u001b[39m\u001b[38;5;241m*\u001b[39mkwargs)\n\u001b[0;32m   1752\u001b[0m result \u001b[38;5;241m=\u001b[39m \u001b[38;5;28;01mNone\u001b[39;00m\n\u001b[0;32m   1753\u001b[0m called_always_called_hooks \u001b[38;5;241m=\u001b[39m \u001b[38;5;28mset\u001b[39m()\n",
      "File \u001b[1;32mc:\\Users\\w2\\AppData\\Local\\Programs\\Python\\Python310\\lib\\site-packages\\torchvision\\transforms\\transforms.py:277\u001b[0m, in \u001b[0;36mNormalize.forward\u001b[1;34m(self, tensor)\u001b[0m\n\u001b[0;32m    269\u001b[0m \u001b[38;5;28;01mdef\u001b[39;00m \u001b[38;5;21mforward\u001b[39m(\u001b[38;5;28mself\u001b[39m, tensor: Tensor) \u001b[38;5;241m-\u001b[39m\u001b[38;5;241m>\u001b[39m Tensor:\n\u001b[0;32m    270\u001b[0m \u001b[38;5;250m    \u001b[39m\u001b[38;5;124;03m\"\"\"\u001b[39;00m\n\u001b[0;32m    271\u001b[0m \u001b[38;5;124;03m    Args:\u001b[39;00m\n\u001b[0;32m    272\u001b[0m \u001b[38;5;124;03m        tensor (Tensor): Tensor image to be normalized.\u001b[39;00m\n\u001b[1;32m   (...)\u001b[0m\n\u001b[0;32m    275\u001b[0m \u001b[38;5;124;03m        Tensor: Normalized Tensor image.\u001b[39;00m\n\u001b[0;32m    276\u001b[0m \u001b[38;5;124;03m    \"\"\"\u001b[39;00m\n\u001b[1;32m--> 277\u001b[0m     \u001b[38;5;28;01mreturn\u001b[39;00m \u001b[43mF\u001b[49m\u001b[38;5;241;43m.\u001b[39;49m\u001b[43mnormalize\u001b[49m\u001b[43m(\u001b[49m\u001b[43mtensor\u001b[49m\u001b[43m,\u001b[49m\u001b[43m \u001b[49m\u001b[38;5;28;43mself\u001b[39;49m\u001b[38;5;241;43m.\u001b[39;49m\u001b[43mmean\u001b[49m\u001b[43m,\u001b[49m\u001b[43m \u001b[49m\u001b[38;5;28;43mself\u001b[39;49m\u001b[38;5;241;43m.\u001b[39;49m\u001b[43mstd\u001b[49m\u001b[43m,\u001b[49m\u001b[43m \u001b[49m\u001b[38;5;28;43mself\u001b[39;49m\u001b[38;5;241;43m.\u001b[39;49m\u001b[43minplace\u001b[49m\u001b[43m)\u001b[49m\n",
      "File \u001b[1;32mc:\\Users\\w2\\AppData\\Local\\Programs\\Python\\Python310\\lib\\site-packages\\torchvision\\transforms\\functional.py:350\u001b[0m, in \u001b[0;36mnormalize\u001b[1;34m(tensor, mean, std, inplace)\u001b[0m\n\u001b[0;32m    347\u001b[0m \u001b[38;5;28;01mif\u001b[39;00m \u001b[38;5;129;01mnot\u001b[39;00m \u001b[38;5;28misinstance\u001b[39m(tensor, torch\u001b[38;5;241m.\u001b[39mTensor):\n\u001b[0;32m    348\u001b[0m     \u001b[38;5;28;01mraise\u001b[39;00m \u001b[38;5;167;01mTypeError\u001b[39;00m(\u001b[38;5;124mf\u001b[39m\u001b[38;5;124m\"\u001b[39m\u001b[38;5;124mimg should be Tensor Image. Got \u001b[39m\u001b[38;5;132;01m{\u001b[39;00m\u001b[38;5;28mtype\u001b[39m(tensor)\u001b[38;5;132;01m}\u001b[39;00m\u001b[38;5;124m\"\u001b[39m)\n\u001b[1;32m--> 350\u001b[0m \u001b[38;5;28;01mreturn\u001b[39;00m \u001b[43mF_t\u001b[49m\u001b[38;5;241;43m.\u001b[39;49m\u001b[43mnormalize\u001b[49m\u001b[43m(\u001b[49m\u001b[43mtensor\u001b[49m\u001b[43m,\u001b[49m\u001b[43m \u001b[49m\u001b[43mmean\u001b[49m\u001b[38;5;241;43m=\u001b[39;49m\u001b[43mmean\u001b[49m\u001b[43m,\u001b[49m\u001b[43m \u001b[49m\u001b[43mstd\u001b[49m\u001b[38;5;241;43m=\u001b[39;49m\u001b[43mstd\u001b[49m\u001b[43m,\u001b[49m\u001b[43m \u001b[49m\u001b[43minplace\u001b[49m\u001b[38;5;241;43m=\u001b[39;49m\u001b[43minplace\u001b[49m\u001b[43m)\u001b[49m\n",
      "File \u001b[1;32mc:\\Users\\w2\\AppData\\Local\\Programs\\Python\\Python310\\lib\\site-packages\\torchvision\\transforms\\_functional_tensor.py:928\u001b[0m, in \u001b[0;36mnormalize\u001b[1;34m(tensor, mean, std, inplace)\u001b[0m\n\u001b[0;32m    926\u001b[0m \u001b[38;5;28;01mif\u001b[39;00m std\u001b[38;5;241m.\u001b[39mndim \u001b[38;5;241m==\u001b[39m \u001b[38;5;241m1\u001b[39m:\n\u001b[0;32m    927\u001b[0m     std \u001b[38;5;241m=\u001b[39m std\u001b[38;5;241m.\u001b[39mview(\u001b[38;5;241m-\u001b[39m\u001b[38;5;241m1\u001b[39m, \u001b[38;5;241m1\u001b[39m, \u001b[38;5;241m1\u001b[39m)\n\u001b[1;32m--> 928\u001b[0m \u001b[38;5;28;01mreturn\u001b[39;00m \u001b[43mtensor\u001b[49m\u001b[38;5;241;43m.\u001b[39;49m\u001b[43msub_\u001b[49m\u001b[43m(\u001b[49m\u001b[43mmean\u001b[49m\u001b[43m)\u001b[49m\u001b[38;5;241;43m.\u001b[39;49m\u001b[43mdiv_\u001b[49m\u001b[43m(\u001b[49m\u001b[43mstd\u001b[49m\u001b[43m)\u001b[49m\n",
      "\u001b[1;31mKeyboardInterrupt\u001b[0m: "
     ]
    }
   ],
   "source": [
    "###{'weight_decay': 0.0001, 'optimizer': 'adam', 'learning_rate': 1e-05, 'dropout': 0.1, 'batch_size': 48}\n",
    "\n",
    "\n",
    "\n",
    "vit = models.vit_b_16(weights='IMAGENET1K_V1')\n",
    "\n",
    "#for param in densenet.parameters():\n",
    "  #  param.requires_grad = False\n",
    "\n",
    "num_labels = 12\n",
    "vit.heads = nn.Sequential(\n",
    "                nn.Dropout(0.1),\n",
    "                nn.Linear(vit.heads.head.in_features, num_labels),\n",
    "                nn.Sigmoid()\n",
    "            )\n",
    "\n",
    "device = torch.device(\"cuda\" if torch.cuda.is_available() else \"cpu\")\n",
    "vit = vit.to(device)\n",
    "\n",
    "criterion = nn.BCELoss()\n",
    "\n",
    "optimizer = torch.optim.Adam(vit.parameters(), lr=1e-5, weight_decay=0.0001)\n",
    "\n",
    "scheduler = torch.optim.lr_scheduler.ReduceLROnPlateau(optimizer, mode='min', factor=0.5, patience=3, verbose=True)\n",
    "\n",
    "train_loader_vit = DataLoader(train_dataset, batch_size=48, shuffle=True)\n",
    "val_loader_vit   = DataLoader(val_dataset, batch_size=48, shuffle=False)\n",
    "test_loader_vit  = DataLoader(test_dataset, batch_size=48, shuffle=False)\n",
    "\n",
    "history_vit ={'training_loss':[],\n",
    "      'training_auc':[],\n",
    "     'validation_loss': [],\n",
    "     'validation_auc':[]}\n",
    "\n",
    "def train(model, train_loader, val_loader, criterion, optimizer, scheduler, device, epochs=20):\n",
    "    best_val_auc = 0\n",
    "    patience = 3\n",
    "    patience_counter=0\n",
    "\n",
    "    for epoch in range(epochs):\n",
    "        model.train()\n",
    "        train_loss = 0.0\n",
    "        train_outputs_list = []\n",
    "        train_targets_list = []\n",
    "\n",
    "        print(f\"\\nEpoch [{epoch+1}/{epochs}]\")\n",
    "        loop = tqdm(train_loader, desc='Training', leave=False)\n",
    "\n",
    "        for images, labels in loop:\n",
    "            images = images.to(device)\n",
    "            labels = labels.to(device)\n",
    "\n",
    "            optimizer.zero_grad()\n",
    "            outputs = model(images)\n",
    "            loss = criterion(outputs, labels)\n",
    "            loss.backward()\n",
    "            optimizer.step()\n",
    "\n",
    "            train_loss += loss.item()\n",
    "\n",
    "            # Store outputs and targets for AUC calculation\n",
    "            train_outputs_list.append(outputs.detach().cpu())\n",
    "            train_targets_list.append(labels.detach().cpu())\n",
    "\n",
    "            loop.set_postfix(loss=loss.item())\n",
    "\n",
    "        # Calculate training AUC\n",
    "        train_outputs_all = torch.cat(train_outputs_list, dim=0)\n",
    "        train_targets_all = torch.cat(train_targets_list, dim=0)\n",
    "        train_auc = calculate_auc(train_outputs_all, train_targets_all)\n",
    "\n",
    "        avg_train_loss = train_loss / len(train_loader)\n",
    "        print(f\"Train Loss: {avg_train_loss:.4f} | AUC: {train_auc:.4f}\")\n",
    "\n",
    "        # Validate\n",
    "        val_loss, val_auc = evaluate(model, val_loader, criterion, device)\n",
    "        print(f\"Val Loss:   {val_loss:.4f} | Val AUC: {val_auc:.4f}\")\n",
    "\n",
    "        history_vit['training_loss'].append(avg_train_loss)\n",
    "        history_vit['training_auc'].append(train_auc)\n",
    "        history_vit['validation_loss'].append(val_loss)\n",
    "        history_vit['validation_auc'].append(val_auc)        \n",
    "        scheduler.step(val_loss)\n",
    "\n",
    "        # Save best model\n",
    "        if val_auc > best_val_auc:\n",
    "            best_val_auc = val_auc\n",
    "            torch.save(model.state_dict(), 'best_model_vit.pth')\n",
    "            print(f\"New best model saved with AUC: {best_val_auc:.4f}\")\n",
    "            patience_counter=0\n",
    "        else:\n",
    "            patience_counter+=1\n",
    "            if patience_counter>=patience:\n",
    "                print(f\"Early stopping at epoch {epoch+1}\")\n",
    "                break\n",
    "\n",
    "\n",
    "\n",
    "train(vit, train_loader_vit, val_loader_vit, criterion, optimizer, scheduler, device, epochs=20)\n",
    "\n",
    "\n",
    "#Training time:48 min\n",
    "# Best Validation AUC score:0.7377"
   ]
  },
  {
   "cell_type": "code",
   "execution_count": 30,
   "id": "c9fc400c",
   "metadata": {},
   "outputs": [
    {
     "data": {
      "image/png": "[encoded data removed]",
      "text/plain": [
       "<Figure size 1200x500 with 2 Axes>"
      ]
     },
     "metadata": {},
     "output_type": "display_data"
    }
   ],
   "source": [
    "import matplotlib.pyplot as plt\n",
    "\n",
    "# Epochs\n",
    "epochs_vit = list(range(1, 12))\n",
    "best_epoch_vit = 8\n",
    "\n",
    "# Training and validation loss\n",
    "train_loss_vit = [0.3996, 0.3818, 0.3754, 0.3710, 0.3679, 0.3653, 0.3624, 0.3594, 0.3564, 0.3537, 0.3506]\n",
    "val_loss_vit   = [0.3853, 0.3803, 0.3785, 0.3744, 0.3751, 0.3724, 0.3755, 0.3722, 0.3760, 0.3793, 0.3816]\n",
    "\n",
    "# Training and validation AUC\n",
    "train_auc_vit = [0.6530, 0.7054, 0.7226, 0.7344, 0.7425, 0.7494, 0.7561, 0.7621, 0.7689, 0.7750, 0.7809]\n",
    "val_auc_vit   = [0.7005, 0.7168, 0.7236, 0.7283, 0.7321, 0.7360, 0.7337, 0.7377, 0.7355, 0.7342, 0.7319]\n",
    "\n",
    "# Plot Loss\n",
    "plt.figure(figsize=(12, 5))\n",
    "plt.suptitle(\"ViT (vit_b_16) with {'weight_decay': 0.0001, 'optimizer': 'adam', 'learning_rate': 1e-05, 'dropout': 0.1, 'batch_size': 48} \")\n",
    "plt.subplot(1, 2, 1)\n",
    "plt.plot(epochs_vit, train_loss_vit, label='Train Loss', marker='o')\n",
    "plt.axvline(x=best_epoch_vit, color='red', linestyle='--', label=f'Saved Model (Epoch {best_epoch_vit})')\n",
    "plt.plot(epochs_vit, val_loss_vit, label='Val Loss', marker='o')\n",
    "plt.title('Loss over Epochs')\n",
    "plt.xlabel('Epoch')\n",
    "plt.ylabel('Loss')\n",
    "plt.legend()\n",
    "plt.grid(True)\n",
    "\n",
    "# Plot AUC\n",
    "plt.subplot(1, 2, 2)\n",
    "plt.plot(epochs_vit, train_auc_vit, label='Train AUC', marker='o')\n",
    "plt.plot(epochs_vit, val_auc_vit, label='Val AUC', marker='o')\n",
    "plt.axvline(x=best_epoch_vit, color='red', linestyle='--', label=f'Saved Model (Epoch {best_epoch_vit})')\n",
    "plt.plot(best_epoch_vit, val_auc_vit[best_epoch_vit-1], marker='o', color='red', markersize=15, label=f'Best Val AUC = {val_auc_vit[best_epoch_vit-1]}')\n",
    "plt.title('AUC over Epochs')\n",
    "plt.xlabel('Epoch')\n",
    "plt.ylabel('AUC Score')\n",
    "plt.legend()\n",
    "plt.grid(True)\n",
    "\n",
    "plt.tight_layout()\n",
    "plt.show()\n"
   ]
  },
  {
   "cell_type": "code",
   "execution_count": 15,
   "id": "84a6dde3",
   "metadata": {},
   "outputs": [
    {
     "name": "stdout",
     "output_type": "stream",
     "text": [
      "\n",
      "Epoch [1/20]\n"
     ]
    },
    {
     "name": "stderr",
     "output_type": "stream",
     "text": [
      "                                                                       \r"
     ]
    },
    {
     "ename": "KeyboardInterrupt",
     "evalue": "",
     "output_type": "error",
     "traceback": [
      "\u001b[1;31m---------------------------------------------------------------------------\u001b[0m",
      "\u001b[1;31mKeyboardInterrupt\u001b[0m                         Traceback (most recent call last)",
      "Cell \u001b[1;32mIn[15], line 99\u001b[0m\n\u001b[0;32m     94\u001b[0m                 \u001b[38;5;28mprint\u001b[39m(\u001b[38;5;124mf\u001b[39m\u001b[38;5;124m\"\u001b[39m\u001b[38;5;124mEarly stopping at epoch \u001b[39m\u001b[38;5;132;01m{\u001b[39;00mepoch\u001b[38;5;241m+\u001b[39m\u001b[38;5;241m1\u001b[39m\u001b[38;5;132;01m}\u001b[39;00m\u001b[38;5;124m\"\u001b[39m)\n\u001b[0;32m     95\u001b[0m                 \u001b[38;5;28;01mbreak\u001b[39;00m\n\u001b[1;32m---> 99\u001b[0m \u001b[43mtrain\u001b[49m\u001b[43m(\u001b[49m\u001b[43mresnet\u001b[49m\u001b[43m,\u001b[49m\u001b[43m \u001b[49m\u001b[43mtrain_loader_resnet\u001b[49m\u001b[43m,\u001b[49m\u001b[43m \u001b[49m\u001b[43mval_loader_resnet\u001b[49m\u001b[43m,\u001b[49m\u001b[43m \u001b[49m\u001b[43mcriterion\u001b[49m\u001b[43m,\u001b[49m\u001b[43m \u001b[49m\u001b[43moptimizer\u001b[49m\u001b[43m,\u001b[49m\u001b[43m \u001b[49m\u001b[43mscheduler\u001b[49m\u001b[43m,\u001b[49m\u001b[43m \u001b[49m\u001b[43mdevice\u001b[49m\u001b[43m,\u001b[49m\u001b[43m \u001b[49m\u001b[43mepochs\u001b[49m\u001b[38;5;241;43m=\u001b[39;49m\u001b[38;5;241;43m20\u001b[39;49m\u001b[43m)\u001b[49m\n",
      "Cell \u001b[1;32mIn[15], line 49\u001b[0m, in \u001b[0;36mtrain\u001b[1;34m(model, train_loader, val_loader, criterion, optimizer, scheduler, device, epochs)\u001b[0m\n\u001b[0;32m     46\u001b[0m \u001b[38;5;28mprint\u001b[39m(\u001b[38;5;124mf\u001b[39m\u001b[38;5;124m\"\u001b[39m\u001b[38;5;130;01m\\n\u001b[39;00m\u001b[38;5;124mEpoch [\u001b[39m\u001b[38;5;132;01m{\u001b[39;00mepoch\u001b[38;5;241m+\u001b[39m\u001b[38;5;241m1\u001b[39m\u001b[38;5;132;01m}\u001b[39;00m\u001b[38;5;124m/\u001b[39m\u001b[38;5;132;01m{\u001b[39;00mepochs\u001b[38;5;132;01m}\u001b[39;00m\u001b[38;5;124m]\u001b[39m\u001b[38;5;124m\"\u001b[39m)\n\u001b[0;32m     47\u001b[0m loop \u001b[38;5;241m=\u001b[39m tqdm(train_loader, desc\u001b[38;5;241m=\u001b[39m\u001b[38;5;124m'\u001b[39m\u001b[38;5;124mTraining\u001b[39m\u001b[38;5;124m'\u001b[39m, leave\u001b[38;5;241m=\u001b[39m\u001b[38;5;28;01mFalse\u001b[39;00m)\n\u001b[1;32m---> 49\u001b[0m \u001b[38;5;28;01mfor\u001b[39;00m images, labels \u001b[38;5;129;01min\u001b[39;00m loop:\n\u001b[0;32m     50\u001b[0m     images \u001b[38;5;241m=\u001b[39m images\u001b[38;5;241m.\u001b[39mto(device)\n\u001b[0;32m     51\u001b[0m     labels \u001b[38;5;241m=\u001b[39m labels\u001b[38;5;241m.\u001b[39mto(device)\n",
      "File \u001b[1;32mc:\\Users\\w2\\AppData\\Local\\Programs\\Python\\Python310\\lib\\site-packages\\tqdm\\std.py:1181\u001b[0m, in \u001b[0;36mtqdm.__iter__\u001b[1;34m(self)\u001b[0m\n\u001b[0;32m   1178\u001b[0m time \u001b[38;5;241m=\u001b[39m \u001b[38;5;28mself\u001b[39m\u001b[38;5;241m.\u001b[39m_time\n\u001b[0;32m   1180\u001b[0m \u001b[38;5;28;01mtry\u001b[39;00m:\n\u001b[1;32m-> 1181\u001b[0m     \u001b[38;5;28;01mfor\u001b[39;00m obj \u001b[38;5;129;01min\u001b[39;00m iterable:\n\u001b[0;32m   1182\u001b[0m         \u001b[38;5;28;01myield\u001b[39;00m obj\n\u001b[0;32m   1183\u001b[0m         \u001b[38;5;66;03m# Update and possibly print the progressbar.\u001b[39;00m\n\u001b[0;32m   1184\u001b[0m         \u001b[38;5;66;03m# Note: does not call self.update(1) for speed optimisation.\u001b[39;00m\n",
      "File \u001b[1;32mc:\\Users\\w2\\AppData\\Local\\Programs\\Python\\Python310\\lib\\site-packages\\torch\\utils\\data\\dataloader.py:708\u001b[0m, in \u001b[0;36m_BaseDataLoaderIter.__next__\u001b[1;34m(self)\u001b[0m\n\u001b[0;32m    705\u001b[0m \u001b[38;5;28;01mif\u001b[39;00m \u001b[38;5;28mself\u001b[39m\u001b[38;5;241m.\u001b[39m_sampler_iter \u001b[38;5;129;01mis\u001b[39;00m \u001b[38;5;28;01mNone\u001b[39;00m:\n\u001b[0;32m    706\u001b[0m     \u001b[38;5;66;03m# TODO(https://github.com/pytorch/pytorch/issues/76750)\u001b[39;00m\n\u001b[0;32m    707\u001b[0m     \u001b[38;5;28mself\u001b[39m\u001b[38;5;241m.\u001b[39m_reset()  \u001b[38;5;66;03m# type: ignore[call-arg]\u001b[39;00m\n\u001b[1;32m--> 708\u001b[0m data \u001b[38;5;241m=\u001b[39m \u001b[38;5;28;43mself\u001b[39;49m\u001b[38;5;241;43m.\u001b[39;49m\u001b[43m_next_data\u001b[49m\u001b[43m(\u001b[49m\u001b[43m)\u001b[49m\n\u001b[0;32m    709\u001b[0m \u001b[38;5;28mself\u001b[39m\u001b[38;5;241m.\u001b[39m_num_yielded \u001b[38;5;241m+\u001b[39m\u001b[38;5;241m=\u001b[39m \u001b[38;5;241m1\u001b[39m\n\u001b[0;32m    710\u001b[0m \u001b[38;5;28;01mif\u001b[39;00m (\n\u001b[0;32m    711\u001b[0m     \u001b[38;5;28mself\u001b[39m\u001b[38;5;241m.\u001b[39m_dataset_kind \u001b[38;5;241m==\u001b[39m _DatasetKind\u001b[38;5;241m.\u001b[39mIterable\n\u001b[0;32m    712\u001b[0m     \u001b[38;5;129;01mand\u001b[39;00m \u001b[38;5;28mself\u001b[39m\u001b[38;5;241m.\u001b[39m_IterableDataset_len_called \u001b[38;5;129;01mis\u001b[39;00m \u001b[38;5;129;01mnot\u001b[39;00m \u001b[38;5;28;01mNone\u001b[39;00m\n\u001b[0;32m    713\u001b[0m     \u001b[38;5;129;01mand\u001b[39;00m \u001b[38;5;28mself\u001b[39m\u001b[38;5;241m.\u001b[39m_num_yielded \u001b[38;5;241m>\u001b[39m \u001b[38;5;28mself\u001b[39m\u001b[38;5;241m.\u001b[39m_IterableDataset_len_called\n\u001b[0;32m    714\u001b[0m ):\n",
      "File \u001b[1;32mc:\\Users\\w2\\AppData\\Local\\Programs\\Python\\Python310\\lib\\site-packages\\torch\\utils\\data\\dataloader.py:764\u001b[0m, in \u001b[0;36m_SingleProcessDataLoaderIter._next_data\u001b[1;34m(self)\u001b[0m\n\u001b[0;32m    762\u001b[0m \u001b[38;5;28;01mdef\u001b[39;00m \u001b[38;5;21m_next_data\u001b[39m(\u001b[38;5;28mself\u001b[39m):\n\u001b[0;32m    763\u001b[0m     index \u001b[38;5;241m=\u001b[39m \u001b[38;5;28mself\u001b[39m\u001b[38;5;241m.\u001b[39m_next_index()  \u001b[38;5;66;03m# may raise StopIteration\u001b[39;00m\n\u001b[1;32m--> 764\u001b[0m     data \u001b[38;5;241m=\u001b[39m \u001b[38;5;28;43mself\u001b[39;49m\u001b[38;5;241;43m.\u001b[39;49m\u001b[43m_dataset_fetcher\u001b[49m\u001b[38;5;241;43m.\u001b[39;49m\u001b[43mfetch\u001b[49m\u001b[43m(\u001b[49m\u001b[43mindex\u001b[49m\u001b[43m)\u001b[49m  \u001b[38;5;66;03m# may raise StopIteration\u001b[39;00m\n\u001b[0;32m    765\u001b[0m     \u001b[38;5;28;01mif\u001b[39;00m \u001b[38;5;28mself\u001b[39m\u001b[38;5;241m.\u001b[39m_pin_memory:\n\u001b[0;32m    766\u001b[0m         data \u001b[38;5;241m=\u001b[39m _utils\u001b[38;5;241m.\u001b[39mpin_memory\u001b[38;5;241m.\u001b[39mpin_memory(data, \u001b[38;5;28mself\u001b[39m\u001b[38;5;241m.\u001b[39m_pin_memory_device)\n",
      "File \u001b[1;32mc:\\Users\\w2\\AppData\\Local\\Programs\\Python\\Python310\\lib\\site-packages\\torch\\utils\\data\\_utils\\fetch.py:52\u001b[0m, in \u001b[0;36m_MapDatasetFetcher.fetch\u001b[1;34m(self, possibly_batched_index)\u001b[0m\n\u001b[0;32m     50\u001b[0m         data \u001b[38;5;241m=\u001b[39m \u001b[38;5;28mself\u001b[39m\u001b[38;5;241m.\u001b[39mdataset\u001b[38;5;241m.\u001b[39m__getitems__(possibly_batched_index)\n\u001b[0;32m     51\u001b[0m     \u001b[38;5;28;01melse\u001b[39;00m:\n\u001b[1;32m---> 52\u001b[0m         data \u001b[38;5;241m=\u001b[39m [\u001b[38;5;28mself\u001b[39m\u001b[38;5;241m.\u001b[39mdataset[idx] \u001b[38;5;28;01mfor\u001b[39;00m idx \u001b[38;5;129;01min\u001b[39;00m possibly_batched_index]\n\u001b[0;32m     53\u001b[0m \u001b[38;5;28;01melse\u001b[39;00m:\n\u001b[0;32m     54\u001b[0m     data \u001b[38;5;241m=\u001b[39m \u001b[38;5;28mself\u001b[39m\u001b[38;5;241m.\u001b[39mdataset[possibly_batched_index]\n",
      "File \u001b[1;32mc:\\Users\\w2\\AppData\\Local\\Programs\\Python\\Python310\\lib\\site-packages\\torch\\utils\\data\\_utils\\fetch.py:52\u001b[0m, in \u001b[0;36m<listcomp>\u001b[1;34m(.0)\u001b[0m\n\u001b[0;32m     50\u001b[0m         data \u001b[38;5;241m=\u001b[39m \u001b[38;5;28mself\u001b[39m\u001b[38;5;241m.\u001b[39mdataset\u001b[38;5;241m.\u001b[39m__getitems__(possibly_batched_index)\n\u001b[0;32m     51\u001b[0m     \u001b[38;5;28;01melse\u001b[39;00m:\n\u001b[1;32m---> 52\u001b[0m         data \u001b[38;5;241m=\u001b[39m [\u001b[38;5;28;43mself\u001b[39;49m\u001b[38;5;241;43m.\u001b[39;49m\u001b[43mdataset\u001b[49m\u001b[43m[\u001b[49m\u001b[43midx\u001b[49m\u001b[43m]\u001b[49m \u001b[38;5;28;01mfor\u001b[39;00m idx \u001b[38;5;129;01min\u001b[39;00m possibly_batched_index]\n\u001b[0;32m     53\u001b[0m \u001b[38;5;28;01melse\u001b[39;00m:\n\u001b[0;32m     54\u001b[0m     data \u001b[38;5;241m=\u001b[39m \u001b[38;5;28mself\u001b[39m\u001b[38;5;241m.\u001b[39mdataset[possibly_batched_index]\n",
      "Cell \u001b[1;32mIn[7], line 25\u001b[0m, in \u001b[0;36mCXRDataset.__getitem__\u001b[1;34m(self, idx)\u001b[0m\n\u001b[0;32m     22\u001b[0m \u001b[38;5;28;01melif\u001b[39;00m \u001b[38;5;28mself\u001b[39m\u001b[38;5;241m.\u001b[39msize \u001b[38;5;241m==\u001b[39m \u001b[38;5;124m'\u001b[39m\u001b[38;5;124msmall\u001b[39m\u001b[38;5;124m'\u001b[39m:\n\u001b[0;32m     23\u001b[0m     path\u001b[38;5;241m=\u001b[39mos\u001b[38;5;241m.\u001b[39mpath\u001b[38;5;241m.\u001b[39mjoin(DATA_DIR_SMALL,row[\u001b[38;5;124m'\u001b[39m\u001b[38;5;124msplit\u001b[39m\u001b[38;5;124m'\u001b[39m],row[\u001b[38;5;124m'\u001b[39m\u001b[38;5;124mimage_name\u001b[39m\u001b[38;5;124m'\u001b[39m])\n\u001b[1;32m---> 25\u001b[0m img \u001b[38;5;241m=\u001b[39m \u001b[43mImage\u001b[49m\u001b[38;5;241;43m.\u001b[39;49m\u001b[43mopen\u001b[49m\u001b[43m(\u001b[49m\u001b[43mpath\u001b[49m\u001b[43m)\u001b[49m\u001b[38;5;241;43m.\u001b[39;49m\u001b[43mconvert\u001b[49m\u001b[43m(\u001b[49m\u001b[38;5;124;43m'\u001b[39;49m\u001b[38;5;124;43mRGB\u001b[39;49m\u001b[38;5;124;43m'\u001b[39;49m\u001b[43m)\u001b[49m\n\u001b[0;32m     27\u001b[0m \u001b[38;5;28;01mif\u001b[39;00m \u001b[38;5;28mself\u001b[39m\u001b[38;5;241m.\u001b[39mtransform:\n\u001b[0;32m     28\u001b[0m     img \u001b[38;5;241m=\u001b[39m \u001b[38;5;28mself\u001b[39m\u001b[38;5;241m.\u001b[39mtransform(img)\n",
      "File \u001b[1;32mc:\\Users\\w2\\AppData\\Local\\Programs\\Python\\Python310\\lib\\site-packages\\PIL\\Image.py:933\u001b[0m, in \u001b[0;36mImage.convert\u001b[1;34m(self, mode, matrix, dither, palette, colors)\u001b[0m\n\u001b[0;32m    885\u001b[0m \u001b[38;5;28;01mdef\u001b[39;00m \u001b[38;5;21mconvert\u001b[39m(\n\u001b[0;32m    886\u001b[0m     \u001b[38;5;28mself\u001b[39m, mode\u001b[38;5;241m=\u001b[39m\u001b[38;5;28;01mNone\u001b[39;00m, matrix\u001b[38;5;241m=\u001b[39m\u001b[38;5;28;01mNone\u001b[39;00m, dither\u001b[38;5;241m=\u001b[39m\u001b[38;5;28;01mNone\u001b[39;00m, palette\u001b[38;5;241m=\u001b[39mPalette\u001b[38;5;241m.\u001b[39mWEB, colors\u001b[38;5;241m=\u001b[39m\u001b[38;5;241m256\u001b[39m\n\u001b[0;32m    887\u001b[0m ):\n\u001b[0;32m    888\u001b[0m \u001b[38;5;250m    \u001b[39m\u001b[38;5;124;03m\"\"\"\u001b[39;00m\n\u001b[0;32m    889\u001b[0m \u001b[38;5;124;03m    Returns a converted copy of this image. For the \"P\" mode, this\u001b[39;00m\n\u001b[0;32m    890\u001b[0m \u001b[38;5;124;03m    method translates pixels through the palette.  If mode is\u001b[39;00m\n\u001b[1;32m   (...)\u001b[0m\n\u001b[0;32m    930\u001b[0m \u001b[38;5;124;03m    :returns: An :py:class:`~PIL.Image.Image` object.\u001b[39;00m\n\u001b[0;32m    931\u001b[0m \u001b[38;5;124;03m    \"\"\"\u001b[39;00m\n\u001b[1;32m--> 933\u001b[0m     \u001b[38;5;28;43mself\u001b[39;49m\u001b[38;5;241;43m.\u001b[39;49m\u001b[43mload\u001b[49m\u001b[43m(\u001b[49m\u001b[43m)\u001b[49m\n\u001b[0;32m    935\u001b[0m     has_transparency \u001b[38;5;241m=\u001b[39m \u001b[38;5;28mself\u001b[39m\u001b[38;5;241m.\u001b[39minfo\u001b[38;5;241m.\u001b[39mget(\u001b[38;5;124m\"\u001b[39m\u001b[38;5;124mtransparency\u001b[39m\u001b[38;5;124m\"\u001b[39m) \u001b[38;5;129;01mis\u001b[39;00m \u001b[38;5;129;01mnot\u001b[39;00m \u001b[38;5;28;01mNone\u001b[39;00m\n\u001b[0;32m    936\u001b[0m     \u001b[38;5;28;01mif\u001b[39;00m \u001b[38;5;129;01mnot\u001b[39;00m mode \u001b[38;5;129;01mand\u001b[39;00m \u001b[38;5;28mself\u001b[39m\u001b[38;5;241m.\u001b[39mmode \u001b[38;5;241m==\u001b[39m \u001b[38;5;124m\"\u001b[39m\u001b[38;5;124mP\u001b[39m\u001b[38;5;124m\"\u001b[39m:\n\u001b[0;32m    937\u001b[0m         \u001b[38;5;66;03m# determine default mode\u001b[39;00m\n",
      "File \u001b[1;32mc:\\Users\\w2\\AppData\\Local\\Programs\\Python\\Python310\\lib\\site-packages\\PIL\\ImageFile.py:269\u001b[0m, in \u001b[0;36mImageFile.load\u001b[1;34m(self)\u001b[0m\n\u001b[0;32m    266\u001b[0m         \u001b[38;5;28;01mraise\u001b[39;00m \u001b[38;5;167;01mOSError\u001b[39;00m(msg)\n\u001b[0;32m    268\u001b[0m b \u001b[38;5;241m=\u001b[39m b \u001b[38;5;241m+\u001b[39m s\n\u001b[1;32m--> 269\u001b[0m n, err_code \u001b[38;5;241m=\u001b[39m \u001b[43mdecoder\u001b[49m\u001b[38;5;241;43m.\u001b[39;49m\u001b[43mdecode\u001b[49m\u001b[43m(\u001b[49m\u001b[43mb\u001b[49m\u001b[43m)\u001b[49m\n\u001b[0;32m    270\u001b[0m \u001b[38;5;28;01mif\u001b[39;00m n \u001b[38;5;241m<\u001b[39m \u001b[38;5;241m0\u001b[39m:\n\u001b[0;32m    271\u001b[0m     \u001b[38;5;28;01mbreak\u001b[39;00m\n",
      "\u001b[1;31mKeyboardInterrupt\u001b[0m: "
     ]
    }
   ],
   "source": [
    "#{'weight_decay': 0.0, 'optimizer': 'rmsprop', 'learning_rate': 0.0001, 'dropout': 0.2, 'batch_size': 64}\n",
    "\n",
    "\n",
    "\n",
    "resnet = models.resnet101(weights='IMAGENET1K_V1')\n",
    "\n",
    "#for param in densenet.parameters():\n",
    "  #  param.requires_grad = False\n",
    "\n",
    "num_labels = 12\n",
    "resnet.fc = nn.Sequential(\n",
    "                nn.Dropout(0.2),\n",
    "                nn.Linear(resnet.fc.in_features, num_labels),\n",
    "                nn.Sigmoid()\n",
    "            )\n",
    "\n",
    "device = torch.device(\"cuda\" if torch.cuda.is_available() else \"cpu\")\n",
    "resnet = resnet.to(device)\n",
    "\n",
    "criterion = nn.BCELoss()\n",
    "\n",
    "optimizer = torch.optim.RMSprop(resnet.parameters(), lr=0.0001, weight_decay=0)\n",
    "\n",
    "scheduler = torch.optim.lr_scheduler.ReduceLROnPlateau(optimizer, mode='min', factor=0.5, patience=3, verbose=True)\n",
    "\n",
    "train_loader_resnet = DataLoader(train_dataset, batch_size=64, shuffle=True)\n",
    "val_loader_resnet   = DataLoader(val_dataset, batch_size=64, shuffle=False)\n",
    "test_loader_resnet  = DataLoader(test_dataset, batch_size=64, shuffle=False)\n",
    "\n",
    "history_resnet ={'training_loss':[],\n",
    "      'training_auc':[],\n",
    "     'validation_loss': [],\n",
    "     'validation_auc':[]}\n",
    "\n",
    "def train(model, train_loader, val_loader, criterion, optimizer, scheduler, device, epochs=20):\n",
    "    best_val_auc = 0\n",
    "    patience = 3\n",
    "    patience_counter=0\n",
    "\n",
    "    for epoch in range(epochs):\n",
    "        model.train()\n",
    "        train_loss = 0.0\n",
    "        train_outputs_list = []\n",
    "        train_targets_list = []\n",
    "\n",
    "        print(f\"\\nEpoch [{epoch+1}/{epochs}]\")\n",
    "        loop = tqdm(train_loader, desc='Training', leave=False)\n",
    "\n",
    "        for images, labels in loop:\n",
    "            images = images.to(device)\n",
    "            labels = labels.to(device)\n",
    "\n",
    "            optimizer.zero_grad()\n",
    "            outputs = model(images)\n",
    "            loss = criterion(outputs, labels)\n",
    "            loss.backward()\n",
    "            optimizer.step()\n",
    "\n",
    "            train_loss += loss.item()\n",
    "\n",
    "            # Store outputs and targets for AUC calculation\n",
    "            train_outputs_list.append(outputs.detach().cpu())\n",
    "            train_targets_list.append(labels.detach().cpu())\n",
    "\n",
    "            loop.set_postfix(loss=loss.item())\n",
    "\n",
    "        # Calculate training AUC\n",
    "        train_outputs_all = torch.cat(train_outputs_list, dim=0)\n",
    "        train_targets_all = torch.cat(train_targets_list, dim=0)\n",
    "        train_auc = calculate_auc(train_outputs_all, train_targets_all)\n",
    "\n",
    "        avg_train_loss = train_loss / len(train_loader)\n",
    "        print(f\"Train Loss: {avg_train_loss:.4f} | AUC: {train_auc:.4f}\")\n",
    "\n",
    "        # Validate\n",
    "        val_loss, val_auc = evaluate(model, val_loader, criterion, device)\n",
    "        print(f\"Val Loss:   {val_loss:.4f} | Val AUC: {val_auc:.4f}\")\n",
    "\n",
    "        history_resnet['training_loss'].append(avg_train_loss)\n",
    "        history_resnet['training_auc'].append(train_auc)\n",
    "        history_resnet['validation_loss'].append(val_loss)\n",
    "        history_resnet['validation_auc'].append(val_auc)        \n",
    "        scheduler.step(val_loss)\n",
    "\n",
    "        # Save best model\n",
    "        if val_auc > best_val_auc:\n",
    "            best_val_auc = val_auc\n",
    "            torch.save(model.state_dict(), 'best_model_resnet.pth')\n",
    "            print(f\"New best model saved with AUC: {best_val_auc:.4f}\")\n",
    "            patience_counter=0\n",
    "        else:\n",
    "            patience_counter+=1\n",
    "            if patience_counter>patience:\n",
    "                print(f\"Early stopping at epoch {epoch+1}\")\n",
    "                break\n",
    "\n",
    "\n",
    "\n",
    "train(resnet, train_loader_resnet, val_loader_resnet, criterion, optimizer, scheduler, device, epochs=20)\n",
    "\n",
    "#Time taken: 43 minutes"
   ]
  },
  {
   "cell_type": "code",
   "execution_count": 34,
   "id": "c212c59e",
   "metadata": {},
   "outputs": [
    {
     "data": {
      "image/png": "[encoded data removed]",
      "text/plain": [
       "<Figure size 1200x500 with 2 Axes>"
      ]
     },
     "metadata": {},
     "output_type": "display_data"
    }
   ],
   "source": [
    "import matplotlib.pyplot as plt\n",
    "\n",
    "# Epochs\n",
    "epochs_resnet = list(range(1, 13))\n",
    "best_epoch_resnet = 9\n",
    "\n",
    "# Training and validation loss\n",
    "train_loss_resnet = [0.3937, 0.3788, 0.3723, 0.3680, 0.3636, 0.3586, 0.3543, 0.3491, 0.3342, 0.3231, 0.3139, 0.3036]\n",
    "val_loss_resnet   = [0.3859, 0.3869, 0.3891, 0.3771, 0.3888, 0.3826, 0.3846, 0.3910, 0.3810, 0.3929, 0.4016, 0.4124]\n",
    "\n",
    "# Training and validation AUC\n",
    "train_auc_resnet = [0.6744, 0.7164, 0.7343, 0.7452, 0.7544, 0.7646, 0.7731, 0.7844, 0.8088, 0.8260, 0.8379, 0.8516]\n",
    "val_auc_resnet  = [0.7118, 0.7114, 0.7158, 0.7336, 0.7321, 0.7320, 0.7382, 0.7323, 0.7418, 0.7396, 0.7372, 0.7338]\n",
    "\n",
    "# Plot Loss\n",
    "plt.figure(figsize=(12, 5))\n",
    "plt.suptitle(\"ResNet101 with {'weight_decay': 0.0, 'optimizer': 'rmsprop', 'learning_rate': 0.0001, 'dropout': 0.2, 'batch_size': 64} \")\n",
    "plt.subplot(1, 2, 1)\n",
    "plt.plot(epochs_resnet, train_loss_resnet, label='Train Loss', marker='o')\n",
    "plt.plot(epochs_resnet, val_loss_resnet, label='Val Loss', marker='o')\n",
    "plt.axvline(x=best_epoch_resnet, color='red', linestyle='--', label=f'Saved Model (Epoch {best_epoch_resnet})')\n",
    "plt.title('Loss over Epochs')\n",
    "plt.xlabel('Epoch')\n",
    "plt.ylabel('Loss')\n",
    "plt.legend()\n",
    "plt.grid(True)\n",
    "\n",
    "# Plot AUC\n",
    "plt.subplot(1, 2, 2)\n",
    "plt.plot(epochs_resnet, train_auc_resnet, label='Train AUC', marker='o')\n",
    "plt.plot(epochs_resnet, val_auc_resnet, label='Val AUC', marker='o')\n",
    "plt.axvline(x=best_epoch_resnet, color='red', linestyle='--', label=f'Saved Model (Epoch {best_epoch_resnet})')\n",
    "plt.plot(best_epoch_resnet, val_auc_resnet[best_epoch_resnet - 1], marker='o', color='red', markersize=15, label=f'Best Val AUC = {val_auc_resnet[best_epoch_resnet-1]}')\n",
    "plt.title('AUC over Epochs')\n",
    "plt.xlabel('Epoch')\n",
    "plt.ylabel('AUC Score')\n",
    "plt.legend()\n",
    "plt.grid(True)\n",
    "\n",
    "plt.tight_layout()\n",
    "plt.show()\n"
   ]
  },
  {
   "cell_type": "markdown",
   "id": "d1ee23a2",
   "metadata": {},
   "source": [
    "## Testing AlexNet"
   ]
  },
  {
   "cell_type": "code",
   "execution_count": 48,
   "id": "8b01f7f6",
   "metadata": {},
   "outputs": [
    {
     "name": "stdout",
     "output_type": "stream",
     "text": [
      "Model loaded from best_model_alexnet.pth\n"
     ]
    },
    {
     "name": "stderr",
     "output_type": "stream",
     "text": [
      "Testing: 100%|██████████| 139/139 [00:12<00:00, 10.76it/s]"
     ]
    },
    {
     "name": "stdout",
     "output_type": "stream",
     "text": [
      "\n",
      "Per-label AUC scores:\n",
      "Atelectasis: 0.7109\n",
      "Cardiomegaly: 0.7006\n",
      "Consolidation: 0.6899\n",
      "Edema: 0.8017\n",
      "Enlarged Cardiomediastinum: 0.5863\n",
      "Fracture: 0.6088\n",
      "Lung Lesion: 0.6672\n",
      "Lung Opacity: 0.6650\n",
      "No Finding: 0.7780\n",
      "Pleural Effusion: 0.8184\n",
      "Pneumonia: 0.6598\n",
      "Pneumothorax: 0.7727\n",
      "\n",
      "Mean AUC: 0.7049\n",
      "\n",
      "Per-label Accuracy:\n",
      "Atelectasis: 0.6707\n",
      "Cardiomegaly: 0.6956\n",
      "Consolidation: 0.9054\n",
      "Edema: 0.7837\n",
      "Enlarged Cardiomediastinum: 0.8912\n",
      "Fracture: 0.9805\n",
      "Lung Lesion: 0.9692\n",
      "Lung Opacity: 0.6845\n",
      "No Finding: 0.8310\n",
      "Pleural Effusion: 0.7470\n",
      "Pneumonia: 0.8273\n",
      "Pneumothorax: 0.9348\n",
      "\n",
      "Overall Accuracy: 0.8268\n"
     ]
    },
    {
     "name": "stderr",
     "output_type": "stream",
     "text": [
      "\n"
     ]
    },
    {
     "data": {
      "text/plain": [
       "{'mean_auc': 0.7049309962296838,\n",
       " 'overall_accuracy': 0.8267519046541449,\n",
       " 'per_label_auc': {'Atelectasis': 0.7108955314104302,\n",
       "  'Cardiomegaly': 0.7006076951645389,\n",
       "  'Consolidation': 0.6899034282380119,\n",
       "  'Edema': 0.8017082867766687,\n",
       "  'Enlarged Cardiomediastinum': 0.5862828097464968,\n",
       "  'Fracture': 0.6088133792044826,\n",
       "  'Lung Lesion': 0.6671667691611709,\n",
       "  'Lung Opacity': 0.6649713795458394,\n",
       "  'No Finding': 0.7779517822602929,\n",
       "  'Pleural Effusion': 0.8184367475814475,\n",
       "  'Pneumonia': 0.6597527392254487,\n",
       "  'Pneumothorax': 0.7726814064413765},\n",
       " 'per_label_accuracy': {'Atelectasis': 0.6707399864222675,\n",
       "  'Cardiomegaly': 0.695632496039828,\n",
       "  'Consolidation': 0.90540846345327,\n",
       "  'Edema': 0.7836614618692012,\n",
       "  'Enlarged Cardiomediastinum': 0.8911518443086671,\n",
       "  'Fracture': 0.9805385833899072,\n",
       "  'Lung Lesion': 0.9692238062910161,\n",
       "  'Lung Opacity': 0.6845440144829147,\n",
       "  'No Finding': 0.8309572301425662,\n",
       "  'Pleural Effusion': 0.7470015840687938,\n",
       "  'Pneumonia': 0.827336501470921,\n",
       "  'Pneumothorax': 0.9348268839103869},\n",
       " 'predictions': array([[0, 0, 0, ..., 0, 0, 0],\n",
       "        [0, 0, 0, ..., 0, 0, 0],\n",
       "        [0, 0, 0, ..., 0, 0, 0],\n",
       "        ...,\n",
       "        [0, 0, 0, ..., 0, 0, 0],\n",
       "        [0, 0, 0, ..., 0, 0, 0],\n",
       "        [1, 0, 0, ..., 0, 0, 0]]),\n",
       " 'probabilities': array([[0.04670135, 0.24047746, 0.01221307, ..., 0.08073902, 0.26604974,\n",
       "         0.00979044],\n",
       "        [0.09477539, 0.3763609 , 0.02255112, ..., 0.05017161, 0.09520133,\n",
       "         0.04172223],\n",
       "        [0.15692501, 0.21785249, 0.01761386, ..., 0.04751821, 0.16645783,\n",
       "         0.00735793],\n",
       "        ...,\n",
       "        [0.08247252, 0.4607096 , 0.11555546, ..., 0.25782952, 0.16955353,\n",
       "         0.04567034],\n",
       "        [0.05539934, 0.24650742, 0.16090164, ..., 0.36635086, 0.34472826,\n",
       "         0.01362794],\n",
       "        [0.58736056, 0.16384149, 0.02504774, ..., 0.45511457, 0.0469592 ,\n",
       "         0.00787361]], dtype=float32),\n",
       " 'targets': array([[0., 1., 0., ..., 0., 0., 0.],\n",
       "        [0., 0., 0., ..., 0., 0., 0.],\n",
       "        [1., 1., 0., ..., 1., 1., 0.],\n",
       "        ...,\n",
       "        [0., 0., 0., ..., 1., 0., 0.],\n",
       "        [0., 1., 1., ..., 0., 1., 0.],\n",
       "        [1., 0., 0., ..., 1., 0., 0.]], dtype=float32)}"
      ]
     },
     "execution_count": 48,
     "metadata": {},
     "output_type": "execute_result"
    }
   ],
   "source": [
    "from sklearn.metrics import accuracy_score\n",
    "\n",
    "def test_model_alexnet(model_path, test_loader, device):\n",
    "    model = models.alexnet(weights=None)\n",
    "    model.classifier = nn.Sequential(\n",
    "                nn.Dropout(0.1),\n",
    "                nn.Linear(model.classifier[1].in_features, num_labels),\n",
    "                nn.Sigmoid()\n",
    "            )  \n",
    "    model.load_state_dict(torch.load(model_path, map_location=device))\n",
    "    model = model.to(device)\n",
    "    model.eval()\n",
    "    print(f\"Model loaded from {model_path}\")\n",
    "    all_outputs = []\n",
    "    all_targets = []\n",
    "\n",
    "    with torch.no_grad():\n",
    "        for images, labels in tqdm(test_loader, desc='Testing'):\n",
    "            images = images.to(device)\n",
    "            labels = labels.to(device)\n",
    "\n",
    "            outputs = model(images)\n",
    "\n",
    "            all_outputs.append(outputs.cpu().numpy())\n",
    "            all_targets.append(labels.cpu().numpy())\n",
    "\n",
    "    # Concatenate all batches\n",
    "    all_outputs = np.concatenate(all_outputs, axis=0)\n",
    "    all_targets = np.concatenate(all_targets, axis=0)\n",
    "\n",
    "    # Calculate AUC for each label\n",
    "    auc_scores = []\n",
    "    label_names = [\n",
    "        'Atelectasis', 'Cardiomegaly', 'Consolidation', 'Edema',\n",
    "        'Enlarged Cardiomediastinum', 'Fracture', 'Lung Lesion',\n",
    "        'Lung Opacity', 'No Finding', 'Pleural Effusion',\n",
    "        'Pneumonia', 'Pneumothorax'\n",
    "    ]\n",
    "\n",
    "    print(\"\\nPer-label AUC scores:\")\n",
    "    for i, label_name in enumerate(label_names):\n",
    "        try:\n",
    "            if len(np.unique(all_targets[:, i])) > 1:  # Check if both classes are present\n",
    "                auc = roc_auc_score(all_targets[:, i], all_outputs[:, i])\n",
    "                auc_scores.append(auc)\n",
    "                print(f\"{label_name}: {auc:.4f}\")\n",
    "            else:\n",
    "                print(f\"{label_name}: Cannot calculate AUC (only one class present)\")\n",
    "        except ValueError:\n",
    "            print(f\"{label_name}: Error calculating AUC\")\n",
    "\n",
    "    # Calculate mean AUC\n",
    "    mean_auc = np.mean(auc_scores) if auc_scores else 0.0\n",
    "    print(f\"\\nMean AUC: {mean_auc:.4f}\")\n",
    "\n",
    "    # Calculate accuracy using threshold\n",
    "    predictions = (all_outputs >= 0.5).astype(int)\n",
    "\n",
    "    # Calculate per-label accuracy\n",
    "    print(\"\\nPer-label Accuracy:\")\n",
    "    for i, label_name in enumerate(label_names):\n",
    "        acc = accuracy_score(all_targets[:, i], predictions[:, i])\n",
    "        print(f\"{label_name}: {acc:.4f}\")\n",
    "\n",
    "    # Calculate overall accuracy\n",
    "    overall_accuracy = accuracy_score(all_targets.flatten(), predictions.flatten())\n",
    "    print(f\"\\nOverall Accuracy: {overall_accuracy:.4f}\")\n",
    "    return {\n",
    "        'mean_auc': mean_auc,\n",
    "        'overall_accuracy': overall_accuracy,\n",
    "        'per_label_auc': dict(zip(label_names, auc_scores)),\n",
    "        'per_label_accuracy': {label_names[i]: accuracy_score(all_targets[:, i], predictions[:, i])\n",
    "                              for i in range(len(label_names))},\n",
    "        'predictions': predictions,\n",
    "        'probabilities': all_outputs,\n",
    "        'targets': all_targets\n",
    "    }\n",
    "\n",
    "test_model_alexnet(\"best_model_alexnet.pth\", test_loader, device)"
   ]
  },
  {
   "cell_type": "markdown",
   "id": "186ba980",
   "metadata": {},
   "source": [
    "# DenseNet"
   ]
  },
  {
   "cell_type": "code",
   "execution_count": 49,
   "id": "f56c90a7",
   "metadata": {},
   "outputs": [
    {
     "name": "stdout",
     "output_type": "stream",
     "text": [
      "Model loaded from best_model_densenet.pth\n"
     ]
    },
    {
     "name": "stderr",
     "output_type": "stream",
     "text": [
      "Testing: 100%|██████████| 277/277 [00:15<00:00, 17.70it/s]"
     ]
    },
    {
     "name": "stdout",
     "output_type": "stream",
     "text": [
      "\n",
      "Per-label AUC scores:\n",
      "Atelectasis: 0.7285\n",
      "Cardiomegaly: 0.7179\n",
      "Consolidation: 0.7244\n",
      "Edema: 0.8185\n",
      "Enlarged Cardiomediastinum: 0.6130\n",
      "Fracture: 0.6694\n",
      "Lung Lesion: 0.7155\n",
      "Lung Opacity: 0.6953\n",
      "No Finding: 0.7891\n",
      "Pleural Effusion: 0.8454\n",
      "Pneumonia: 0.7085\n",
      "Pneumothorax: 0.8370\n",
      "\n",
      "Mean AUC: 0.7385\n",
      "\n",
      "Per-label Accuracy:\n",
      "Atelectasis: 0.6818\n",
      "Cardiomegaly: 0.7047\n",
      "Consolidation: 0.9047\n",
      "Edema: 0.7920\n",
      "Enlarged Cardiomediastinum: 0.8914\n",
      "Fracture: 0.9805\n",
      "Lung Lesion: 0.9697\n",
      "Lung Opacity: 0.6929\n",
      "No Finding: 0.8513\n",
      "Pleural Effusion: 0.7721\n",
      "Pneumonia: 0.8280\n",
      "Pneumothorax: 0.9409\n",
      "\n",
      "Overall Accuracy: 0.8342\n"
     ]
    },
    {
     "name": "stderr",
     "output_type": "stream",
     "text": [
      "\n"
     ]
    },
    {
     "data": {
      "text/plain": [
       "{'mean_auc': 0.7385326376939899,\n",
       " 'overall_accuracy': 0.8341819416157502,\n",
       " 'per_label_auc': {'Atelectasis': 0.728506484928949,\n",
       "  'Cardiomegaly': 0.7179234057122972,\n",
       "  'Consolidation': 0.7243822860477023,\n",
       "  'Edema': 0.8185006674965032,\n",
       "  'Enlarged Cardiomediastinum': 0.6129545375355431,\n",
       "  'Fracture': 0.6693627595682673,\n",
       "  'Lung Lesion': 0.7154982293190831,\n",
       "  'Lung Opacity': 0.6953445868439125,\n",
       "  'No Finding': 0.789097471677259,\n",
       "  'Pleural Effusion': 0.8453723214391037,\n",
       "  'Pneumonia': 0.708457455519827,\n",
       "  'Pneumothorax': 0.8369914462394322},\n",
       " 'per_label_accuracy': {'Atelectasis': 0.6818284679791808,\n",
       "  'Cardiomegaly': 0.7046843177189409,\n",
       "  'Consolidation': 0.9047295768273365,\n",
       "  'Edema': 0.7920343969223806,\n",
       "  'Enlarged Cardiomediastinum': 0.891378139850645,\n",
       "  'Fracture': 0.9805385833899072,\n",
       "  'Lung Lesion': 0.9696763973749717,\n",
       "  'Lung Opacity': 0.6929169495360942,\n",
       "  'No Finding': 0.8513238289205702,\n",
       "  'Pleural Effusion': 0.7721203892283321,\n",
       "  'Pneumonia': 0.8280153880968545,\n",
       "  'Pneumothorax': 0.9409368635437881},\n",
       " 'predictions': array([[0, 0, 0, ..., 0, 1, 0],\n",
       "        [0, 0, 0, ..., 0, 0, 0],\n",
       "        [0, 0, 0, ..., 0, 0, 0],\n",
       "        ...,\n",
       "        [0, 0, 0, ..., 0, 0, 0],\n",
       "        [0, 0, 0, ..., 0, 1, 0],\n",
       "        [1, 0, 0, ..., 1, 0, 0]]),\n",
       " 'probabilities': array([[0.18419103, 0.1610104 , 0.03377151, ..., 0.18602726, 0.579578  ,\n",
       "         0.07151999],\n",
       "        [0.19386347, 0.35252118, 0.07837135, ..., 0.12718153, 0.38397586,\n",
       "         0.0467161 ],\n",
       "        [0.425888  , 0.3282128 , 0.0117811 , ..., 0.06685367, 0.0495669 ,\n",
       "         0.00891458],\n",
       "        ...,\n",
       "        [0.12083303, 0.3772249 , 0.12984759, ..., 0.47109914, 0.27691612,\n",
       "         0.00412654],\n",
       "        [0.09575408, 0.21355696, 0.28805873, ..., 0.4902857 , 0.65885794,\n",
       "         0.02428494],\n",
       "        [0.6322848 , 0.21515907, 0.08703341, ..., 0.5548818 , 0.07277136,\n",
       "         0.00939514]], dtype=float32),\n",
       " 'targets': array([[0., 1., 0., ..., 0., 0., 0.],\n",
       "        [0., 0., 0., ..., 0., 0., 0.],\n",
       "        [1., 1., 0., ..., 1., 1., 0.],\n",
       "        ...,\n",
       "        [0., 0., 0., ..., 1., 0., 0.],\n",
       "        [0., 1., 1., ..., 0., 1., 0.],\n",
       "        [1., 0., 0., ..., 1., 0., 0.]], dtype=float32)}"
      ]
     },
     "execution_count": 49,
     "metadata": {},
     "output_type": "execute_result"
    }
   ],
   "source": [
    "from sklearn.metrics import accuracy_score\n",
    "\n",
    "def test_model_densenet(model_path, test_loader, device):\n",
    "    model = models.densenet121(weights=None)\n",
    "    model.classifier = nn.Sequential(\n",
    "                nn.Dropout(0.1),\n",
    "                nn.Linear(model.classifier.in_features, num_labels),\n",
    "                nn.Sigmoid()\n",
    "            )  \n",
    "    model.load_state_dict(torch.load(model_path, map_location=device))\n",
    "    model = model.to(device)\n",
    "    model.eval()\n",
    "    print(f\"Model loaded from {model_path}\")\n",
    "    all_outputs = []\n",
    "    all_targets = []\n",
    "\n",
    "    with torch.no_grad():\n",
    "        for images, labels in tqdm(test_loader, desc='Testing'):\n",
    "            images = images.to(device)\n",
    "            labels = labels.to(device)\n",
    "\n",
    "            outputs = model(images)\n",
    "\n",
    "            all_outputs.append(outputs.cpu().numpy())\n",
    "            all_targets.append(labels.cpu().numpy())\n",
    "\n",
    "    # Concatenate all batches\n",
    "    all_outputs = np.concatenate(all_outputs, axis=0)\n",
    "    all_targets = np.concatenate(all_targets, axis=0)\n",
    "\n",
    "    # Calculate AUC for each label\n",
    "    auc_scores = []\n",
    "    label_names = [\n",
    "        'Atelectasis', 'Cardiomegaly', 'Consolidation', 'Edema',\n",
    "        'Enlarged Cardiomediastinum', 'Fracture', 'Lung Lesion',\n",
    "        'Lung Opacity', 'No Finding', 'Pleural Effusion',\n",
    "        'Pneumonia', 'Pneumothorax'\n",
    "    ]\n",
    "\n",
    "    print(\"\\nPer-label AUC scores:\")\n",
    "    for i, label_name in enumerate(label_names):\n",
    "        try:\n",
    "            if len(np.unique(all_targets[:, i])) > 1:  # Check if both classes are present\n",
    "                auc = roc_auc_score(all_targets[:, i], all_outputs[:, i])\n",
    "                auc_scores.append(auc)\n",
    "                print(f\"{label_name}: {auc:.4f}\")\n",
    "            else:\n",
    "                print(f\"{label_name}: Cannot calculate AUC (only one class present)\")\n",
    "        except ValueError:\n",
    "            print(f\"{label_name}: Error calculating AUC\")\n",
    "\n",
    "    # Calculate mean AUC\n",
    "    mean_auc = np.mean(auc_scores) if auc_scores else 0.0\n",
    "    print(f\"\\nMean AUC: {mean_auc:.4f}\")\n",
    "\n",
    "    # Calculate accuracy using threshold\n",
    "    predictions = (all_outputs >= 0.5).astype(int)\n",
    "\n",
    "    # Calculate per-label accuracy\n",
    "    print(\"\\nPer-label Accuracy:\")\n",
    "    for i, label_name in enumerate(label_names):\n",
    "        acc = accuracy_score(all_targets[:, i], predictions[:, i])\n",
    "        print(f\"{label_name}: {acc:.4f}\")\n",
    "\n",
    "    # Calculate overall accuracy\n",
    "    overall_accuracy = accuracy_score(all_targets.flatten(), predictions.flatten())\n",
    "    print(f\"\\nOverall Accuracy: {overall_accuracy:.4f}\")\n",
    "    return {\n",
    "        'mean_auc': mean_auc,\n",
    "        'overall_accuracy': overall_accuracy,\n",
    "        'per_label_auc': dict(zip(label_names, auc_scores)),\n",
    "        'per_label_accuracy': {label_names[i]: accuracy_score(all_targets[:, i], predictions[:, i])\n",
    "                              for i in range(len(label_names))},\n",
    "        'predictions': predictions,\n",
    "        'probabilities': all_outputs,\n",
    "        'targets': all_targets\n",
    "    }\n",
    "\n",
    "test_model_densenet(\"best_model_densenet.pth\", test_loader_densenet, device)"
   ]
  },
  {
   "cell_type": "markdown",
   "id": "608d486c",
   "metadata": {},
   "source": [
    "# VisionTransformer"
   ]
  },
  {
   "cell_type": "code",
   "execution_count": 50,
   "id": "9eed1403",
   "metadata": {},
   "outputs": [
    {
     "name": "stdout",
     "output_type": "stream",
     "text": [
      "Model loaded from best_model_vit.pth\n"
     ]
    },
    {
     "name": "stderr",
     "output_type": "stream",
     "text": [
      "Testing: 100%|██████████| 93/93 [00:16<00:00,  5.74it/s]"
     ]
    },
    {
     "name": "stdout",
     "output_type": "stream",
     "text": [
      "\n",
      "Per-label AUC scores:\n",
      "Atelectasis: 0.7300\n",
      "Cardiomegaly: 0.7238\n",
      "Consolidation: 0.7332\n",
      "Edema: 0.8152\n",
      "Enlarged Cardiomediastinum: 0.6097\n",
      "Fracture: 0.5850\n",
      "Lung Lesion: 0.6898\n",
      "Lung Opacity: 0.6927\n",
      "No Finding: 0.7960\n",
      "Pleural Effusion: 0.8422\n",
      "Pneumonia: 0.7012\n",
      "Pneumothorax: 0.8207\n",
      "\n",
      "Mean AUC: 0.7283\n",
      "\n",
      "Per-label Accuracy:\n",
      "Atelectasis: 0.6832\n",
      "Cardiomegaly: 0.7099\n",
      "Consolidation: 0.9052\n",
      "Edema: 0.7862\n",
      "Enlarged Cardiomediastinum: 0.8912\n",
      "Fracture: 0.9805\n",
      "Lung Lesion: 0.9701\n",
      "Lung Opacity: 0.6952\n",
      "No Finding: 0.8362\n",
      "Pleural Effusion: 0.7687\n",
      "Pneumonia: 0.8226\n",
      "Pneumothorax: 0.9391\n",
      "\n",
      "Overall Accuracy: 0.8323\n"
     ]
    },
    {
     "name": "stderr",
     "output_type": "stream",
     "text": [
      "\n"
     ]
    },
    {
     "data": {
      "text/plain": [
       "{'mean_auc': 0.7282909936276716,\n",
       " 'overall_accuracy': 0.8323338613562646,\n",
       " 'per_label_auc': {'Atelectasis': 0.730022097789997,\n",
       "  'Cardiomegaly': 0.723791508919442,\n",
       "  'Consolidation': 0.7332029435930411,\n",
       "  'Edema': 0.8151913180335526,\n",
       "  'Enlarged Cardiomediastinum': 0.6096992996434337,\n",
       "  'Fracture': 0.5849940156398434,\n",
       "  'Lung Lesion': 0.6898162874370013,\n",
       "  'Lung Opacity': 0.6926877545546375,\n",
       "  'No Finding': 0.7959577922077921,\n",
       "  'Pleural Effusion': 0.8422104978485008,\n",
       "  'Pneumonia': 0.7012204316241567,\n",
       "  'Pneumothorax': 0.8206979762406603},\n",
       " 'per_label_accuracy': {'Atelectasis': 0.6831862412310478,\n",
       "  'Cardiomegaly': 0.7098891151844309,\n",
       "  'Consolidation': 0.9051821679112921,\n",
       "  'Edema': 0.7861507128309573,\n",
       "  'Enlarged Cardiomediastinum': 0.8911518443086671,\n",
       "  'Fracture': 0.9805385833899072,\n",
       "  'Lung Lesion': 0.9701289884589274,\n",
       "  'Lung Opacity': 0.6951799049558723,\n",
       "  'No Finding': 0.8361620276080561,\n",
       "  'Pleural Effusion': 0.7687259560986649,\n",
       "  'Pneumonia': 0.8225842950893867,\n",
       "  'Pneumothorax': 0.9391264992079656},\n",
       " 'predictions': array([[0, 0, 0, ..., 0, 0, 0],\n",
       "        [0, 1, 0, ..., 0, 0, 0],\n",
       "        [0, 0, 0, ..., 0, 0, 0],\n",
       "        ...,\n",
       "        [0, 0, 0, ..., 1, 0, 0],\n",
       "        [0, 0, 0, ..., 1, 0, 0],\n",
       "        [0, 0, 0, ..., 1, 0, 0]]),\n",
       " 'probabilities': array([[0.08838371, 0.31954053, 0.05301893, ..., 0.16784976, 0.42467102,\n",
       "         0.04626926],\n",
       "        [0.23259382, 0.50329524, 0.04974912, ..., 0.09127325, 0.12967376,\n",
       "         0.01736345],\n",
       "        [0.32938784, 0.2181929 , 0.01633114, ..., 0.09611768, 0.04524993,\n",
       "         0.0074986 ],\n",
       "        ...,\n",
       "        [0.10261438, 0.36111304, 0.25272378, ..., 0.63394636, 0.3995828 ,\n",
       "         0.01543888],\n",
       "        [0.06035933, 0.19303553, 0.2494989 , ..., 0.57232845, 0.454253  ,\n",
       "         0.05034194],\n",
       "        [0.48681957, 0.13620065, 0.07770645, ..., 0.5573349 , 0.10854787,\n",
       "         0.01214052]], dtype=float32),\n",
       " 'targets': array([[0., 1., 0., ..., 0., 0., 0.],\n",
       "        [0., 0., 0., ..., 0., 0., 0.],\n",
       "        [1., 1., 0., ..., 1., 1., 0.],\n",
       "        ...,\n",
       "        [0., 0., 0., ..., 1., 0., 0.],\n",
       "        [0., 1., 1., ..., 0., 1., 0.],\n",
       "        [1., 0., 0., ..., 1., 0., 0.]], dtype=float32)}"
      ]
     },
     "execution_count": 50,
     "metadata": {},
     "output_type": "execute_result"
    }
   ],
   "source": [
    "\n",
    "def test_model_vit(model_path, test_loader, device):\n",
    "    model = models.vit_b_16(weights=None)\n",
    "    model.heads = nn.Sequential(\n",
    "                nn.Dropout(0.1),\n",
    "                nn.Linear(model.heads.head.in_features, num_labels),\n",
    "                nn.Sigmoid()\n",
    "            )  \n",
    "    model.load_state_dict(torch.load(model_path, map_location=device))\n",
    "    model = model.to(device)\n",
    "    model.eval()\n",
    "    print(f\"Model loaded from {model_path}\")\n",
    "    all_outputs = []\n",
    "    all_targets = []\n",
    "\n",
    "    with torch.no_grad():\n",
    "        for images, labels in tqdm(test_loader, desc='Testing'):\n",
    "            images = images.to(device)\n",
    "            labels = labels.to(device)\n",
    "\n",
    "            outputs = model(images)\n",
    "\n",
    "            all_outputs.append(outputs.cpu().numpy())\n",
    "            all_targets.append(labels.cpu().numpy())\n",
    "\n",
    "    # Concatenate all batches\n",
    "    all_outputs = np.concatenate(all_outputs, axis=0)\n",
    "    all_targets = np.concatenate(all_targets, axis=0)\n",
    "\n",
    "    # Calculate AUC for each label\n",
    "    auc_scores = []\n",
    "    label_names = [\n",
    "        'Atelectasis', 'Cardiomegaly', 'Consolidation', 'Edema',\n",
    "        'Enlarged Cardiomediastinum', 'Fracture', 'Lung Lesion',\n",
    "        'Lung Opacity', 'No Finding', 'Pleural Effusion',\n",
    "        'Pneumonia', 'Pneumothorax'\n",
    "    ]\n",
    "\n",
    "    print(\"\\nPer-label AUC scores:\")\n",
    "    for i, label_name in enumerate(label_names):\n",
    "        try:\n",
    "            if len(np.unique(all_targets[:, i])) > 1:  # Check if both classes are present\n",
    "                auc = roc_auc_score(all_targets[:, i], all_outputs[:, i])\n",
    "                auc_scores.append(auc)\n",
    "                print(f\"{label_name}: {auc:.4f}\")\n",
    "            else:\n",
    "                print(f\"{label_name}: Cannot calculate AUC (only one class present)\")\n",
    "        except ValueError:\n",
    "            print(f\"{label_name}: Error calculating AUC\")\n",
    "\n",
    "    # Calculate mean AUC\n",
    "    mean_auc = np.mean(auc_scores) if auc_scores else 0.0\n",
    "    print(f\"\\nMean AUC: {mean_auc:.4f}\")\n",
    "\n",
    "    # Calculate accuracy using threshold\n",
    "    predictions = (all_outputs >= 0.5).astype(int)\n",
    "\n",
    "    # Calculate per-label accuracy\n",
    "    print(\"\\nPer-label Accuracy:\")\n",
    "    for i, label_name in enumerate(label_names):\n",
    "        acc = accuracy_score(all_targets[:, i], predictions[:, i])\n",
    "        print(f\"{label_name}: {acc:.4f}\")\n",
    "\n",
    "    # Calculate overall accuracy\n",
    "    overall_accuracy = accuracy_score(all_targets.flatten(), predictions.flatten())\n",
    "    print(f\"\\nOverall Accuracy: {overall_accuracy:.4f}\")\n",
    "    return {\n",
    "        'mean_auc': mean_auc,\n",
    "        'overall_accuracy': overall_accuracy,\n",
    "        'per_label_auc': dict(zip(label_names, auc_scores)),\n",
    "        'per_label_accuracy': {label_names[i]: accuracy_score(all_targets[:, i], predictions[:, i])\n",
    "                              for i in range(len(label_names))},\n",
    "        'predictions': predictions,\n",
    "        'probabilities': all_outputs,\n",
    "        'targets': all_targets\n",
    "    }\n",
    "\n",
    "test_model_vit(\"best_model_vit.pth\", test_loader_vit, device)"
   ]
  },
  {
   "cell_type": "markdown",
   "id": "83a62279",
   "metadata": {},
   "source": [
    "# ResNet101"
   ]
  },
  {
   "cell_type": "code",
   "execution_count": 51,
   "id": "8bb249a2",
   "metadata": {},
   "outputs": [
    {
     "name": "stdout",
     "output_type": "stream",
     "text": [
      "Model loaded from best_model_resnet.pth\n"
     ]
    },
    {
     "name": "stderr",
     "output_type": "stream",
     "text": [
      "Testing: 100%|██████████| 70/70 [00:15<00:00,  4.60it/s]"
     ]
    },
    {
     "name": "stdout",
     "output_type": "stream",
     "text": [
      "\n",
      "Per-label AUC scores:\n",
      "Atelectasis: 0.7210\n",
      "Cardiomegaly: 0.7078\n",
      "Consolidation: 0.7333\n",
      "Edema: 0.8151\n",
      "Enlarged Cardiomediastinum: 0.6112\n",
      "Fracture: 0.6478\n",
      "Lung Lesion: 0.7193\n",
      "Lung Opacity: 0.6945\n",
      "No Finding: 0.7851\n",
      "Pleural Effusion: 0.8446\n",
      "Pneumonia: 0.7063\n",
      "Pneumothorax: 0.8310\n",
      "\n",
      "Mean AUC: 0.7348\n",
      "\n",
      "Per-label Accuracy:\n",
      "Atelectasis: 0.6707\n",
      "Cardiomegaly: 0.7067\n",
      "Consolidation: 0.9041\n",
      "Edema: 0.7868\n",
      "Enlarged Cardiomediastinum: 0.8900\n",
      "Fracture: 0.9805\n",
      "Lung Lesion: 0.9642\n",
      "Lung Opacity: 0.6886\n",
      "No Finding: 0.8439\n",
      "Pleural Effusion: 0.7708\n",
      "Pneumonia: 0.8258\n",
      "Pneumothorax: 0.9394\n",
      "\n",
      "Overall Accuracy: 0.8310\n"
     ]
    },
    {
     "name": "stderr",
     "output_type": "stream",
     "text": [
      "\n"
     ]
    },
    {
     "data": {
      "text/plain": [
       "{'mean_auc': 0.7347580647096441,\n",
       " 'overall_accuracy': 0.8309572301425662,\n",
       " 'per_label_auc': {'Atelectasis': 0.7210298420914764,\n",
       "  'Cardiomegaly': 0.7077578892322143,\n",
       "  'Consolidation': 0.7333142809511901,\n",
       "  'Edema': 0.8151228432431573,\n",
       "  'Enlarged Cardiomediastinum': 0.6112450888987202,\n",
       "  'Fracture': 0.6477895437395005,\n",
       "  'Lung Lesion': 0.7193276360526186,\n",
       "  'Lung Opacity': 0.6944630977813203,\n",
       "  'No Finding': 0.7851378143133463,\n",
       "  'Pleural Effusion': 0.8446184556652216,\n",
       "  'Pneumonia': 0.7062656422813616,\n",
       "  'Pneumothorax': 0.8310246422656015},\n",
       " 'per_label_accuracy': {'Atelectasis': 0.6707399864222675,\n",
       "  'Cardiomegaly': 0.7067209775967414,\n",
       "  'Consolidation': 0.904050690201403,\n",
       "  'Edema': 0.7868295994568907,\n",
       "  'Enlarged Cardiomediastinum': 0.890020366598778,\n",
       "  'Fracture': 0.9805385833899072,\n",
       "  'Lung Lesion': 0.964245304367504,\n",
       "  'Lung Opacity': 0.6886173342385155,\n",
       "  'No Finding': 0.8438560760353021,\n",
       "  'Pleural Effusion': 0.7707626159764652,\n",
       "  'Pneumonia': 0.8257524326770762,\n",
       "  'Pneumothorax': 0.9393527947499434},\n",
       " 'predictions': array([[0, 0, 0, ..., 0, 0, 0],\n",
       "        [0, 0, 0, ..., 0, 0, 0],\n",
       "        [0, 0, 0, ..., 0, 0, 0],\n",
       "        ...,\n",
       "        [0, 0, 0, ..., 1, 1, 0],\n",
       "        [0, 0, 0, ..., 0, 0, 0],\n",
       "        [0, 0, 0, ..., 1, 0, 0]]),\n",
       " 'probabilities': array([[0.11816064, 0.267895  , 0.02689017, ..., 0.22136863, 0.29109165,\n",
       "         0.0375429 ],\n",
       "        [0.3054849 , 0.45769218, 0.05360962, ..., 0.08315627, 0.37841156,\n",
       "         0.01618356],\n",
       "        [0.31597024, 0.39640665, 0.00709861, ..., 0.01496298, 0.0318011 ,\n",
       "         0.00085953],\n",
       "        ...,\n",
       "        [0.3179207 , 0.45891106, 0.23641565, ..., 0.57895374, 0.59955204,\n",
       "         0.00106463],\n",
       "        [0.14591289, 0.28300458, 0.29885486, ..., 0.40764648, 0.30309102,\n",
       "         0.03792952],\n",
       "        [0.4967397 , 0.1747671 , 0.06599281, ..., 0.58355004, 0.06439952,\n",
       "         0.01097867]], dtype=float32),\n",
       " 'targets': array([[0., 1., 0., ..., 0., 0., 0.],\n",
       "        [0., 0., 0., ..., 0., 0., 0.],\n",
       "        [1., 1., 0., ..., 1., 1., 0.],\n",
       "        ...,\n",
       "        [0., 0., 0., ..., 1., 0., 0.],\n",
       "        [0., 1., 1., ..., 0., 1., 0.],\n",
       "        [1., 0., 0., ..., 1., 0., 0.]], dtype=float32)}"
      ]
     },
     "execution_count": 51,
     "metadata": {},
     "output_type": "execute_result"
    }
   ],
   "source": [
    "\n",
    "def test_model_resnet(model_path, test_loader, device):\n",
    "    model = models.resnet101(weights=None)\n",
    "    model.fc = nn.Sequential(\n",
    "                nn.Dropout(0.2),\n",
    "                nn.Linear(model.fc.in_features, num_labels),\n",
    "                nn.Sigmoid()\n",
    "            )  \n",
    "    model.load_state_dict(torch.load(model_path, map_location=device))\n",
    "    model = model.to(device)\n",
    "    model.eval()\n",
    "    print(f\"Model loaded from {model_path}\")\n",
    "    all_outputs = []\n",
    "    all_targets = []\n",
    "\n",
    "    with torch.no_grad():\n",
    "        for images, labels in tqdm(test_loader, desc='Testing'):\n",
    "            images = images.to(device)\n",
    "            labels = labels.to(device)\n",
    "\n",
    "            outputs = model(images)\n",
    "\n",
    "            all_outputs.append(outputs.cpu().numpy())\n",
    "            all_targets.append(labels.cpu().numpy())\n",
    "\n",
    "    # Concatenate all batches\n",
    "    all_outputs = np.concatenate(all_outputs, axis=0)\n",
    "    all_targets = np.concatenate(all_targets, axis=0)\n",
    "\n",
    "    # Calculate AUC for each label\n",
    "    auc_scores = []\n",
    "    label_names = [\n",
    "        'Atelectasis', 'Cardiomegaly', 'Consolidation', 'Edema',\n",
    "        'Enlarged Cardiomediastinum', 'Fracture', 'Lung Lesion',\n",
    "        'Lung Opacity', 'No Finding', 'Pleural Effusion',\n",
    "        'Pneumonia', 'Pneumothorax'\n",
    "    ]\n",
    "\n",
    "    print(\"\\nPer-label AUC scores:\")\n",
    "    for i, label_name in enumerate(label_names):\n",
    "        try:\n",
    "            if len(np.unique(all_targets[:, i])) > 1:  # Check if both classes are present\n",
    "                auc = roc_auc_score(all_targets[:, i], all_outputs[:, i])\n",
    "                auc_scores.append(auc)\n",
    "                print(f\"{label_name}: {auc:.4f}\")\n",
    "            else:\n",
    "                print(f\"{label_name}: Cannot calculate AUC (only one class present)\")\n",
    "        except ValueError:\n",
    "            print(f\"{label_name}: Error calculating AUC\")\n",
    "\n",
    "    # Calculate mean AUC\n",
    "    mean_auc = np.mean(auc_scores) if auc_scores else 0.0\n",
    "    print(f\"\\nMean AUC: {mean_auc:.4f}\")\n",
    "\n",
    "    # Calculate accuracy using threshold\n",
    "    predictions = (all_outputs >= 0.5).astype(int)\n",
    "\n",
    "    # Calculate per-label accuracy\n",
    "    print(\"\\nPer-label Accuracy:\")\n",
    "    for i, label_name in enumerate(label_names):\n",
    "        acc = accuracy_score(all_targets[:, i], predictions[:, i])\n",
    "        print(f\"{label_name}: {acc:.4f}\")\n",
    "\n",
    "    # Calculate overall accuracy\n",
    "    overall_accuracy = accuracy_score(all_targets.flatten(), predictions.flatten())\n",
    "    print(f\"\\nOverall Accuracy: {overall_accuracy:.4f}\")\n",
    "    return {\n",
    "        'mean_auc': mean_auc,\n",
    "        'overall_accuracy': overall_accuracy,\n",
    "        'per_label_auc': dict(zip(label_names, auc_scores)),\n",
    "        'per_label_accuracy': {label_names[i]: accuracy_score(all_targets[:, i], predictions[:, i])\n",
    "                              for i in range(len(label_names))},\n",
    "        'predictions': predictions,\n",
    "        'probabilities': all_outputs,\n",
    "        'targets': all_targets\n",
    "    }\n",
    "\n",
    "test_model_resnet(\"best_model_resnet.pth\", test_loader_resnet, device)"
   ]
  }
 ],
 "metadata": {
  "kernelspec": {
   "display_name": "Python 3",
   "language": "python",
   "name": "python3"
  },
  "language_info": {
   "codemirror_mode": {
    "name": "ipython",
    "version": 3
   },
   "file_extension": ".py",
   "mimetype": "text/x-python",
   "name": "python",
   "nbconvert_exporter": "python",
   "pygments_lexer": "ipython3",
   "version": "3.10.7"
  }
 },
 "nbformat": 4,
 "nbformat_minor": 5
}
